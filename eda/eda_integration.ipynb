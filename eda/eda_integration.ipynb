{
 "cells": [
  {
   "cell_type": "code",
   "execution_count": 1,
   "metadata": {},
   "outputs": [],
   "source": [
    "import pandas as pd\n",
    "import numpy as np\n",
    "# import ydata_profiling\n",
    "from datetime import datetime\n",
    "import matplotlib.pyplot as plt\n",
    "import seaborn as sns\n",
    "import os\n",
    "from math import pi\n",
    "from matplotlib.path import Path\n",
    "from matplotlib.spines import Spine\n",
    "from matplotlib.transforms import Affine2D\n",
    "import json\n",
    "from collections import Counter\n",
    "\n",
    "import warnings\n",
    "warnings.filterwarnings('ignore')"
   ]
  },
  {
   "cell_type": "markdown",
   "metadata": {},
   "source": [
    "## 공통 전처리"
   ]
  },
  {
   "cell_type": "code",
   "execution_count": 2,
   "metadata": {},
   "outputs": [
    {
     "name": "stdout",
     "output_type": "stream",
     "text": [
      "CPU times: user 9.87 s, sys: 808 ms, total: 10.7 s\n",
      "Wall time: 10.7 s\n"
     ]
    }
   ],
   "source": [
    "%%time\n",
    "dtype = {\n",
    "    'userID': 'int16',\n",
    "    'answerCode': 'int8',\n",
    "    'KnowledgeTag': 'int16'\n",
    "}   \n",
    "\n",
    "# data set load\n",
    "DATA_PATH = '/opt/ml/input/data'\n",
    "train_path = os.path.join(DATA_PATH, 'train_data.csv')\n",
    "test_path = os.path.join(DATA_PATH, 'test_data.csv')\n",
    "\n",
    "train_df = pd.read_csv(train_path, dtype=dtype, parse_dates=['Timestamp'])\n",
    "test_df = pd.read_csv(test_path, dtype=dtype, parse_dates=['Timestamp'])\n",
    "\n",
    "diff_train = train_df.loc[:, ['userID', 'Timestamp']].groupby('userID').diff().shift(-1)\n",
    "\n",
    "# total_seconds(): 모든 속성을 초단위로 모아서 변환\n",
    "diff_train = diff_train['Timestamp'].apply(lambda x: x.total_seconds())\n",
    "\n",
    "train_df['elapsed'] = diff_train\n",
    "\n",
    "\n",
    "\n",
    "test_df = pd.read_csv('/opt/ml/input/data/test_data.csv', dtype=dtype, parse_dates=['Timestamp'])\n",
    "\n",
    "\n",
    "diff_test = test_df.loc[:, ['userID', 'Timestamp']].groupby('userID').diff().shift(-1)\n",
    "\n",
    "# total_seconds(): 모든 속성을 초단위로 모아서 변환\n",
    "diff_test = diff_test['Timestamp'].apply(lambda x: x.total_seconds())\n",
    "\n",
    "test_df['elapsed'] = diff_test\n",
    "test_df = test_df[test_df['answerCode'] != -1]\n",
    "test_df = test_df.sort_values(by=['userID', 'Timestamp']).reset_index(drop=True)\n",
    "\n",
    "\n",
    "df = pd.concat([train_df, test_df])\n",
    "# df = df.drop(df[df['answerCode']== -1].index) # answerCode = -1 는 예측해야하는 값이므로 제외'Affine\n",
    "\n",
    "import pytz\n",
    "kst = pytz.timezone('Asia/Seoul')\n",
    "df['Timestamp'] = df['Timestamp'].dt.tz_localize('UTC').dt.tz_convert(kst)"
   ]
  },
  {
   "cell_type": "markdown",
   "metadata": {},
   "source": [
    "### Feature Engineering\n",
    "testID의 1~3번째 자리를 이용한 대분류인 testCode 생성"
   ]
  },
  {
   "cell_type": "code",
   "execution_count": 3,
   "metadata": {},
   "outputs": [],
   "source": [
    "df['testCode'] = df['testId'].apply(lambda x : x[1:4])\n",
    "\n",
    "#testCode 1~9의 정수형 값으로 변환\n",
    "df['testCode'] = df['testCode'].astype('int') //10"
   ]
  },
  {
   "cell_type": "code",
   "execution_count": 4,
   "metadata": {},
   "outputs": [
    {
     "data": {
      "text/html": [
       "<div>\n",
       "<style scoped>\n",
       "    .dataframe tbody tr th:only-of-type {\n",
       "        vertical-align: middle;\n",
       "    }\n",
       "\n",
       "    .dataframe tbody tr th {\n",
       "        vertical-align: top;\n",
       "    }\n",
       "\n",
       "    .dataframe thead th {\n",
       "        text-align: right;\n",
       "    }\n",
       "</style>\n",
       "<table border=\"1\" class=\"dataframe\">\n",
       "  <thead>\n",
       "    <tr style=\"text-align: right;\">\n",
       "      <th></th>\n",
       "      <th>userID</th>\n",
       "      <th>assessmentItemID</th>\n",
       "      <th>testId</th>\n",
       "      <th>answerCode</th>\n",
       "      <th>Timestamp</th>\n",
       "      <th>KnowledgeTag</th>\n",
       "      <th>elapsed</th>\n",
       "      <th>testCode</th>\n",
       "    </tr>\n",
       "  </thead>\n",
       "  <tbody>\n",
       "    <tr>\n",
       "      <th>0</th>\n",
       "      <td>0</td>\n",
       "      <td>A060001001</td>\n",
       "      <td>A060000001</td>\n",
       "      <td>1</td>\n",
       "      <td>2020-03-24 09:17:11+09:00</td>\n",
       "      <td>7224</td>\n",
       "      <td>3.0</td>\n",
       "      <td>6</td>\n",
       "    </tr>\n",
       "    <tr>\n",
       "      <th>1</th>\n",
       "      <td>0</td>\n",
       "      <td>A060001002</td>\n",
       "      <td>A060000001</td>\n",
       "      <td>1</td>\n",
       "      <td>2020-03-24 09:17:14+09:00</td>\n",
       "      <td>7225</td>\n",
       "      <td>8.0</td>\n",
       "      <td>6</td>\n",
       "    </tr>\n",
       "    <tr>\n",
       "      <th>2</th>\n",
       "      <td>0</td>\n",
       "      <td>A060001003</td>\n",
       "      <td>A060000001</td>\n",
       "      <td>1</td>\n",
       "      <td>2020-03-24 09:17:22+09:00</td>\n",
       "      <td>7225</td>\n",
       "      <td>7.0</td>\n",
       "      <td>6</td>\n",
       "    </tr>\n",
       "    <tr>\n",
       "      <th>3</th>\n",
       "      <td>0</td>\n",
       "      <td>A060001004</td>\n",
       "      <td>A060000001</td>\n",
       "      <td>1</td>\n",
       "      <td>2020-03-24 09:17:29+09:00</td>\n",
       "      <td>7225</td>\n",
       "      <td>7.0</td>\n",
       "      <td>6</td>\n",
       "    </tr>\n",
       "    <tr>\n",
       "      <th>4</th>\n",
       "      <td>0</td>\n",
       "      <td>A060001005</td>\n",
       "      <td>A060000001</td>\n",
       "      <td>1</td>\n",
       "      <td>2020-03-24 09:17:36+09:00</td>\n",
       "      <td>7225</td>\n",
       "      <td>11.0</td>\n",
       "      <td>6</td>\n",
       "    </tr>\n",
       "    <tr>\n",
       "      <th>...</th>\n",
       "      <td>...</td>\n",
       "      <td>...</td>\n",
       "      <td>...</td>\n",
       "      <td>...</td>\n",
       "      <td>...</td>\n",
       "      <td>...</td>\n",
       "      <td>...</td>\n",
       "      <td>...</td>\n",
       "    </tr>\n",
       "    <tr>\n",
       "      <th>259365</th>\n",
       "      <td>7439</td>\n",
       "      <td>A040197006</td>\n",
       "      <td>A040000197</td>\n",
       "      <td>1</td>\n",
       "      <td>2020-08-21 16:39:45+09:00</td>\n",
       "      <td>2132</td>\n",
       "      <td>4721258.0</td>\n",
       "      <td>4</td>\n",
       "    </tr>\n",
       "    <tr>\n",
       "      <th>259366</th>\n",
       "      <td>7439</td>\n",
       "      <td>A040130001</td>\n",
       "      <td>A040000130</td>\n",
       "      <td>0</td>\n",
       "      <td>2020-10-15 08:07:23+09:00</td>\n",
       "      <td>8832</td>\n",
       "      <td>18.0</td>\n",
       "      <td>4</td>\n",
       "    </tr>\n",
       "    <tr>\n",
       "      <th>259367</th>\n",
       "      <td>7439</td>\n",
       "      <td>A040130002</td>\n",
       "      <td>A040000130</td>\n",
       "      <td>1</td>\n",
       "      <td>2020-10-15 08:07:41+09:00</td>\n",
       "      <td>8832</td>\n",
       "      <td>21.0</td>\n",
       "      <td>4</td>\n",
       "    </tr>\n",
       "    <tr>\n",
       "      <th>259368</th>\n",
       "      <td>7439</td>\n",
       "      <td>A040130003</td>\n",
       "      <td>A040000130</td>\n",
       "      <td>1</td>\n",
       "      <td>2020-10-15 08:08:02+09:00</td>\n",
       "      <td>8244</td>\n",
       "      <td>89.0</td>\n",
       "      <td>4</td>\n",
       "    </tr>\n",
       "    <tr>\n",
       "      <th>259369</th>\n",
       "      <td>7439</td>\n",
       "      <td>A040130004</td>\n",
       "      <td>A040000130</td>\n",
       "      <td>1</td>\n",
       "      <td>2020-10-15 08:09:31+09:00</td>\n",
       "      <td>8244</td>\n",
       "      <td>32.0</td>\n",
       "      <td>4</td>\n",
       "    </tr>\n",
       "  </tbody>\n",
       "</table>\n",
       "<p>2525956 rows × 8 columns</p>\n",
       "</div>"
      ],
      "text/plain": [
       "        userID assessmentItemID      testId  answerCode   \n",
       "0            0       A060001001  A060000001           1  \\\n",
       "1            0       A060001002  A060000001           1   \n",
       "2            0       A060001003  A060000001           1   \n",
       "3            0       A060001004  A060000001           1   \n",
       "4            0       A060001005  A060000001           1   \n",
       "...        ...              ...         ...         ...   \n",
       "259365    7439       A040197006  A040000197           1   \n",
       "259366    7439       A040130001  A040000130           0   \n",
       "259367    7439       A040130002  A040000130           1   \n",
       "259368    7439       A040130003  A040000130           1   \n",
       "259369    7439       A040130004  A040000130           1   \n",
       "\n",
       "                       Timestamp  KnowledgeTag    elapsed  testCode  \n",
       "0      2020-03-24 09:17:11+09:00          7224        3.0         6  \n",
       "1      2020-03-24 09:17:14+09:00          7225        8.0         6  \n",
       "2      2020-03-24 09:17:22+09:00          7225        7.0         6  \n",
       "3      2020-03-24 09:17:29+09:00          7225        7.0         6  \n",
       "4      2020-03-24 09:17:36+09:00          7225       11.0         6  \n",
       "...                          ...           ...        ...       ...  \n",
       "259365 2020-08-21 16:39:45+09:00          2132  4721258.0         4  \n",
       "259366 2020-10-15 08:07:23+09:00          8832       18.0         4  \n",
       "259367 2020-10-15 08:07:41+09:00          8832       21.0         4  \n",
       "259368 2020-10-15 08:08:02+09:00          8244       89.0         4  \n",
       "259369 2020-10-15 08:09:31+09:00          8244       32.0         4  \n",
       "\n",
       "[2525956 rows x 8 columns]"
      ]
     },
     "execution_count": 4,
     "metadata": {},
     "output_type": "execute_result"
    }
   ],
   "source": [
    "df"
   ]
  },
  {
   "cell_type": "markdown",
   "metadata": {},
   "source": [
    "## Overview"
   ]
  },
  {
   "cell_type": "markdown",
   "metadata": {},
   "source": [
    "+ `userID` 사용자의 고유 번호입니다. 총 7,442명의 학생이 있습니다. 이 중 train data에는 6698명이, test data에는 744명이 존재합니다.   \n",
    "+ `assessmentItemID` 사용자가 푼 문항의 일련 번호입니다.   \n",
    "+ `testId` 사용자가 푼 문항이 포함된 시험지의 일련 번호입니다.   \n",
    "+ `answerCode` 사용자가 푼 문항의 정답 여부를 담고 있는 이진 (0/1) 데이터입니다.   \n",
    "+ `Timestamp` 사용자가 문항을 푼 시간 정보입니다.   \n",
    "+ `KnowledgeTag` 사용자가 푼 문항의 고유 태그가 담겨져 있습니다."
   ]
  },
  {
   "cell_type": "code",
   "execution_count": 5,
   "metadata": {},
   "outputs": [
    {
     "name": "stdout",
     "output_type": "stream",
     "text": [
      "--- BASIC INFORMATIONS ---\n",
      "userID           : 7442\n",
      "assessmentItemID : 9454\n",
      "testID           : 1537\n",
      "mean answer rate : 65.46%\n",
      "KnowledgeTag     : 912\n",
      "--------------------------\n"
     ]
    }
   ],
   "source": [
    "print(f\"\"\"--- BASIC INFORMATIONS ---\n",
    "userID           : {df.userID.nunique()}\n",
    "assessmentItemID : {df.assessmentItemID.nunique()}\n",
    "testID           : {df.testId.nunique()}\n",
    "mean answer rate : {df.answerCode.sum() / df.shape[0] * 100:.2f}%\n",
    "KnowledgeTag     : {df.KnowledgeTag.nunique()}\n",
    "{'-'*26}\"\"\")"
   ]
  },
  {
   "cell_type": "markdown",
   "metadata": {},
   "source": [
    "0과 1의 데이터 분포 파악"
   ]
  },
  {
   "cell_type": "code",
   "execution_count": 6,
   "metadata": {},
   "outputs": [
    {
     "data": {
      "text/plain": [
       "Text(0.5, 1.0, 'Distribution of answerCode=0')"
      ]
     },
     "execution_count": 6,
     "metadata": {},
     "output_type": "execute_result"
    },
    {
     "data": {
      "image/png": "[encoded data removed]",
      "text/plain": [
       "<Figure size 640x480 with 1 Axes>"
      ]
     },
     "metadata": {},
     "output_type": "display_data"
    }
   ],
   "source": [
    "df.answerCode.value_counts()\n",
    "sns.countplot(data=df, x='answerCode').set_title('Distribution of answerCode=0')"
   ]
  },
  {
   "cell_type": "markdown",
   "metadata": {},
   "source": [
    "assessmentItemID의 맨 앞자리가 A로 시작하는지 확인"
   ]
  },
  {
   "cell_type": "code",
   "execution_count": 7,
   "metadata": {},
   "outputs": [
    {
     "data": {
      "text/plain": [
       "array(['A'], dtype=object)"
      ]
     },
     "execution_count": 7,
     "metadata": {},
     "output_type": "execute_result"
    }
   ],
   "source": [
    "df['assessmentItemID'].apply(lambda x: x[0]).unique()"
   ]
  },
  {
   "cell_type": "markdown",
   "metadata": {},
   "source": [
    "testID의 맨 앞자리가 A로 시작하는지 확인"
   ]
  },
  {
   "cell_type": "code",
   "execution_count": 8,
   "metadata": {},
   "outputs": [
    {
     "data": {
      "text/plain": [
       "array(['A'], dtype=object)"
      ]
     },
     "execution_count": 8,
     "metadata": {},
     "output_type": "execute_result"
    }
   ],
   "source": [
    "df['testId'].apply(lambda x: x[0]).unique()"
   ]
  },
  {
   "cell_type": "markdown",
   "metadata": {},
   "source": [
    "testID의 4~6번째 자리가 '000'인지 확인"
   ]
  },
  {
   "cell_type": "code",
   "execution_count": 9,
   "metadata": {},
   "outputs": [
    {
     "data": {
      "text/plain": [
       "array(['000'], dtype=object)"
      ]
     },
     "execution_count": 9,
     "metadata": {},
     "output_type": "execute_result"
    }
   ],
   "source": [
    "df['testId'].apply(lambda x: x[4:7]).unique()"
   ]
  },
  {
   "cell_type": "markdown",
   "metadata": {},
   "source": [
    "assessmentItemID가 testID에 맞게 잘 이루어져있는지 확인"
   ]
  },
  {
   "cell_type": "code",
   "execution_count": 10,
   "metadata": {},
   "outputs": [
    {
     "data": {
      "text/plain": [
       "0"
      ]
     },
     "execution_count": 10,
     "metadata": {},
     "output_type": "execute_result"
    }
   ],
   "source": [
    "(df['assessmentItemID'].apply(lambda x: x[1:7]) != df['testId'].apply(lambda x: x[1:4] + x[7:])).sum()"
   ]
  },
  {
   "cell_type": "markdown",
   "metadata": {},
   "source": [
    "### 사용되는 함수"
   ]
  },
  {
   "cell_type": "code",
   "execution_count": 11,
   "metadata": {},
   "outputs": [],
   "source": [
    "#정답률을 빠르게 구하기 위해 함수 정의\n",
    "def percentile(s):\n",
    "    return np.sum(s) / len(s)"
   ]
  },
  {
   "cell_type": "markdown",
   "metadata": {},
   "source": [
    "## 사용자 분석"
   ]
  },
  {
   "cell_type": "code",
   "execution_count": 12,
   "metadata": {
    "tags": []
   },
   "outputs": [
    {
     "data": {
      "text/html": [
       "<div>\n",
       "<style scoped>\n",
       "    .dataframe tbody tr th:only-of-type {\n",
       "        vertical-align: middle;\n",
       "    }\n",
       "\n",
       "    .dataframe tbody tr th {\n",
       "        vertical-align: top;\n",
       "    }\n",
       "\n",
       "    .dataframe thead th {\n",
       "        text-align: right;\n",
       "    }\n",
       "</style>\n",
       "<table border=\"1\" class=\"dataframe\">\n",
       "  <thead>\n",
       "    <tr style=\"text-align: right;\">\n",
       "      <th></th>\n",
       "      <th>assessmentItemID</th>\n",
       "      <th>answerCode</th>\n",
       "    </tr>\n",
       "  </thead>\n",
       "  <tbody>\n",
       "    <tr>\n",
       "      <th>count</th>\n",
       "      <td>7442.000000</td>\n",
       "      <td>7442.000000</td>\n",
       "    </tr>\n",
       "    <tr>\n",
       "      <th>mean</th>\n",
       "      <td>339.418973</td>\n",
       "      <td>0.628749</td>\n",
       "    </tr>\n",
       "    <tr>\n",
       "      <th>std</th>\n",
       "      <td>321.465413</td>\n",
       "      <td>0.159608</td>\n",
       "    </tr>\n",
       "    <tr>\n",
       "      <th>min</th>\n",
       "      <td>9.000000</td>\n",
       "      <td>0.000000</td>\n",
       "    </tr>\n",
       "    <tr>\n",
       "      <th>25%</th>\n",
       "      <td>78.000000</td>\n",
       "      <td>0.526782</td>\n",
       "    </tr>\n",
       "    <tr>\n",
       "      <th>50%</th>\n",
       "      <td>232.500000</td>\n",
       "      <td>0.651923</td>\n",
       "    </tr>\n",
       "    <tr>\n",
       "      <th>75%</th>\n",
       "      <td>519.000000</td>\n",
       "      <td>0.750728</td>\n",
       "    </tr>\n",
       "    <tr>\n",
       "      <th>max</th>\n",
       "      <td>1860.000000</td>\n",
       "      <td>1.000000</td>\n",
       "    </tr>\n",
       "  </tbody>\n",
       "</table>\n",
       "</div>"
      ],
      "text/plain": [
       "       assessmentItemID   answerCode\n",
       "count       7442.000000  7442.000000\n",
       "mean         339.418973     0.628749\n",
       "std          321.465413     0.159608\n",
       "min            9.000000     0.000000\n",
       "25%           78.000000     0.526782\n",
       "50%          232.500000     0.651923\n",
       "75%          519.000000     0.750728\n",
       "max         1860.000000     1.000000"
      ]
     },
     "execution_count": 12,
     "metadata": {},
     "output_type": "execute_result"
    }
   ],
   "source": [
    "stu_groupby = df.groupby('userID').agg({\n",
    "    'assessmentItemID': 'count',\n",
    "    'answerCode': percentile\n",
    "})\n",
    "stu_groupby.describe()"
   ]
  },
  {
   "cell_type": "code",
   "execution_count": 13,
   "metadata": {
    "tags": []
   },
   "outputs": [
    {
     "data": {
      "text/plain": [
       "<matplotlib.lines.Line2D at 0x7feeb596d4f0>"
      ]
     },
     "execution_count": 13,
     "metadata": {},
     "output_type": "execute_result"
    },
    {
     "data": {
      "image/png": "[encoded data removed]",
      "text/plain": [
       "<Figure size 640x480 with 1 Axes>"
      ]
     },
     "metadata": {},
     "output_type": "display_data"
    }
   ],
   "source": [
    "fig, ax = plt.subplots()\n",
    "\n",
    "stu_groupby['assessmentItemID'].hist(bins=20, ax=ax)\n",
    "\n",
    "ax.set_title('Student # of items Histogram')\n",
    "ax.set_xlabel('# of items solved')\n",
    "ax.set_ylabel('Count')\n",
    "ax.axvline(stu_groupby['assessmentItemID'].mean(), color='red')\n",
    "# ax.grid(b=True)"
   ]
  },
  {
   "cell_type": "code",
   "execution_count": 14,
   "metadata": {
    "tags": []
   },
   "outputs": [
    {
     "data": {
      "image/png": "[encoded data removed]",
      "text/plain": [
       "<Figure size 640x480 with 1 Axes>"
      ]
     },
     "metadata": {},
     "output_type": "display_data"
    }
   ],
   "source": [
    "plt.scatter(stu_groupby['assessmentItemID'], stu_groupby['answerCode'])\n",
    "plt.axhline(stu_groupby['answerCode'].mean(), color='red')\n",
    "plt.xlabel('assessmentItem_count')\n",
    "plt.ylabel('answerCode')\n",
    "plt.title('Scatter Plot')\n",
    "plt.show()"
   ]
  },
  {
   "cell_type": "markdown",
   "metadata": {
    "tags": []
   },
   "source": [
    "## 문제 별 정답률 분석"
   ]
  },
  {
   "cell_type": "code",
   "execution_count": 15,
   "metadata": {
    "tags": []
   },
   "outputs": [
    {
     "data": {
      "text/html": [
       "<div>\n",
       "<style scoped>\n",
       "    .dataframe tbody tr th:only-of-type {\n",
       "        vertical-align: middle;\n",
       "    }\n",
       "\n",
       "    .dataframe tbody tr th {\n",
       "        vertical-align: top;\n",
       "    }\n",
       "\n",
       "    .dataframe thead th {\n",
       "        text-align: right;\n",
       "    }\n",
       "</style>\n",
       "<table border=\"1\" class=\"dataframe\">\n",
       "  <thead>\n",
       "    <tr style=\"text-align: right;\">\n",
       "      <th></th>\n",
       "      <th>userID</th>\n",
       "      <th>answerCode</th>\n",
       "    </tr>\n",
       "  </thead>\n",
       "  <tbody>\n",
       "    <tr>\n",
       "      <th>count</th>\n",
       "      <td>9454.000000</td>\n",
       "      <td>9454.000000</td>\n",
       "    </tr>\n",
       "    <tr>\n",
       "      <th>mean</th>\n",
       "      <td>267.183838</td>\n",
       "      <td>0.654468</td>\n",
       "    </tr>\n",
       "    <tr>\n",
       "      <th>std</th>\n",
       "      <td>79.648425</td>\n",
       "      <td>0.195183</td>\n",
       "    </tr>\n",
       "    <tr>\n",
       "      <th>min</th>\n",
       "      <td>46.000000</td>\n",
       "      <td>0.043333</td>\n",
       "    </tr>\n",
       "    <tr>\n",
       "      <th>25%</th>\n",
       "      <td>250.000000</td>\n",
       "      <td>0.504000</td>\n",
       "    </tr>\n",
       "    <tr>\n",
       "      <th>50%</th>\n",
       "      <td>250.000000</td>\n",
       "      <td>0.666667</td>\n",
       "    </tr>\n",
       "    <tr>\n",
       "      <th>75%</th>\n",
       "      <td>300.000000</td>\n",
       "      <td>0.820000</td>\n",
       "    </tr>\n",
       "    <tr>\n",
       "      <th>max</th>\n",
       "      <td>500.000000</td>\n",
       "      <td>0.996667</td>\n",
       "    </tr>\n",
       "  </tbody>\n",
       "</table>\n",
       "</div>"
      ],
      "text/plain": [
       "            userID   answerCode\n",
       "count  9454.000000  9454.000000\n",
       "mean    267.183838     0.654468\n",
       "std      79.648425     0.195183\n",
       "min      46.000000     0.043333\n",
       "25%     250.000000     0.504000\n",
       "50%     250.000000     0.666667\n",
       "75%     300.000000     0.820000\n",
       "max     500.000000     0.996667"
      ]
     },
     "execution_count": 15,
     "metadata": {},
     "output_type": "execute_result"
    }
   ],
   "source": [
    "prob_groupby = df.groupby('assessmentItemID').agg({\n",
    "    'userID': 'count',\n",
    "    'answerCode': percentile\n",
    "})\n",
    "prob_groupby.describe()"
   ]
  },
  {
   "cell_type": "code",
   "execution_count": 16,
   "metadata": {
    "tags": []
   },
   "outputs": [
    {
     "data": {
      "image/png": "[encoded data removed]",
      "text/plain": [
       "<Figure size 640x480 with 1 Axes>"
      ]
     },
     "metadata": {},
     "output_type": "display_data"
    }
   ],
   "source": [
    "plt.scatter(prob_groupby['userID'], prob_groupby['answerCode'])\n",
    "plt.axhline(prob_groupby['answerCode'].mean(), color='red')\n",
    "plt.xlabel('user_count')\n",
    "plt.ylabel('answerCode')\n",
    "plt.title('Scatter Plot')\n",
    "plt.show()"
   ]
  },
  {
   "cell_type": "markdown",
   "metadata": {},
   "source": [
    "350명 이하의 유저가 푼 문제들은 대체로 정답률이 골고루 분포함 \\\n",
    "350명 이상이 푼 문제의 정답률의 범위가 줄어듬"
   ]
  },
  {
   "cell_type": "markdown",
   "metadata": {},
   "source": [
    "## 시험지 별 정답률 분석"
   ]
  },
  {
   "cell_type": "code",
   "execution_count": 17,
   "metadata": {
    "tags": []
   },
   "outputs": [
    {
     "data": {
      "text/html": [
       "<div>\n",
       "<style scoped>\n",
       "    .dataframe tbody tr th:only-of-type {\n",
       "        vertical-align: middle;\n",
       "    }\n",
       "\n",
       "    .dataframe tbody tr th {\n",
       "        vertical-align: top;\n",
       "    }\n",
       "\n",
       "    .dataframe thead th {\n",
       "        text-align: right;\n",
       "    }\n",
       "</style>\n",
       "<table border=\"1\" class=\"dataframe\">\n",
       "  <thead>\n",
       "    <tr style=\"text-align: right;\">\n",
       "      <th></th>\n",
       "      <th>userID</th>\n",
       "      <th>answerCode</th>\n",
       "    </tr>\n",
       "  </thead>\n",
       "  <tbody>\n",
       "    <tr>\n",
       "      <th>count</th>\n",
       "      <td>1537.000000</td>\n",
       "      <td>1537.000000</td>\n",
       "    </tr>\n",
       "    <tr>\n",
       "      <th>mean</th>\n",
       "      <td>1643.432661</td>\n",
       "      <td>0.668194</td>\n",
       "    </tr>\n",
       "    <tr>\n",
       "      <th>std</th>\n",
       "      <td>592.144998</td>\n",
       "      <td>0.138739</td>\n",
       "    </tr>\n",
       "    <tr>\n",
       "      <th>min</th>\n",
       "      <td>200.000000</td>\n",
       "      <td>0.330625</td>\n",
       "    </tr>\n",
       "    <tr>\n",
       "      <th>25%</th>\n",
       "      <td>1499.000000</td>\n",
       "      <td>0.561781</td>\n",
       "    </tr>\n",
       "    <tr>\n",
       "      <th>50%</th>\n",
       "      <td>1500.000000</td>\n",
       "      <td>0.681490</td>\n",
       "    </tr>\n",
       "    <tr>\n",
       "      <th>75%</th>\n",
       "      <td>1794.000000</td>\n",
       "      <td>0.778731</td>\n",
       "    </tr>\n",
       "    <tr>\n",
       "      <th>max</th>\n",
       "      <td>4398.000000</td>\n",
       "      <td>0.956638</td>\n",
       "    </tr>\n",
       "  </tbody>\n",
       "</table>\n",
       "</div>"
      ],
      "text/plain": [
       "            userID   answerCode\n",
       "count  1537.000000  1537.000000\n",
       "mean   1643.432661     0.668194\n",
       "std     592.144998     0.138739\n",
       "min     200.000000     0.330625\n",
       "25%    1499.000000     0.561781\n",
       "50%    1500.000000     0.681490\n",
       "75%    1794.000000     0.778731\n",
       "max    4398.000000     0.956638"
      ]
     },
     "execution_count": 17,
     "metadata": {},
     "output_type": "execute_result"
    }
   ],
   "source": [
    "test_groupby = df.groupby('testId').agg({\n",
    "    'userID': 'count',\n",
    "    # 'assessmentItemID': 'count',\n",
    "    'answerCode': percentile\n",
    "})\n",
    "test_groupby.describe()"
   ]
  },
  {
   "cell_type": "code",
   "execution_count": 18,
   "metadata": {
    "tags": []
   },
   "outputs": [
    {
     "data": {
      "text/plain": [
       "<matplotlib.lines.Line2D at 0x7feebbb0cfd0>"
      ]
     },
     "execution_count": 18,
     "metadata": {},
     "output_type": "execute_result"
    },
    {
     "data": {
      "image/png": "[encoded data removed]",
      "text/plain": [
       "<Figure size 640x480 with 1 Axes>"
      ]
     },
     "metadata": {},
     "output_type": "display_data"
    }
   ],
   "source": [
    "fig, ax = plt.subplots()\n",
    "test_groupby['answerCode'].hist(bins=20)\n",
    "ax.set_title('Test Answer Rate Histogram')\n",
    "ax.set_xlabel('Answer Rate')\n",
    "ax.set_ylabel('Count')\n",
    "ax.axvline(test_groupby['answerCode'].mean(), color='red')\n",
    "# ax.grid(b=True)"
   ]
  },
  {
   "cell_type": "markdown",
   "metadata": {},
   "source": [
    "## 문항의 고유 태그 별 정답률 분석"
   ]
  },
  {
   "cell_type": "code",
   "execution_count": 19,
   "metadata": {
    "tags": []
   },
   "outputs": [
    {
     "data": {
      "text/html": [
       "<div>\n",
       "<style scoped>\n",
       "    .dataframe tbody tr th:only-of-type {\n",
       "        vertical-align: middle;\n",
       "    }\n",
       "\n",
       "    .dataframe tbody tr th {\n",
       "        vertical-align: top;\n",
       "    }\n",
       "\n",
       "    .dataframe thead th {\n",
       "        text-align: right;\n",
       "    }\n",
       "</style>\n",
       "<table border=\"1\" class=\"dataframe\">\n",
       "  <thead>\n",
       "    <tr style=\"text-align: right;\">\n",
       "      <th></th>\n",
       "      <th>userID</th>\n",
       "      <th>answerCode</th>\n",
       "    </tr>\n",
       "  </thead>\n",
       "  <tbody>\n",
       "    <tr>\n",
       "      <th>count</th>\n",
       "      <td>912.000000</td>\n",
       "      <td>912.000000</td>\n",
       "    </tr>\n",
       "    <tr>\n",
       "      <th>mean</th>\n",
       "      <td>2769.688596</td>\n",
       "      <td>0.616113</td>\n",
       "    </tr>\n",
       "    <tr>\n",
       "      <th>std</th>\n",
       "      <td>1931.512673</td>\n",
       "      <td>0.147971</td>\n",
       "    </tr>\n",
       "    <tr>\n",
       "      <th>min</th>\n",
       "      <td>50.000000</td>\n",
       "      <td>0.176000</td>\n",
       "    </tr>\n",
       "    <tr>\n",
       "      <th>25%</th>\n",
       "      <td>1133.750000</td>\n",
       "      <td>0.500000</td>\n",
       "    </tr>\n",
       "    <tr>\n",
       "      <th>50%</th>\n",
       "      <td>2499.000000</td>\n",
       "      <td>0.601969</td>\n",
       "    </tr>\n",
       "    <tr>\n",
       "      <th>75%</th>\n",
       "      <td>4500.000000</td>\n",
       "      <td>0.741919</td>\n",
       "    </tr>\n",
       "    <tr>\n",
       "      <th>max</th>\n",
       "      <td>14350.000000</td>\n",
       "      <td>0.972857</td>\n",
       "    </tr>\n",
       "  </tbody>\n",
       "</table>\n",
       "</div>"
      ],
      "text/plain": [
       "             userID  answerCode\n",
       "count    912.000000  912.000000\n",
       "mean    2769.688596    0.616113\n",
       "std     1931.512673    0.147971\n",
       "min       50.000000    0.176000\n",
       "25%     1133.750000    0.500000\n",
       "50%     2499.000000    0.601969\n",
       "75%     4500.000000    0.741919\n",
       "max    14350.000000    0.972857"
      ]
     },
     "execution_count": 19,
     "metadata": {},
     "output_type": "execute_result"
    }
   ],
   "source": [
    "know_groupby = df.groupby('KnowledgeTag').agg({\n",
    "    'userID': 'count',\n",
    "    # 'assessmentItemID': 'count',\n",
    "    # 'testId': 'count',\n",
    "    'answerCode': percentile\n",
    "})\n",
    "know_groupby.describe()"
   ]
  },
  {
   "cell_type": "code",
   "execution_count": 20,
   "metadata": {
    "tags": []
   },
   "outputs": [
    {
     "data": {
      "image/png": "[encoded data removed]",
      "text/plain": [
       "<Figure size 640x480 with 1 Axes>"
      ]
     },
     "metadata": {},
     "output_type": "display_data"
    }
   ],
   "source": [
    "plt.scatter(know_groupby['userID'], know_groupby['answerCode'])\n",
    "plt.axhline(know_groupby['answerCode'].mean(), color='red')\n",
    "plt.xlabel('userID_count')\n",
    "plt.ylabel('answerCode')\n",
    "plt.title('Scatter Plot')\n",
    "plt.show()"
   ]
  },
  {
   "cell_type": "markdown",
   "metadata": {},
   "source": [
    "## 이상치 파악"
   ]
  },
  {
   "cell_type": "markdown",
   "metadata": {},
   "source": [
    "### 만점자 2명"
   ]
  },
  {
   "cell_type": "code",
   "execution_count": 21,
   "metadata": {
    "tags": []
   },
   "outputs": [
    {
     "data": {
      "text/html": [
       "<div>\n",
       "<style scoped>\n",
       "    .dataframe tbody tr th:only-of-type {\n",
       "        vertical-align: middle;\n",
       "    }\n",
       "\n",
       "    .dataframe tbody tr th {\n",
       "        vertical-align: top;\n",
       "    }\n",
       "\n",
       "    .dataframe thead th {\n",
       "        text-align: right;\n",
       "    }\n",
       "</style>\n",
       "<table border=\"1\" class=\"dataframe\">\n",
       "  <thead>\n",
       "    <tr style=\"text-align: right;\">\n",
       "      <th></th>\n",
       "      <th>assessmentItemID</th>\n",
       "      <th>answerCode</th>\n",
       "    </tr>\n",
       "    <tr>\n",
       "      <th>userID</th>\n",
       "      <th></th>\n",
       "      <th></th>\n",
       "    </tr>\n",
       "  </thead>\n",
       "  <tbody>\n",
       "    <tr>\n",
       "      <th>6988</th>\n",
       "      <td>23</td>\n",
       "      <td>1.0</td>\n",
       "    </tr>\n",
       "    <tr>\n",
       "      <th>7171</th>\n",
       "      <td>20</td>\n",
       "      <td>1.0</td>\n",
       "    </tr>\n",
       "  </tbody>\n",
       "</table>\n",
       "</div>"
      ],
      "text/plain": [
       "        assessmentItemID  answerCode\n",
       "userID                              \n",
       "6988                  23         1.0\n",
       "7171                  20         1.0"
      ]
     },
     "execution_count": 21,
     "metadata": {},
     "output_type": "execute_result"
    }
   ],
   "source": [
    "stu_groupby[stu_groupby['answerCode'] == 1]"
   ]
  },
  {
   "cell_type": "code",
   "execution_count": 22,
   "metadata": {
    "tags": []
   },
   "outputs": [
    {
     "data": {
      "text/html": [
       "<div>\n",
       "<style scoped>\n",
       "    .dataframe tbody tr th:only-of-type {\n",
       "        vertical-align: middle;\n",
       "    }\n",
       "\n",
       "    .dataframe tbody tr th {\n",
       "        vertical-align: top;\n",
       "    }\n",
       "\n",
       "    .dataframe thead th {\n",
       "        text-align: right;\n",
       "    }\n",
       "</style>\n",
       "<table border=\"1\" class=\"dataframe\">\n",
       "  <thead>\n",
       "    <tr style=\"text-align: right;\">\n",
       "      <th></th>\n",
       "      <th>userID</th>\n",
       "      <th>assessmentItemID</th>\n",
       "      <th>testId</th>\n",
       "      <th>answerCode</th>\n",
       "      <th>Timestamp</th>\n",
       "      <th>KnowledgeTag</th>\n",
       "      <th>elapsed</th>\n",
       "      <th>testCode</th>\n",
       "    </tr>\n",
       "  </thead>\n",
       "  <tbody>\n",
       "    <tr>\n",
       "      <th>2257763</th>\n",
       "      <td>6988</td>\n",
       "      <td>A080002001</td>\n",
       "      <td>A080000002</td>\n",
       "      <td>1</td>\n",
       "      <td>2020-01-20 15:00:04+09:00</td>\n",
       "      <td>4605</td>\n",
       "      <td>2.0</td>\n",
       "      <td>8</td>\n",
       "    </tr>\n",
       "    <tr>\n",
       "      <th>2257776</th>\n",
       "      <td>6988</td>\n",
       "      <td>A040167001</td>\n",
       "      <td>A040000167</td>\n",
       "      <td>1</td>\n",
       "      <td>2020-10-22 16:44:20+09:00</td>\n",
       "      <td>2116</td>\n",
       "      <td>15.0</td>\n",
       "      <td>4</td>\n",
       "    </tr>\n",
       "    <tr>\n",
       "      <th>2257779</th>\n",
       "      <td>6988</td>\n",
       "      <td>A040167004</td>\n",
       "      <td>A040000167</td>\n",
       "      <td>1</td>\n",
       "      <td>2020-10-22 16:45:45+09:00</td>\n",
       "      <td>2116</td>\n",
       "      <td>68.0</td>\n",
       "      <td>4</td>\n",
       "    </tr>\n",
       "    <tr>\n",
       "      <th>2257769</th>\n",
       "      <td>6988</td>\n",
       "      <td>A050181001</td>\n",
       "      <td>A050000181</td>\n",
       "      <td>1</td>\n",
       "      <td>2020-08-27 11:43:14+09:00</td>\n",
       "      <td>10397</td>\n",
       "      <td>214.0</td>\n",
       "      <td>5</td>\n",
       "    </tr>\n",
       "    <tr>\n",
       "      <th>2257777</th>\n",
       "      <td>6988</td>\n",
       "      <td>A040167002</td>\n",
       "      <td>A040000167</td>\n",
       "      <td>1</td>\n",
       "      <td>2020-10-22 16:44:35+09:00</td>\n",
       "      <td>2116</td>\n",
       "      <td>51.0</td>\n",
       "      <td>4</td>\n",
       "    </tr>\n",
       "  </tbody>\n",
       "</table>\n",
       "</div>"
      ],
      "text/plain": [
       "         userID assessmentItemID      testId  answerCode   \n",
       "2257763    6988       A080002001  A080000002           1  \\\n",
       "2257776    6988       A040167001  A040000167           1   \n",
       "2257779    6988       A040167004  A040000167           1   \n",
       "2257769    6988       A050181001  A050000181           1   \n",
       "2257777    6988       A040167002  A040000167           1   \n",
       "\n",
       "                        Timestamp  KnowledgeTag  elapsed  testCode  \n",
       "2257763 2020-01-20 15:00:04+09:00          4605      2.0         8  \n",
       "2257776 2020-10-22 16:44:20+09:00          2116     15.0         4  \n",
       "2257779 2020-10-22 16:45:45+09:00          2116     68.0         4  \n",
       "2257769 2020-08-27 11:43:14+09:00         10397    214.0         5  \n",
       "2257777 2020-10-22 16:44:35+09:00          2116     51.0         4  "
      ]
     },
     "execution_count": 22,
     "metadata": {},
     "output_type": "execute_result"
    }
   ],
   "source": [
    "df[df['userID']==6988].sample(5)"
   ]
  },
  {
   "cell_type": "code",
   "execution_count": 23,
   "metadata": {
    "tags": []
   },
   "outputs": [
    {
     "data": {
      "text/html": [
       "<div>\n",
       "<style scoped>\n",
       "    .dataframe tbody tr th:only-of-type {\n",
       "        vertical-align: middle;\n",
       "    }\n",
       "\n",
       "    .dataframe tbody tr th {\n",
       "        vertical-align: top;\n",
       "    }\n",
       "\n",
       "    .dataframe thead th {\n",
       "        text-align: right;\n",
       "    }\n",
       "</style>\n",
       "<table border=\"1\" class=\"dataframe\">\n",
       "  <thead>\n",
       "    <tr style=\"text-align: right;\">\n",
       "      <th></th>\n",
       "      <th>userID</th>\n",
       "      <th>assessmentItemID</th>\n",
       "      <th>testId</th>\n",
       "      <th>answerCode</th>\n",
       "      <th>Timestamp</th>\n",
       "      <th>KnowledgeTag</th>\n",
       "      <th>elapsed</th>\n",
       "      <th>testCode</th>\n",
       "    </tr>\n",
       "  </thead>\n",
       "  <tbody>\n",
       "    <tr>\n",
       "      <th>2261931</th>\n",
       "      <td>7171</td>\n",
       "      <td>A010155003</td>\n",
       "      <td>A010000155</td>\n",
       "      <td>1</td>\n",
       "      <td>2020-10-23 21:31:51+09:00</td>\n",
       "      <td>7804</td>\n",
       "      <td>69.0</td>\n",
       "      <td>1</td>\n",
       "    </tr>\n",
       "    <tr>\n",
       "      <th>2261927</th>\n",
       "      <td>7171</td>\n",
       "      <td>A010192004</td>\n",
       "      <td>A010000192</td>\n",
       "      <td>1</td>\n",
       "      <td>2020-10-15 21:46:46+09:00</td>\n",
       "      <td>7075</td>\n",
       "      <td>290.0</td>\n",
       "      <td>1</td>\n",
       "    </tr>\n",
       "    <tr>\n",
       "      <th>2261929</th>\n",
       "      <td>7171</td>\n",
       "      <td>A010155001</td>\n",
       "      <td>A010000155</td>\n",
       "      <td>1</td>\n",
       "      <td>2020-10-23 21:30:35+09:00</td>\n",
       "      <td>7804</td>\n",
       "      <td>46.0</td>\n",
       "      <td>1</td>\n",
       "    </tr>\n",
       "    <tr>\n",
       "      <th>2261923</th>\n",
       "      <td>7171</td>\n",
       "      <td>A060185005</td>\n",
       "      <td>A060000185</td>\n",
       "      <td>1</td>\n",
       "      <td>2020-09-01 11:55:05+09:00</td>\n",
       "      <td>1581</td>\n",
       "      <td>3836835.0</td>\n",
       "      <td>6</td>\n",
       "    </tr>\n",
       "    <tr>\n",
       "      <th>2261917</th>\n",
       "      <td>7171</td>\n",
       "      <td>A060183004</td>\n",
       "      <td>A060000183</td>\n",
       "      <td>1</td>\n",
       "      <td>2020-08-11 19:17:13+09:00</td>\n",
       "      <td>1575</td>\n",
       "      <td>115.0</td>\n",
       "      <td>6</td>\n",
       "    </tr>\n",
       "  </tbody>\n",
       "</table>\n",
       "</div>"
      ],
      "text/plain": [
       "         userID assessmentItemID      testId  answerCode   \n",
       "2261931    7171       A010155003  A010000155           1  \\\n",
       "2261927    7171       A010192004  A010000192           1   \n",
       "2261929    7171       A010155001  A010000155           1   \n",
       "2261923    7171       A060185005  A060000185           1   \n",
       "2261917    7171       A060183004  A060000183           1   \n",
       "\n",
       "                        Timestamp  KnowledgeTag    elapsed  testCode  \n",
       "2261931 2020-10-23 21:31:51+09:00          7804       69.0         1  \n",
       "2261927 2020-10-15 21:46:46+09:00          7075      290.0         1  \n",
       "2261929 2020-10-23 21:30:35+09:00          7804       46.0         1  \n",
       "2261923 2020-09-01 11:55:05+09:00          1581  3836835.0         6  \n",
       "2261917 2020-08-11 19:17:13+09:00          1575      115.0         6  "
      ]
     },
     "execution_count": 23,
     "metadata": {},
     "output_type": "execute_result"
    }
   ],
   "source": [
    "df[df['userID']==7171].sample(5)"
   ]
  },
  {
   "cell_type": "markdown",
   "metadata": {},
   "source": [
    "### 정답률 0 사용자"
   ]
  },
  {
   "cell_type": "code",
   "execution_count": 24,
   "metadata": {
    "tags": []
   },
   "outputs": [
    {
     "data": {
      "text/html": [
       "<div>\n",
       "<style scoped>\n",
       "    .dataframe tbody tr th:only-of-type {\n",
       "        vertical-align: middle;\n",
       "    }\n",
       "\n",
       "    .dataframe tbody tr th {\n",
       "        vertical-align: top;\n",
       "    }\n",
       "\n",
       "    .dataframe thead th {\n",
       "        text-align: right;\n",
       "    }\n",
       "</style>\n",
       "<table border=\"1\" class=\"dataframe\">\n",
       "  <thead>\n",
       "    <tr style=\"text-align: right;\">\n",
       "      <th></th>\n",
       "      <th>assessmentItemID</th>\n",
       "      <th>answerCode</th>\n",
       "    </tr>\n",
       "    <tr>\n",
       "      <th>userID</th>\n",
       "      <th></th>\n",
       "      <th></th>\n",
       "    </tr>\n",
       "  </thead>\n",
       "  <tbody>\n",
       "    <tr>\n",
       "      <th>7166</th>\n",
       "      <td>16</td>\n",
       "      <td>0.0</td>\n",
       "    </tr>\n",
       "  </tbody>\n",
       "</table>\n",
       "</div>"
      ],
      "text/plain": [
       "        assessmentItemID  answerCode\n",
       "userID                              \n",
       "7166                  16         0.0"
      ]
     },
     "execution_count": 24,
     "metadata": {},
     "output_type": "execute_result"
    }
   ],
   "source": [
    "stu_groupby[stu_groupby['answerCode'] == 0]"
   ]
  },
  {
   "cell_type": "code",
   "execution_count": 25,
   "metadata": {
    "tags": []
   },
   "outputs": [
    {
     "data": {
      "text/html": [
       "<div>\n",
       "<style scoped>\n",
       "    .dataframe tbody tr th:only-of-type {\n",
       "        vertical-align: middle;\n",
       "    }\n",
       "\n",
       "    .dataframe tbody tr th {\n",
       "        vertical-align: top;\n",
       "    }\n",
       "\n",
       "    .dataframe thead th {\n",
       "        text-align: right;\n",
       "    }\n",
       "</style>\n",
       "<table border=\"1\" class=\"dataframe\">\n",
       "  <thead>\n",
       "    <tr style=\"text-align: right;\">\n",
       "      <th></th>\n",
       "      <th>userID</th>\n",
       "      <th>assessmentItemID</th>\n",
       "      <th>testId</th>\n",
       "      <th>answerCode</th>\n",
       "      <th>Timestamp</th>\n",
       "      <th>KnowledgeTag</th>\n",
       "      <th>elapsed</th>\n",
       "      <th>testCode</th>\n",
       "    </tr>\n",
       "  </thead>\n",
       "  <tbody>\n",
       "    <tr>\n",
       "      <th>2261814</th>\n",
       "      <td>7166</td>\n",
       "      <td>A080040002</td>\n",
       "      <td>A080000040</td>\n",
       "      <td>0</td>\n",
       "      <td>2020-12-20 13:27:15+09:00</td>\n",
       "      <td>4682</td>\n",
       "      <td>1.0</td>\n",
       "      <td>8</td>\n",
       "    </tr>\n",
       "    <tr>\n",
       "      <th>2261815</th>\n",
       "      <td>7166</td>\n",
       "      <td>A080040003</td>\n",
       "      <td>A080000040</td>\n",
       "      <td>0</td>\n",
       "      <td>2020-12-20 13:27:16+09:00</td>\n",
       "      <td>4802</td>\n",
       "      <td>1.0</td>\n",
       "      <td>8</td>\n",
       "    </tr>\n",
       "    <tr>\n",
       "      <th>2261816</th>\n",
       "      <td>7166</td>\n",
       "      <td>A080040004</td>\n",
       "      <td>A080000040</td>\n",
       "      <td>0</td>\n",
       "      <td>2020-12-20 13:27:17+09:00</td>\n",
       "      <td>4784</td>\n",
       "      <td>1.0</td>\n",
       "      <td>8</td>\n",
       "    </tr>\n",
       "    <tr>\n",
       "      <th>2261817</th>\n",
       "      <td>7166</td>\n",
       "      <td>A080040005</td>\n",
       "      <td>A080000040</td>\n",
       "      <td>0</td>\n",
       "      <td>2020-12-20 13:27:18+09:00</td>\n",
       "      <td>4784</td>\n",
       "      <td>2.0</td>\n",
       "      <td>8</td>\n",
       "    </tr>\n",
       "    <tr>\n",
       "      <th>2261818</th>\n",
       "      <td>7166</td>\n",
       "      <td>A080040006</td>\n",
       "      <td>A080000040</td>\n",
       "      <td>0</td>\n",
       "      <td>2020-12-20 13:27:20+09:00</td>\n",
       "      <td>4795</td>\n",
       "      <td>NaN</td>\n",
       "      <td>8</td>\n",
       "    </tr>\n",
       "  </tbody>\n",
       "</table>\n",
       "</div>"
      ],
      "text/plain": [
       "         userID assessmentItemID      testId  answerCode   \n",
       "2261814    7166       A080040002  A080000040           0  \\\n",
       "2261815    7166       A080040003  A080000040           0   \n",
       "2261816    7166       A080040004  A080000040           0   \n",
       "2261817    7166       A080040005  A080000040           0   \n",
       "2261818    7166       A080040006  A080000040           0   \n",
       "\n",
       "                        Timestamp  KnowledgeTag  elapsed  testCode  \n",
       "2261814 2020-12-20 13:27:15+09:00          4682      1.0         8  \n",
       "2261815 2020-12-20 13:27:16+09:00          4802      1.0         8  \n",
       "2261816 2020-12-20 13:27:17+09:00          4784      1.0         8  \n",
       "2261817 2020-12-20 13:27:18+09:00          4784      2.0         8  \n",
       "2261818 2020-12-20 13:27:20+09:00          4795      NaN         8  "
      ]
     },
     "execution_count": 25,
     "metadata": {},
     "output_type": "execute_result"
    }
   ],
   "source": [
    "df[df['userID']==7166].tail(5)"
   ]
  },
  {
   "cell_type": "markdown",
   "metadata": {},
   "source": [
    "1명 뿐이고 풀이 시간이 적어 찍은 느낌을 주는 Test 도 발견 이상치 제거"
   ]
  },
  {
   "cell_type": "markdown",
   "metadata": {},
   "source": [
    "### 많은 문제를 풀었지만 정답률이 낮은 학생 2명 분석"
   ]
  },
  {
   "cell_type": "code",
   "execution_count": 26,
   "metadata": {
    "tags": []
   },
   "outputs": [
    {
     "data": {
      "text/html": [
       "<div>\n",
       "<style scoped>\n",
       "    .dataframe tbody tr th:only-of-type {\n",
       "        vertical-align: middle;\n",
       "    }\n",
       "\n",
       "    .dataframe tbody tr th {\n",
       "        vertical-align: top;\n",
       "    }\n",
       "\n",
       "    .dataframe thead th {\n",
       "        text-align: right;\n",
       "    }\n",
       "</style>\n",
       "<table border=\"1\" class=\"dataframe\">\n",
       "  <thead>\n",
       "    <tr style=\"text-align: right;\">\n",
       "      <th></th>\n",
       "      <th>assessmentItemID</th>\n",
       "      <th>answerCode</th>\n",
       "    </tr>\n",
       "    <tr>\n",
       "      <th>userID</th>\n",
       "      <th></th>\n",
       "      <th></th>\n",
       "    </tr>\n",
       "  </thead>\n",
       "  <tbody>\n",
       "    <tr>\n",
       "      <th>481</th>\n",
       "      <td>1847</td>\n",
       "      <td>0.124526</td>\n",
       "    </tr>\n",
       "  </tbody>\n",
       "</table>\n",
       "</div>"
      ],
      "text/plain": [
       "        assessmentItemID  answerCode\n",
       "userID                              \n",
       "481                 1847    0.124526"
      ]
     },
     "execution_count": 26,
     "metadata": {},
     "output_type": "execute_result"
    }
   ],
   "source": [
    "stu_groupby.loc[481:481]"
   ]
  },
  {
   "cell_type": "code",
   "execution_count": 27,
   "metadata": {
    "tags": []
   },
   "outputs": [
    {
     "data": {
      "text/html": [
       "<div>\n",
       "<style scoped>\n",
       "    .dataframe tbody tr th:only-of-type {\n",
       "        vertical-align: middle;\n",
       "    }\n",
       "\n",
       "    .dataframe tbody tr th {\n",
       "        vertical-align: top;\n",
       "    }\n",
       "\n",
       "    .dataframe thead th {\n",
       "        text-align: right;\n",
       "    }\n",
       "</style>\n",
       "<table border=\"1\" class=\"dataframe\">\n",
       "  <thead>\n",
       "    <tr style=\"text-align: right;\">\n",
       "      <th></th>\n",
       "      <th>userID</th>\n",
       "      <th>answerCode</th>\n",
       "      <th>KnowledgeTag</th>\n",
       "      <th>elapsed</th>\n",
       "      <th>testCode</th>\n",
       "    </tr>\n",
       "  </thead>\n",
       "  <tbody>\n",
       "    <tr>\n",
       "      <th>count</th>\n",
       "      <td>1847.0</td>\n",
       "      <td>1847.000000</td>\n",
       "      <td>1847.000000</td>\n",
       "      <td>1.846000e+03</td>\n",
       "      <td>1847.000000</td>\n",
       "    </tr>\n",
       "    <tr>\n",
       "      <th>mean</th>\n",
       "      <td>481.0</td>\n",
       "      <td>0.124526</td>\n",
       "      <td>4215.559827</td>\n",
       "      <td>1.418032e+04</td>\n",
       "      <td>5.781808</td>\n",
       "    </tr>\n",
       "    <tr>\n",
       "      <th>std</th>\n",
       "      <td>0.0</td>\n",
       "      <td>0.330270</td>\n",
       "      <td>3805.340085</td>\n",
       "      <td>1.262676e+05</td>\n",
       "      <td>1.417479</td>\n",
       "    </tr>\n",
       "    <tr>\n",
       "      <th>min</th>\n",
       "      <td>481.0</td>\n",
       "      <td>0.000000</td>\n",
       "      <td>116.000000</td>\n",
       "      <td>0.000000e+00</td>\n",
       "      <td>2.000000</td>\n",
       "    </tr>\n",
       "    <tr>\n",
       "      <th>25%</th>\n",
       "      <td>481.0</td>\n",
       "      <td>0.000000</td>\n",
       "      <td>705.000000</td>\n",
       "      <td>2.000000e+00</td>\n",
       "      <td>6.000000</td>\n",
       "    </tr>\n",
       "    <tr>\n",
       "      <th>50%</th>\n",
       "      <td>481.0</td>\n",
       "      <td>0.000000</td>\n",
       "      <td>1548.000000</td>\n",
       "      <td>3.000000e+00</td>\n",
       "      <td>6.000000</td>\n",
       "    </tr>\n",
       "    <tr>\n",
       "      <th>75%</th>\n",
       "      <td>481.0</td>\n",
       "      <td>0.000000</td>\n",
       "      <td>8005.000000</td>\n",
       "      <td>1.400000e+01</td>\n",
       "      <td>6.000000</td>\n",
       "    </tr>\n",
       "    <tr>\n",
       "      <th>max</th>\n",
       "      <td>481.0</td>\n",
       "      <td>1.000000</td>\n",
       "      <td>10838.000000</td>\n",
       "      <td>3.790402e+06</td>\n",
       "      <td>7.000000</td>\n",
       "    </tr>\n",
       "  </tbody>\n",
       "</table>\n",
       "</div>"
      ],
      "text/plain": [
       "       userID   answerCode  KnowledgeTag       elapsed     testCode\n",
       "count  1847.0  1847.000000   1847.000000  1.846000e+03  1847.000000\n",
       "mean    481.0     0.124526   4215.559827  1.418032e+04     5.781808\n",
       "std       0.0     0.330270   3805.340085  1.262676e+05     1.417479\n",
       "min     481.0     0.000000    116.000000  0.000000e+00     2.000000\n",
       "25%     481.0     0.000000    705.000000  2.000000e+00     6.000000\n",
       "50%     481.0     0.000000   1548.000000  3.000000e+00     6.000000\n",
       "75%     481.0     0.000000   8005.000000  1.400000e+01     6.000000\n",
       "max     481.0     1.000000  10838.000000  3.790402e+06     7.000000"
      ]
     },
     "execution_count": 27,
     "metadata": {},
     "output_type": "execute_result"
    }
   ],
   "source": [
    "outlier_id1 = df[df['userID'] == 481]\n",
    "outlier_id1.describe()"
   ]
  },
  {
   "cell_type": "code",
   "execution_count": 28,
   "metadata": {
    "tags": []
   },
   "outputs": [
    {
     "data": {
      "text/html": [
       "<div>\n",
       "<style scoped>\n",
       "    .dataframe tbody tr th:only-of-type {\n",
       "        vertical-align: middle;\n",
       "    }\n",
       "\n",
       "    .dataframe tbody tr th {\n",
       "        vertical-align: top;\n",
       "    }\n",
       "\n",
       "    .dataframe thead th {\n",
       "        text-align: right;\n",
       "    }\n",
       "</style>\n",
       "<table border=\"1\" class=\"dataframe\">\n",
       "  <thead>\n",
       "    <tr style=\"text-align: right;\">\n",
       "      <th></th>\n",
       "      <th>assessmentItemID</th>\n",
       "      <th>answerCode</th>\n",
       "    </tr>\n",
       "    <tr>\n",
       "      <th>userID</th>\n",
       "      <th></th>\n",
       "      <th></th>\n",
       "    </tr>\n",
       "  </thead>\n",
       "  <tbody>\n",
       "    <tr>\n",
       "      <th>585</th>\n",
       "      <td>1557</td>\n",
       "      <td>0.303789</td>\n",
       "    </tr>\n",
       "  </tbody>\n",
       "</table>\n",
       "</div>"
      ],
      "text/plain": [
       "        assessmentItemID  answerCode\n",
       "userID                              \n",
       "585                 1557    0.303789"
      ]
     },
     "execution_count": 28,
     "metadata": {},
     "output_type": "execute_result"
    }
   ],
   "source": [
    "stu_groupby.loc[585:585]"
   ]
  },
  {
   "cell_type": "code",
   "execution_count": 29,
   "metadata": {
    "tags": []
   },
   "outputs": [
    {
     "data": {
      "text/html": [
       "<div>\n",
       "<style scoped>\n",
       "    .dataframe tbody tr th:only-of-type {\n",
       "        vertical-align: middle;\n",
       "    }\n",
       "\n",
       "    .dataframe tbody tr th {\n",
       "        vertical-align: top;\n",
       "    }\n",
       "\n",
       "    .dataframe thead th {\n",
       "        text-align: right;\n",
       "    }\n",
       "</style>\n",
       "<table border=\"1\" class=\"dataframe\">\n",
       "  <thead>\n",
       "    <tr style=\"text-align: right;\">\n",
       "      <th></th>\n",
       "      <th>userID</th>\n",
       "      <th>answerCode</th>\n",
       "      <th>KnowledgeTag</th>\n",
       "      <th>elapsed</th>\n",
       "      <th>testCode</th>\n",
       "    </tr>\n",
       "  </thead>\n",
       "  <tbody>\n",
       "    <tr>\n",
       "      <th>count</th>\n",
       "      <td>1557.0</td>\n",
       "      <td>1557.000000</td>\n",
       "      <td>1557.000000</td>\n",
       "      <td>1556.000000</td>\n",
       "      <td>1557.000000</td>\n",
       "    </tr>\n",
       "    <tr>\n",
       "      <th>mean</th>\n",
       "      <td>585.0</td>\n",
       "      <td>0.303789</td>\n",
       "      <td>5016.434168</td>\n",
       "      <td>15244.223008</td>\n",
       "      <td>5.514451</td>\n",
       "    </tr>\n",
       "    <tr>\n",
       "      <th>std</th>\n",
       "      <td>0.0</td>\n",
       "      <td>0.460041</td>\n",
       "      <td>2768.826353</td>\n",
       "      <td>58647.541352</td>\n",
       "      <td>2.216282</td>\n",
       "    </tr>\n",
       "    <tr>\n",
       "      <th>min</th>\n",
       "      <td>585.0</td>\n",
       "      <td>0.000000</td>\n",
       "      <td>23.000000</td>\n",
       "      <td>0.000000</td>\n",
       "      <td>2.000000</td>\n",
       "    </tr>\n",
       "    <tr>\n",
       "      <th>25%</th>\n",
       "      <td>585.0</td>\n",
       "      <td>0.000000</td>\n",
       "      <td>2718.000000</td>\n",
       "      <td>2.000000</td>\n",
       "      <td>5.000000</td>\n",
       "    </tr>\n",
       "    <tr>\n",
       "      <th>50%</th>\n",
       "      <td>585.0</td>\n",
       "      <td>0.000000</td>\n",
       "      <td>4804.000000</td>\n",
       "      <td>4.000000</td>\n",
       "      <td>5.000000</td>\n",
       "    </tr>\n",
       "    <tr>\n",
       "      <th>75%</th>\n",
       "      <td>585.0</td>\n",
       "      <td>1.000000</td>\n",
       "      <td>7924.000000</td>\n",
       "      <td>38.000000</td>\n",
       "      <td>8.000000</td>\n",
       "    </tr>\n",
       "    <tr>\n",
       "      <th>max</th>\n",
       "      <td>585.0</td>\n",
       "      <td>1.000000</td>\n",
       "      <td>10573.000000</td>\n",
       "      <td>521979.000000</td>\n",
       "      <td>8.000000</td>\n",
       "    </tr>\n",
       "  </tbody>\n",
       "</table>\n",
       "</div>"
      ],
      "text/plain": [
       "       userID   answerCode  KnowledgeTag        elapsed     testCode\n",
       "count  1557.0  1557.000000   1557.000000    1556.000000  1557.000000\n",
       "mean    585.0     0.303789   5016.434168   15244.223008     5.514451\n",
       "std       0.0     0.460041   2768.826353   58647.541352     2.216282\n",
       "min     585.0     0.000000     23.000000       0.000000     2.000000\n",
       "25%     585.0     0.000000   2718.000000       2.000000     5.000000\n",
       "50%     585.0     0.000000   4804.000000       4.000000     5.000000\n",
       "75%     585.0     1.000000   7924.000000      38.000000     8.000000\n",
       "max     585.0     1.000000  10573.000000  521979.000000     8.000000"
      ]
     },
     "execution_count": 29,
     "metadata": {},
     "output_type": "execute_result"
    }
   ],
   "source": [
    "outlier_id2 = df[df['userID'] == 585]\n",
    "outlier_id2.describe()"
   ]
  },
  {
   "cell_type": "markdown",
   "metadata": {},
   "source": [
    "풀이 시간이 적어 찍은 느낌을 주는 비율이 커서 이상치로 제거"
   ]
  },
  {
   "cell_type": "markdown",
   "metadata": {},
   "source": [
    "### 가장 어려운 문제 분석"
   ]
  },
  {
   "cell_type": "code",
   "execution_count": 30,
   "metadata": {
    "tags": []
   },
   "outputs": [
    {
     "data": {
      "text/plain": [
       "array(['A040131001', 'A040131002', 'A040131003', 'A040131004',\n",
       "       'A040131005'], dtype=object)"
      ]
     },
     "execution_count": 30,
     "metadata": {},
     "output_type": "execute_result"
    }
   ],
   "source": [
    "# Test에서 마지막 문제\n",
    "df[df['testId'] == 'A040000131'].assessmentItemID.unique()"
   ]
  },
  {
   "cell_type": "code",
   "execution_count": 31,
   "metadata": {
    "tags": []
   },
   "outputs": [
    {
     "data": {
      "text/html": [
       "<div>\n",
       "<style scoped>\n",
       "    .dataframe tbody tr th:only-of-type {\n",
       "        vertical-align: middle;\n",
       "    }\n",
       "\n",
       "    .dataframe tbody tr th {\n",
       "        vertical-align: top;\n",
       "    }\n",
       "\n",
       "    .dataframe thead th {\n",
       "        text-align: right;\n",
       "    }\n",
       "</style>\n",
       "<table border=\"1\" class=\"dataframe\">\n",
       "  <thead>\n",
       "    <tr style=\"text-align: right;\">\n",
       "      <th></th>\n",
       "      <th>userID</th>\n",
       "      <th>answerCode</th>\n",
       "    </tr>\n",
       "    <tr>\n",
       "      <th>assessmentItemID</th>\n",
       "      <th></th>\n",
       "      <th></th>\n",
       "    </tr>\n",
       "  </thead>\n",
       "  <tbody>\n",
       "    <tr>\n",
       "      <th>A040131005</th>\n",
       "      <td>300</td>\n",
       "      <td>0.043333</td>\n",
       "    </tr>\n",
       "  </tbody>\n",
       "</table>\n",
       "</div>"
      ],
      "text/plain": [
       "                  userID  answerCode\n",
       "assessmentItemID                    \n",
       "A040131005           300    0.043333"
      ]
     },
     "execution_count": 31,
     "metadata": {},
     "output_type": "execute_result"
    }
   ],
   "source": [
    "# 정답률이 가장 낮은 문제\n",
    "prob_groupby[prob_groupby['answerCode'] <= 0.049431]"
   ]
  },
  {
   "cell_type": "code",
   "execution_count": 32,
   "metadata": {
    "tags": []
   },
   "outputs": [
    {
     "data": {
      "text/html": [
       "<div>\n",
       "<style scoped>\n",
       "    .dataframe tbody tr th:only-of-type {\n",
       "        vertical-align: middle;\n",
       "    }\n",
       "\n",
       "    .dataframe tbody tr th {\n",
       "        vertical-align: top;\n",
       "    }\n",
       "\n",
       "    .dataframe thead th {\n",
       "        text-align: right;\n",
       "    }\n",
       "</style>\n",
       "<table border=\"1\" class=\"dataframe\">\n",
       "  <thead>\n",
       "    <tr style=\"text-align: right;\">\n",
       "      <th></th>\n",
       "      <th>userID</th>\n",
       "      <th>assessmentItemID</th>\n",
       "      <th>testId</th>\n",
       "      <th>answerCode</th>\n",
       "      <th>Timestamp</th>\n",
       "      <th>KnowledgeTag</th>\n",
       "      <th>elapsed</th>\n",
       "      <th>testCode</th>\n",
       "    </tr>\n",
       "  </thead>\n",
       "  <tbody>\n",
       "    <tr>\n",
       "      <th>39300</th>\n",
       "      <td>51</td>\n",
       "      <td>A040131005</td>\n",
       "      <td>A040000131</td>\n",
       "      <td>1</td>\n",
       "      <td>2020-07-28 18:06:24+09:00</td>\n",
       "      <td>10615</td>\n",
       "      <td>80877.0</td>\n",
       "      <td>4</td>\n",
       "    </tr>\n",
       "    <tr>\n",
       "      <th>106414</th>\n",
       "      <td>137</td>\n",
       "      <td>A040131005</td>\n",
       "      <td>A040000131</td>\n",
       "      <td>1</td>\n",
       "      <td>2020-09-18 12:18:35+09:00</td>\n",
       "      <td>10615</td>\n",
       "      <td>259021.0</td>\n",
       "      <td>4</td>\n",
       "    </tr>\n",
       "    <tr>\n",
       "      <th>134400</th>\n",
       "      <td>174</td>\n",
       "      <td>A040131005</td>\n",
       "      <td>A040000131</td>\n",
       "      <td>1</td>\n",
       "      <td>2020-02-01 12:00:01+09:00</td>\n",
       "      <td>10615</td>\n",
       "      <td>1852.0</td>\n",
       "      <td>4</td>\n",
       "    </tr>\n",
       "    <tr>\n",
       "      <th>377936</th>\n",
       "      <td>515</td>\n",
       "      <td>A040131005</td>\n",
       "      <td>A040000131</td>\n",
       "      <td>1</td>\n",
       "      <td>2020-09-27 11:22:34+09:00</td>\n",
       "      <td>10615</td>\n",
       "      <td>90.0</td>\n",
       "      <td>4</td>\n",
       "    </tr>\n",
       "    <tr>\n",
       "      <th>498412</th>\n",
       "      <td>700</td>\n",
       "      <td>A040131005</td>\n",
       "      <td>A040000131</td>\n",
       "      <td>1</td>\n",
       "      <td>2020-09-11 15:40:44+09:00</td>\n",
       "      <td>10615</td>\n",
       "      <td>150284.0</td>\n",
       "      <td>4</td>\n",
       "    </tr>\n",
       "    <tr>\n",
       "      <th>921840</th>\n",
       "      <td>1365</td>\n",
       "      <td>A040131005</td>\n",
       "      <td>A040000131</td>\n",
       "      <td>1</td>\n",
       "      <td>2020-09-08 11:57:14+09:00</td>\n",
       "      <td>10615</td>\n",
       "      <td>101668.0</td>\n",
       "      <td>4</td>\n",
       "    </tr>\n",
       "    <tr>\n",
       "      <th>1001742</th>\n",
       "      <td>1497</td>\n",
       "      <td>A040131005</td>\n",
       "      <td>A040000131</td>\n",
       "      <td>1</td>\n",
       "      <td>2020-06-26 21:35:28+09:00</td>\n",
       "      <td>10615</td>\n",
       "      <td>69456.0</td>\n",
       "      <td>4</td>\n",
       "    </tr>\n",
       "    <tr>\n",
       "      <th>1445015</th>\n",
       "      <td>2403</td>\n",
       "      <td>A040131005</td>\n",
       "      <td>A040000131</td>\n",
       "      <td>1</td>\n",
       "      <td>2020-10-08 19:25:12+09:00</td>\n",
       "      <td>10615</td>\n",
       "      <td>119.0</td>\n",
       "      <td>4</td>\n",
       "    </tr>\n",
       "    <tr>\n",
       "      <th>1538834</th>\n",
       "      <td>2635</td>\n",
       "      <td>A040131005</td>\n",
       "      <td>A040000131</td>\n",
       "      <td>1</td>\n",
       "      <td>2020-10-06 14:30:15+09:00</td>\n",
       "      <td>10615</td>\n",
       "      <td>122787.0</td>\n",
       "      <td>4</td>\n",
       "    </tr>\n",
       "    <tr>\n",
       "      <th>1682236</th>\n",
       "      <td>2997</td>\n",
       "      <td>A040131005</td>\n",
       "      <td>A040000131</td>\n",
       "      <td>1</td>\n",
       "      <td>2020-09-24 16:19:11+09:00</td>\n",
       "      <td>10615</td>\n",
       "      <td>59251.0</td>\n",
       "      <td>4</td>\n",
       "    </tr>\n",
       "    <tr>\n",
       "      <th>1874507</th>\n",
       "      <td>3640</td>\n",
       "      <td>A040131005</td>\n",
       "      <td>A040000131</td>\n",
       "      <td>1</td>\n",
       "      <td>2020-09-17 18:46:11+09:00</td>\n",
       "      <td>10615</td>\n",
       "      <td>64.0</td>\n",
       "      <td>4</td>\n",
       "    </tr>\n",
       "    <tr>\n",
       "      <th>1885313</th>\n",
       "      <td>3671</td>\n",
       "      <td>A040131005</td>\n",
       "      <td>A040000131</td>\n",
       "      <td>1</td>\n",
       "      <td>2020-07-14 09:10:47+09:00</td>\n",
       "      <td>10615</td>\n",
       "      <td>171888.0</td>\n",
       "      <td>4</td>\n",
       "    </tr>\n",
       "    <tr>\n",
       "      <th>1935398</th>\n",
       "      <td>3881</td>\n",
       "      <td>A040131005</td>\n",
       "      <td>A040000131</td>\n",
       "      <td>1</td>\n",
       "      <td>2020-08-10 09:35:01+09:00</td>\n",
       "      <td>10615</td>\n",
       "      <td>87324.0</td>\n",
       "      <td>4</td>\n",
       "    </tr>\n",
       "  </tbody>\n",
       "</table>\n",
       "</div>"
      ],
      "text/plain": [
       "         userID assessmentItemID      testId  answerCode   \n",
       "39300        51       A040131005  A040000131           1  \\\n",
       "106414      137       A040131005  A040000131           1   \n",
       "134400      174       A040131005  A040000131           1   \n",
       "377936      515       A040131005  A040000131           1   \n",
       "498412      700       A040131005  A040000131           1   \n",
       "921840     1365       A040131005  A040000131           1   \n",
       "1001742    1497       A040131005  A040000131           1   \n",
       "1445015    2403       A040131005  A040000131           1   \n",
       "1538834    2635       A040131005  A040000131           1   \n",
       "1682236    2997       A040131005  A040000131           1   \n",
       "1874507    3640       A040131005  A040000131           1   \n",
       "1885313    3671       A040131005  A040000131           1   \n",
       "1935398    3881       A040131005  A040000131           1   \n",
       "\n",
       "                        Timestamp  KnowledgeTag   elapsed  testCode  \n",
       "39300   2020-07-28 18:06:24+09:00         10615   80877.0         4  \n",
       "106414  2020-09-18 12:18:35+09:00         10615  259021.0         4  \n",
       "134400  2020-02-01 12:00:01+09:00         10615    1852.0         4  \n",
       "377936  2020-09-27 11:22:34+09:00         10615      90.0         4  \n",
       "498412  2020-09-11 15:40:44+09:00         10615  150284.0         4  \n",
       "921840  2020-09-08 11:57:14+09:00         10615  101668.0         4  \n",
       "1001742 2020-06-26 21:35:28+09:00         10615   69456.0         4  \n",
       "1445015 2020-10-08 19:25:12+09:00         10615     119.0         4  \n",
       "1538834 2020-10-06 14:30:15+09:00         10615  122787.0         4  \n",
       "1682236 2020-09-24 16:19:11+09:00         10615   59251.0         4  \n",
       "1874507 2020-09-17 18:46:11+09:00         10615      64.0         4  \n",
       "1885313 2020-07-14 09:10:47+09:00         10615  171888.0         4  \n",
       "1935398 2020-08-10 09:35:01+09:00         10615   87324.0         4  "
      ]
     },
     "execution_count": 32,
     "metadata": {},
     "output_type": "execute_result"
    }
   ],
   "source": [
    "hard_pro = df[df['assessmentItemID']== 'A040131005']\n",
    "hard_pro[hard_pro['answerCode'] == 1]"
   ]
  },
  {
   "cell_type": "code",
   "execution_count": 33,
   "metadata": {
    "tags": []
   },
   "outputs": [
    {
     "data": {
      "text/html": [
       "<div>\n",
       "<style scoped>\n",
       "    .dataframe tbody tr th:only-of-type {\n",
       "        vertical-align: middle;\n",
       "    }\n",
       "\n",
       "    .dataframe tbody tr th {\n",
       "        vertical-align: top;\n",
       "    }\n",
       "\n",
       "    .dataframe thead th {\n",
       "        text-align: right;\n",
       "    }\n",
       "</style>\n",
       "<table border=\"1\" class=\"dataframe\">\n",
       "  <thead>\n",
       "    <tr style=\"text-align: right;\">\n",
       "      <th></th>\n",
       "      <th>assessmentItemID</th>\n",
       "      <th>answerCode</th>\n",
       "    </tr>\n",
       "    <tr>\n",
       "      <th>userID</th>\n",
       "      <th></th>\n",
       "      <th></th>\n",
       "    </tr>\n",
       "  </thead>\n",
       "  <tbody>\n",
       "    <tr>\n",
       "      <th>51</th>\n",
       "      <td>1662</td>\n",
       "      <td>0.888688</td>\n",
       "    </tr>\n",
       "    <tr>\n",
       "      <th>137</th>\n",
       "      <td>398</td>\n",
       "      <td>0.552764</td>\n",
       "    </tr>\n",
       "    <tr>\n",
       "      <th>174</th>\n",
       "      <td>1525</td>\n",
       "      <td>0.615082</td>\n",
       "    </tr>\n",
       "    <tr>\n",
       "      <th>515</th>\n",
       "      <td>830</td>\n",
       "      <td>0.724096</td>\n",
       "    </tr>\n",
       "    <tr>\n",
       "      <th>700</th>\n",
       "      <td>538</td>\n",
       "      <td>0.828996</td>\n",
       "    </tr>\n",
       "  </tbody>\n",
       "</table>\n",
       "</div>"
      ],
      "text/plain": [
       "        assessmentItemID  answerCode\n",
       "userID                              \n",
       "51                  1662    0.888688\n",
       "137                  398    0.552764\n",
       "174                 1525    0.615082\n",
       "515                  830    0.724096\n",
       "700                  538    0.828996"
      ]
     },
     "execution_count": 33,
     "metadata": {},
     "output_type": "execute_result"
    }
   ],
   "source": [
    "smart_peo = hard_pro[hard_pro['answerCode'] == 1].userID.unique()\n",
    "stu_groupby.loc[smart_peo, :].head()"
   ]
  },
  {
   "cell_type": "markdown",
   "metadata": {},
   "source": [
    "어려운 문제의 경우는 찍어서 맞추는 유저가 없어 보임 \\\n",
    "맞춘 유저의 평균 시간이 틀린 유저의 평균 시간보다 작다"
   ]
  },
  {
   "cell_type": "markdown",
   "metadata": {},
   "source": [
    "### 정답률도 높고 많은 문제를 푼 사용자"
   ]
  },
  {
   "cell_type": "code",
   "execution_count": 34,
   "metadata": {
    "tags": []
   },
   "outputs": [
    {
     "data": {
      "text/html": [
       "<div>\n",
       "<style scoped>\n",
       "    .dataframe tbody tr th:only-of-type {\n",
       "        vertical-align: middle;\n",
       "    }\n",
       "\n",
       "    .dataframe tbody tr th {\n",
       "        vertical-align: top;\n",
       "    }\n",
       "\n",
       "    .dataframe thead th {\n",
       "        text-align: right;\n",
       "    }\n",
       "</style>\n",
       "<table border=\"1\" class=\"dataframe\">\n",
       "  <thead>\n",
       "    <tr style=\"text-align: right;\">\n",
       "      <th></th>\n",
       "      <th>userID</th>\n",
       "      <th>answerCode</th>\n",
       "      <th>KnowledgeTag</th>\n",
       "      <th>elapsed</th>\n",
       "      <th>testCode</th>\n",
       "    </tr>\n",
       "  </thead>\n",
       "  <tbody>\n",
       "    <tr>\n",
       "      <th>count</th>\n",
       "      <td>1662.0</td>\n",
       "      <td>1662.000000</td>\n",
       "      <td>1662.000000</td>\n",
       "      <td>1661.000000</td>\n",
       "      <td>1662.000000</td>\n",
       "    </tr>\n",
       "    <tr>\n",
       "      <th>mean</th>\n",
       "      <td>51.0</td>\n",
       "      <td>0.888688</td>\n",
       "      <td>3920.290614</td>\n",
       "      <td>17415.948826</td>\n",
       "      <td>6.260529</td>\n",
       "    </tr>\n",
       "    <tr>\n",
       "      <th>std</th>\n",
       "      <td>0.0</td>\n",
       "      <td>0.314612</td>\n",
       "      <td>2598.554850</td>\n",
       "      <td>55469.134443</td>\n",
       "      <td>1.755046</td>\n",
       "    </tr>\n",
       "    <tr>\n",
       "      <th>min</th>\n",
       "      <td>51.0</td>\n",
       "      <td>0.000000</td>\n",
       "      <td>23.000000</td>\n",
       "      <td>0.000000</td>\n",
       "      <td>4.000000</td>\n",
       "    </tr>\n",
       "    <tr>\n",
       "      <th>25%</th>\n",
       "      <td>51.0</td>\n",
       "      <td>1.000000</td>\n",
       "      <td>2077.250000</td>\n",
       "      <td>36.000000</td>\n",
       "      <td>5.000000</td>\n",
       "    </tr>\n",
       "    <tr>\n",
       "      <th>50%</th>\n",
       "      <td>51.0</td>\n",
       "      <td>1.000000</td>\n",
       "      <td>3691.000000</td>\n",
       "      <td>80.000000</td>\n",
       "      <td>5.000000</td>\n",
       "    </tr>\n",
       "    <tr>\n",
       "      <th>75%</th>\n",
       "      <td>51.0</td>\n",
       "      <td>1.000000</td>\n",
       "      <td>4974.000000</td>\n",
       "      <td>285.000000</td>\n",
       "      <td>8.000000</td>\n",
       "    </tr>\n",
       "    <tr>\n",
       "      <th>max</th>\n",
       "      <td>51.0</td>\n",
       "      <td>1.000000</td>\n",
       "      <td>11271.000000</td>\n",
       "      <td>629485.000000</td>\n",
       "      <td>8.000000</td>\n",
       "    </tr>\n",
       "  </tbody>\n",
       "</table>\n",
       "</div>"
      ],
      "text/plain": [
       "       userID   answerCode  KnowledgeTag        elapsed     testCode\n",
       "count  1662.0  1662.000000   1662.000000    1661.000000  1662.000000\n",
       "mean     51.0     0.888688   3920.290614   17415.948826     6.260529\n",
       "std       0.0     0.314612   2598.554850   55469.134443     1.755046\n",
       "min      51.0     0.000000     23.000000       0.000000     4.000000\n",
       "25%      51.0     1.000000   2077.250000      36.000000     5.000000\n",
       "50%      51.0     1.000000   3691.000000      80.000000     5.000000\n",
       "75%      51.0     1.000000   4974.000000     285.000000     8.000000\n",
       "max      51.0     1.000000  11271.000000  629485.000000     8.000000"
      ]
     },
     "execution_count": 34,
     "metadata": {},
     "output_type": "execute_result"
    }
   ],
   "source": [
    "user51 = df[df['userID']==51]\n",
    "user51.describe()"
   ]
  },
  {
   "cell_type": "code",
   "execution_count": 35,
   "metadata": {
    "tags": []
   },
   "outputs": [
    {
     "data": {
      "text/plain": [
       "array([4, 8, 5])"
      ]
     },
     "execution_count": 35,
     "metadata": {},
     "output_type": "execute_result"
    }
   ],
   "source": [
    "user51.testCode.unique()"
   ]
  },
  {
   "cell_type": "code",
   "execution_count": 36,
   "metadata": {
    "tags": []
   },
   "outputs": [
    {
     "data": {
      "text/html": [
       "<div>\n",
       "<style scoped>\n",
       "    .dataframe tbody tr th:only-of-type {\n",
       "        vertical-align: middle;\n",
       "    }\n",
       "\n",
       "    .dataframe tbody tr th {\n",
       "        vertical-align: top;\n",
       "    }\n",
       "\n",
       "    .dataframe thead th {\n",
       "        text-align: right;\n",
       "    }\n",
       "</style>\n",
       "<table border=\"1\" class=\"dataframe\">\n",
       "  <thead>\n",
       "    <tr style=\"text-align: right;\">\n",
       "      <th></th>\n",
       "      <th>userID</th>\n",
       "      <th>assessmentItemID</th>\n",
       "      <th>testId</th>\n",
       "      <th>answerCode</th>\n",
       "      <th>Timestamp</th>\n",
       "      <th>KnowledgeTag</th>\n",
       "      <th>elapsed</th>\n",
       "      <th>testCode</th>\n",
       "    </tr>\n",
       "  </thead>\n",
       "  <tbody>\n",
       "    <tr>\n",
       "      <th>38465</th>\n",
       "      <td>51</td>\n",
       "      <td>A040057006</td>\n",
       "      <td>A040000057</td>\n",
       "      <td>0</td>\n",
       "      <td>2020-02-18 10:37:03+09:00</td>\n",
       "      <td>2074</td>\n",
       "      <td>146222.0</td>\n",
       "      <td>4</td>\n",
       "    </tr>\n",
       "    <tr>\n",
       "      <th>38731</th>\n",
       "      <td>51</td>\n",
       "      <td>A050034003</td>\n",
       "      <td>A050000034</td>\n",
       "      <td>0</td>\n",
       "      <td>2020-04-09 16:20:09+09:00</td>\n",
       "      <td>3682</td>\n",
       "      <td>141.0</td>\n",
       "      <td>5</td>\n",
       "    </tr>\n",
       "    <tr>\n",
       "      <th>38505</th>\n",
       "      <td>51</td>\n",
       "      <td>A050002005</td>\n",
       "      <td>A050000002</td>\n",
       "      <td>0</td>\n",
       "      <td>2020-02-26 15:32:36+09:00</td>\n",
       "      <td>2615</td>\n",
       "      <td>134.0</td>\n",
       "      <td>5</td>\n",
       "    </tr>\n",
       "    <tr>\n",
       "      <th>38754</th>\n",
       "      <td>51</td>\n",
       "      <td>A050041005</td>\n",
       "      <td>A050000041</td>\n",
       "      <td>0</td>\n",
       "      <td>2020-04-13 19:12:24+09:00</td>\n",
       "      <td>3693</td>\n",
       "      <td>434.0</td>\n",
       "      <td>5</td>\n",
       "    </tr>\n",
       "    <tr>\n",
       "      <th>39721</th>\n",
       "      <td>51</td>\n",
       "      <td>A040146002</td>\n",
       "      <td>A040000146</td>\n",
       "      <td>0</td>\n",
       "      <td>2020-10-20 20:41:03+09:00</td>\n",
       "      <td>2113</td>\n",
       "      <td>149.0</td>\n",
       "      <td>4</td>\n",
       "    </tr>\n",
       "  </tbody>\n",
       "</table>\n",
       "</div>"
      ],
      "text/plain": [
       "       userID assessmentItemID      testId  answerCode   \n",
       "38465      51       A040057006  A040000057           0  \\\n",
       "38731      51       A050034003  A050000034           0   \n",
       "38505      51       A050002005  A050000002           0   \n",
       "38754      51       A050041005  A050000041           0   \n",
       "39721      51       A040146002  A040000146           0   \n",
       "\n",
       "                      Timestamp  KnowledgeTag   elapsed  testCode  \n",
       "38465 2020-02-18 10:37:03+09:00          2074  146222.0         4  \n",
       "38731 2020-04-09 16:20:09+09:00          3682     141.0         5  \n",
       "38505 2020-02-26 15:32:36+09:00          2615     134.0         5  \n",
       "38754 2020-04-13 19:12:24+09:00          3693     434.0         5  \n",
       "39721 2020-10-20 20:41:03+09:00          2113     149.0         4  "
      ]
     },
     "execution_count": 36,
     "metadata": {},
     "output_type": "execute_result"
    }
   ],
   "source": [
    "user51[user51['answerCode']==0].sample(5)"
   ]
  },
  {
   "cell_type": "markdown",
   "metadata": {},
   "source": [
    "4, 5, 8 testCode를 풀었다 \\\n",
    "틀린 문제도 찍은게 아니라 시간을 투자했지만 틀림 \\\n",
    "문제 풀이 평균 시간이 높음"
   ]
  },
  {
   "cell_type": "code",
   "execution_count": null,
   "metadata": {},
   "outputs": [],
   "source": []
  },
  {
   "cell_type": "markdown",
   "metadata": {},
   "source": [
    "## assessmentitem Id / test Id [희원, 찬웅]"
   ]
  },
  {
   "cell_type": "markdown",
   "metadata": {},
   "source": [
    "### 문제번호에 따른 정답"
   ]
  },
  {
   "cell_type": "code",
   "execution_count": 37,
   "metadata": {
    "tags": []
   },
   "outputs": [
    {
     "data": {
      "text/plain": [
       "Text(0, 0.5, 'Correct Answer Rate')"
      ]
     },
     "execution_count": 37,
     "metadata": {},
     "output_type": "execute_result"
    },
    {
     "data": {
      "image/png": "[encoded data removed]",
      "text/plain": [
       "<Figure size 1000x1000 with 1 Axes>"
      ]
     },
     "metadata": {},
     "output_type": "display_data"
    }
   ],
   "source": [
    "df_problem = df.copy()\n",
    "df_problem['problem'] = df_problem['assessmentItemID'].str[7:]\n",
    "fig, ax = plt.subplots(figsize=(10, 10))\n",
    "problems = df_problem.groupby('problem')['answerCode'].mean()\n",
    "plt.bar(problems.index, problems)\n",
    "ax.set_xlabel('problem')\n",
    "ax.set_ylabel('Correct Answer Rate')"
   ]
  },
  {
   "cell_type": "markdown",
   "metadata": {},
   "source": [
    "### testcode"
   ]
  },
  {
   "cell_type": "code",
   "execution_count": 38,
   "metadata": {},
   "outputs": [
    {
     "data": {
      "text/plain": [
       "testCode\n",
       "7    315177\n",
       "5    306317\n",
       "1    303675\n",
       "3    303365\n",
       "4    300403\n",
       "2    297263\n",
       "6    296284\n",
       "8    271841\n",
       "9    131631\n",
       "Name: count, dtype: int64"
      ]
     },
     "execution_count": 38,
     "metadata": {},
     "output_type": "execute_result"
    }
   ],
   "source": [
    "#각 testCode 별로 풀어진 횟수 count\n",
    "df['testCode'].value_counts()"
   ]
  },
  {
   "cell_type": "markdown",
   "metadata": {},
   "source": [
    "대체적으로 골고루 문제가 풀어졌으며, 9번에 해당하는 코드만 적게 풀어진 것으로 확인"
   ]
  },
  {
   "cell_type": "code",
   "execution_count": 39,
   "metadata": {},
   "outputs": [
    {
     "data": {
      "text/plain": [
       "-0.2009546600276782"
      ]
     },
     "execution_count": 39,
     "metadata": {},
     "output_type": "execute_result"
    }
   ],
   "source": [
    "df_cor = df.copy()\n",
    "df_cor = df_cor.loc[ : , ['testCode', 'answerCode']]\n",
    "df_cor.corr()['testCode']['answerCode']"
   ]
  },
  {
   "cell_type": "markdown",
   "metadata": {},
   "source": [
    "testCode를 기준으로 groupby 진행"
   ]
  },
  {
   "cell_type": "code",
   "execution_count": 40,
   "metadata": {},
   "outputs": [
    {
     "data": {
      "text/html": [
       "<div>\n",
       "<style scoped>\n",
       "    .dataframe tbody tr th:only-of-type {\n",
       "        vertical-align: middle;\n",
       "    }\n",
       "\n",
       "    .dataframe tbody tr th {\n",
       "        vertical-align: top;\n",
       "    }\n",
       "\n",
       "    .dataframe thead th {\n",
       "        text-align: right;\n",
       "    }\n",
       "</style>\n",
       "<table border=\"1\" class=\"dataframe\">\n",
       "  <thead>\n",
       "    <tr style=\"text-align: right;\">\n",
       "      <th></th>\n",
       "      <th>testCode</th>\n",
       "      <th>answerCode</th>\n",
       "      <th>assessmentItemID</th>\n",
       "      <th>testId</th>\n",
       "      <th>userID</th>\n",
       "      <th>KnowledgeTag</th>\n",
       "    </tr>\n",
       "  </thead>\n",
       "  <tbody>\n",
       "    <tr>\n",
       "      <th>0</th>\n",
       "      <td>1</td>\n",
       "      <td>0.801686</td>\n",
       "      <td>975</td>\n",
       "      <td>192</td>\n",
       "      <td>2301</td>\n",
       "      <td>64</td>\n",
       "    </tr>\n",
       "    <tr>\n",
       "      <th>1</th>\n",
       "      <td>2</td>\n",
       "      <td>0.738023</td>\n",
       "      <td>1022</td>\n",
       "      <td>194</td>\n",
       "      <td>2481</td>\n",
       "      <td>70</td>\n",
       "    </tr>\n",
       "    <tr>\n",
       "      <th>2</th>\n",
       "      <td>3</td>\n",
       "      <td>0.702210</td>\n",
       "      <td>1060</td>\n",
       "      <td>198</td>\n",
       "      <td>2724</td>\n",
       "      <td>85</td>\n",
       "    </tr>\n",
       "    <tr>\n",
       "      <th>3</th>\n",
       "      <td>4</td>\n",
       "      <td>0.680256</td>\n",
       "      <td>1031</td>\n",
       "      <td>198</td>\n",
       "      <td>2974</td>\n",
       "      <td>81</td>\n",
       "    </tr>\n",
       "    <tr>\n",
       "      <th>4</th>\n",
       "      <td>5</td>\n",
       "      <td>0.659098</td>\n",
       "      <td>1266</td>\n",
       "      <td>193</td>\n",
       "      <td>2577</td>\n",
       "      <td>98</td>\n",
       "    </tr>\n",
       "    <tr>\n",
       "      <th>5</th>\n",
       "      <td>6</td>\n",
       "      <td>0.712279</td>\n",
       "      <td>1213</td>\n",
       "      <td>186</td>\n",
       "      <td>2364</td>\n",
       "      <td>93</td>\n",
       "    </tr>\n",
       "    <tr>\n",
       "      <th>6</th>\n",
       "      <td>7</td>\n",
       "      <td>0.521761</td>\n",
       "      <td>1322</td>\n",
       "      <td>164</td>\n",
       "      <td>1882</td>\n",
       "      <td>176</td>\n",
       "    </tr>\n",
       "    <tr>\n",
       "      <th>7</th>\n",
       "      <td>8</td>\n",
       "      <td>0.500826</td>\n",
       "      <td>1050</td>\n",
       "      <td>138</td>\n",
       "      <td>1693</td>\n",
       "      <td>150</td>\n",
       "    </tr>\n",
       "    <tr>\n",
       "      <th>8</th>\n",
       "      <td>9</td>\n",
       "      <td>0.454680</td>\n",
       "      <td>515</td>\n",
       "      <td>74</td>\n",
       "      <td>743</td>\n",
       "      <td>96</td>\n",
       "    </tr>\n",
       "  </tbody>\n",
       "</table>\n",
       "</div>"
      ],
      "text/plain": [
       "   testCode  answerCode  assessmentItemID  testId  userID  KnowledgeTag\n",
       "0         1    0.801686               975     192    2301            64\n",
       "1         2    0.738023              1022     194    2481            70\n",
       "2         3    0.702210              1060     198    2724            85\n",
       "3         4    0.680256              1031     198    2974            81\n",
       "4         5    0.659098              1266     193    2577            98\n",
       "5         6    0.712279              1213     186    2364            93\n",
       "6         7    0.521761              1322     164    1882           176\n",
       "7         8    0.500826              1050     138    1693           150\n",
       "8         9    0.454680               515      74     743            96"
      ]
     },
     "execution_count": 40,
     "metadata": {},
     "output_type": "execute_result"
    }
   ],
   "source": [
    "code_groupby = df.groupby('testCode').agg({'answerCode' : percentile, 'assessmentItemID': 'nunique',\n",
    "                                      'testId' : 'nunique', 'userID': 'nunique', 'KnowledgeTag' : 'nunique'})\n",
    "code_groupby = code_groupby.reset_index()\n",
    "code_groupby"
   ]
  },
  {
   "cell_type": "code",
   "execution_count": 41,
   "metadata": {},
   "outputs": [
    {
     "data": {
      "text/plain": [
       "[Text(0.5, 1.0, 'Answer Rate by Test Code')]"
      ]
     },
     "execution_count": 41,
     "metadata": {},
     "output_type": "execute_result"
    },
    {
     "data": {
      "image/png": "[encoded data removed]",
      "text/plain": [
       "<Figure size 640x480 with 1 Axes>"
      ]
     },
     "metadata": {},
     "output_type": "display_data"
    }
   ],
   "source": [
    "sns.barplot(x='testCode', y='answerCode', data=code_groupby, palette='winter').set(title='Answer Rate by Test Code')"
   ]
  },
  {
   "cell_type": "markdown",
   "metadata": {},
   "source": [
    "비교적으로 testCode에 따라 선형적으로 정답률이 나옴  \n",
    "가설 : testCode가 난이도를 의미할 수 있겠다.  \n",
    "다만, 6의 정답률이 높은 이유에 대한 설명이 필요"
   ]
  },
  {
   "cell_type": "code",
   "execution_count": 42,
   "metadata": {},
   "outputs": [
    {
     "data": {
      "image/png": "[encoded data removed]",
      "text/plain": [
       "<Figure size 1000x1000 with 4 Axes>"
      ]
     },
     "metadata": {},
     "output_type": "display_data"
    }
   ],
   "source": [
    "fig = plt.figure(figsize=(10,10))\n",
    "ax1 = fig.add_subplot(2,2,1)\n",
    "ax2 = fig.add_subplot(2,2,2)\n",
    "ax3 = fig.add_subplot(2,2,3)\n",
    "ax4 = fig.add_subplot(2,2,4)\n",
    "\n",
    "sns.barplot(x='testCode', y='assessmentItemID', data=code_groupby, palette='winter', ax=ax1).set(title='# of Solved Problems by Test Code')\n",
    "sns.barplot(x='testCode', y='testId', data=code_groupby, palette='winter', ax=ax2).set(title='# of Solved Tests by Test Code')\n",
    "sns.barplot(x='testCode', y='userID', data=code_groupby, palette='winter', ax=ax3).set(title='# of Users by Test Code')\n",
    "sns.barplot(x='testCode', y='KnowledgeTag', data=code_groupby, palette='winter', ax=ax4).set(title='# of KnowledgeTag by Test Code')\n",
    "\n",
    "plt.subplots_adjust(left=0.1, right=0.95, bottom=0.1, top=0.95, wspace=0.7, hspace=0.5)\n",
    "plt.show()"
   ]
  },
  {
   "cell_type": "markdown",
   "metadata": {},
   "source": [
    "일부 학생을 선별하여 푼 문제의 testcode를 체크  \n",
    "선별 기준:  \n",
    "1. 푼 문제의 수가 많은 학생, 중간인 학생\n",
    "2. 정답률이 높은 학생"
   ]
  },
  {
   "cell_type": "code",
   "execution_count": 43,
   "metadata": {},
   "outputs": [
    {
     "data": {
      "text/html": [
       "<div>\n",
       "<style scoped>\n",
       "    .dataframe tbody tr th:only-of-type {\n",
       "        vertical-align: middle;\n",
       "    }\n",
       "\n",
       "    .dataframe tbody tr th {\n",
       "        vertical-align: top;\n",
       "    }\n",
       "\n",
       "    .dataframe thead th {\n",
       "        text-align: right;\n",
       "    }\n",
       "</style>\n",
       "<table border=\"1\" class=\"dataframe\">\n",
       "  <thead>\n",
       "    <tr style=\"text-align: right;\">\n",
       "      <th></th>\n",
       "      <th>assessmentItemID</th>\n",
       "      <th>answerCode</th>\n",
       "    </tr>\n",
       "    <tr>\n",
       "      <th>userID</th>\n",
       "      <th></th>\n",
       "      <th></th>\n",
       "    </tr>\n",
       "  </thead>\n",
       "  <tbody>\n",
       "    <tr>\n",
       "      <th>0</th>\n",
       "      <td>745</td>\n",
       "      <td>0.630872</td>\n",
       "    </tr>\n",
       "    <tr>\n",
       "      <th>1</th>\n",
       "      <td>933</td>\n",
       "      <td>0.853162</td>\n",
       "    </tr>\n",
       "    <tr>\n",
       "      <th>2</th>\n",
       "      <td>276</td>\n",
       "      <td>0.612319</td>\n",
       "    </tr>\n",
       "    <tr>\n",
       "      <th>3</th>\n",
       "      <td>1035</td>\n",
       "      <td>0.692754</td>\n",
       "    </tr>\n",
       "    <tr>\n",
       "      <th>4</th>\n",
       "      <td>670</td>\n",
       "      <td>0.694030</td>\n",
       "    </tr>\n",
       "    <tr>\n",
       "      <th>...</th>\n",
       "      <td>...</td>\n",
       "      <td>...</td>\n",
       "    </tr>\n",
       "    <tr>\n",
       "      <th>7437</th>\n",
       "      <td>16</td>\n",
       "      <td>0.375000</td>\n",
       "    </tr>\n",
       "    <tr>\n",
       "      <th>7438</th>\n",
       "      <td>16</td>\n",
       "      <td>0.750000</td>\n",
       "    </tr>\n",
       "    <tr>\n",
       "      <th>7439</th>\n",
       "      <td>15</td>\n",
       "      <td>0.733333</td>\n",
       "    </tr>\n",
       "    <tr>\n",
       "      <th>7440</th>\n",
       "      <td>15</td>\n",
       "      <td>0.400000</td>\n",
       "    </tr>\n",
       "    <tr>\n",
       "      <th>7441</th>\n",
       "      <td>9</td>\n",
       "      <td>0.555556</td>\n",
       "    </tr>\n",
       "  </tbody>\n",
       "</table>\n",
       "<p>7442 rows × 2 columns</p>\n",
       "</div>"
      ],
      "text/plain": [
       "        assessmentItemID  answerCode\n",
       "userID                              \n",
       "0                    745    0.630872\n",
       "1                    933    0.853162\n",
       "2                    276    0.612319\n",
       "3                   1035    0.692754\n",
       "4                    670    0.694030\n",
       "...                  ...         ...\n",
       "7437                  16    0.375000\n",
       "7438                  16    0.750000\n",
       "7439                  15    0.733333\n",
       "7440                  15    0.400000\n",
       "7441                   9    0.555556\n",
       "\n",
       "[7442 rows x 2 columns]"
      ]
     },
     "execution_count": 43,
     "metadata": {},
     "output_type": "execute_result"
    }
   ],
   "source": [
    "stu_groupby = df.groupby('userID').agg({\n",
    "    'assessmentItemID': 'count',\n",
    "    'answerCode': percentile\n",
    "})\n",
    "stu_groupby"
   ]
  },
  {
   "cell_type": "code",
   "execution_count": 44,
   "metadata": {},
   "outputs": [
    {
     "data": {
      "text/plain": [
       "Index([730, 4663], dtype='int16', name='userID')"
      ]
     },
     "execution_count": 44,
     "metadata": {},
     "output_type": "execute_result"
    }
   ],
   "source": [
    "samples = stu_groupby.sort_values(by='assessmentItemID', ascending=False).index[[0, 3300]]\n",
    "samples"
   ]
  },
  {
   "cell_type": "code",
   "execution_count": 45,
   "metadata": {},
   "outputs": [
    {
     "data": {
      "text/html": [
       "<div>\n",
       "<style scoped>\n",
       "    .dataframe tbody tr th:only-of-type {\n",
       "        vertical-align: middle;\n",
       "    }\n",
       "\n",
       "    .dataframe tbody tr th {\n",
       "        vertical-align: top;\n",
       "    }\n",
       "\n",
       "    .dataframe thead th {\n",
       "        text-align: right;\n",
       "    }\n",
       "</style>\n",
       "<table border=\"1\" class=\"dataframe\">\n",
       "  <thead>\n",
       "    <tr style=\"text-align: right;\">\n",
       "      <th></th>\n",
       "      <th>assessmentItemID</th>\n",
       "      <th>answerCode</th>\n",
       "    </tr>\n",
       "    <tr>\n",
       "      <th>testCode</th>\n",
       "      <th></th>\n",
       "      <th></th>\n",
       "    </tr>\n",
       "  </thead>\n",
       "  <tbody>\n",
       "    <tr>\n",
       "      <th>4</th>\n",
       "      <td>325</td>\n",
       "      <td>0.483077</td>\n",
       "    </tr>\n",
       "    <tr>\n",
       "      <th>5</th>\n",
       "      <td>294</td>\n",
       "      <td>0.829932</td>\n",
       "    </tr>\n",
       "    <tr>\n",
       "      <th>7</th>\n",
       "      <td>1241</td>\n",
       "      <td>0.573731</td>\n",
       "    </tr>\n",
       "  </tbody>\n",
       "</table>\n",
       "</div>"
      ],
      "text/plain": [
       "          assessmentItemID  answerCode\n",
       "testCode                              \n",
       "4                      325    0.483077\n",
       "5                      294    0.829932\n",
       "7                     1241    0.573731"
      ]
     },
     "execution_count": 45,
     "metadata": {},
     "output_type": "execute_result"
    }
   ],
   "source": [
    "sample_df = df[df['userID'] == 730]\n",
    "\n",
    "lv_sample = sample_df.groupby('testCode').agg({'assessmentItemID' : 'count', 'answerCode' : percentile})\n",
    "lv_sample"
   ]
  },
  {
   "cell_type": "code",
   "execution_count": 46,
   "metadata": {},
   "outputs": [
    {
     "data": {
      "text/html": [
       "<div>\n",
       "<style scoped>\n",
       "    .dataframe tbody tr th:only-of-type {\n",
       "        vertical-align: middle;\n",
       "    }\n",
       "\n",
       "    .dataframe tbody tr th {\n",
       "        vertical-align: top;\n",
       "    }\n",
       "\n",
       "    .dataframe thead th {\n",
       "        text-align: right;\n",
       "    }\n",
       "</style>\n",
       "<table border=\"1\" class=\"dataframe\">\n",
       "  <thead>\n",
       "    <tr style=\"text-align: right;\">\n",
       "      <th></th>\n",
       "      <th>assessmentItemID</th>\n",
       "      <th>answerCode</th>\n",
       "    </tr>\n",
       "    <tr>\n",
       "      <th>testCode</th>\n",
       "      <th></th>\n",
       "      <th></th>\n",
       "    </tr>\n",
       "  </thead>\n",
       "  <tbody>\n",
       "    <tr>\n",
       "      <th>5</th>\n",
       "      <td>140</td>\n",
       "      <td>0.578571</td>\n",
       "    </tr>\n",
       "    <tr>\n",
       "      <th>6</th>\n",
       "      <td>7</td>\n",
       "      <td>0.571429</td>\n",
       "    </tr>\n",
       "    <tr>\n",
       "      <th>7</th>\n",
       "      <td>140</td>\n",
       "      <td>0.842857</td>\n",
       "    </tr>\n",
       "  </tbody>\n",
       "</table>\n",
       "</div>"
      ],
      "text/plain": [
       "          assessmentItemID  answerCode\n",
       "testCode                              \n",
       "5                      140    0.578571\n",
       "6                        7    0.571429\n",
       "7                      140    0.842857"
      ]
     },
     "execution_count": 46,
     "metadata": {},
     "output_type": "execute_result"
    }
   ],
   "source": [
    "sample_d2 = df[df['userID'] == 4663]\n",
    "lv_sample2 = sample_d2.groupby('testCode').agg({'assessmentItemID' : 'count', 'answerCode' : percentile})\n",
    "\n",
    "lv_sample2"
   ]
  },
  {
   "cell_type": "code",
   "execution_count": 47,
   "metadata": {},
   "outputs": [
    {
     "data": {
      "text/plain": [
       "Index([7171], dtype='int16', name='userID')"
      ]
     },
     "execution_count": 47,
     "metadata": {},
     "output_type": "execute_result"
    }
   ],
   "source": [
    "samples2 = stu_groupby.sort_values(by='answerCode', ascending=False).index[[0]]\n",
    "samples2"
   ]
  },
  {
   "cell_type": "code",
   "execution_count": 48,
   "metadata": {},
   "outputs": [
    {
     "data": {
      "text/html": [
       "<div>\n",
       "<style scoped>\n",
       "    .dataframe tbody tr th:only-of-type {\n",
       "        vertical-align: middle;\n",
       "    }\n",
       "\n",
       "    .dataframe tbody tr th {\n",
       "        vertical-align: top;\n",
       "    }\n",
       "\n",
       "    .dataframe thead th {\n",
       "        text-align: right;\n",
       "    }\n",
       "</style>\n",
       "<table border=\"1\" class=\"dataframe\">\n",
       "  <thead>\n",
       "    <tr style=\"text-align: right;\">\n",
       "      <th></th>\n",
       "      <th>assessmentItemID</th>\n",
       "      <th>answerCode</th>\n",
       "    </tr>\n",
       "    <tr>\n",
       "      <th>testCode</th>\n",
       "      <th></th>\n",
       "      <th></th>\n",
       "    </tr>\n",
       "  </thead>\n",
       "  <tbody>\n",
       "    <tr>\n",
       "      <th>1</th>\n",
       "      <td>10</td>\n",
       "      <td>1.0</td>\n",
       "    </tr>\n",
       "    <tr>\n",
       "      <th>6</th>\n",
       "      <td>10</td>\n",
       "      <td>1.0</td>\n",
       "    </tr>\n",
       "  </tbody>\n",
       "</table>\n",
       "</div>"
      ],
      "text/plain": [
       "          assessmentItemID  answerCode\n",
       "testCode                              \n",
       "1                       10         1.0\n",
       "6                       10         1.0"
      ]
     },
     "execution_count": 48,
     "metadata": {},
     "output_type": "execute_result"
    }
   ],
   "source": [
    "sample2_df = df[df['userID'] == 7171]\n",
    "lv_sample3 = sample2_df.groupby('testCode').agg({'assessmentItemID' : 'count', 'answerCode' : percentile})\n",
    "\n",
    "lv_sample3"
   ]
  },
  {
   "cell_type": "markdown",
   "metadata": {},
   "source": [
    "세 학생 모두 3개 이하의 testCode만 푼 것을 확인  \n",
    "\n",
    "제기했던 가설 : testCode가 학년에 따른 분류를 나타낼까?  \n",
    "다양한 코드를 순서 상관없이 푸는 것으로 보아 학년에 의한 분류는 아닌 것으로 보여진다.\n",
    "\n",
    "(여기 희원 오빠가 한 거 추가해주면 될 듯!)"
   ]
  },
  {
   "cell_type": "markdown",
   "metadata": {},
   "source": [
    "## timestamp [현정, 희만, … ]"
   ]
  },
  {
   "cell_type": "markdown",
   "metadata": {},
   "source": [
    "월별 평균, 총합, 개수"
   ]
  },
  {
   "cell_type": "code",
   "execution_count": 49,
   "metadata": {},
   "outputs": [
    {
     "data": {
      "text/html": [
       "<div>\n",
       "<style scoped>\n",
       "    .dataframe tbody tr th:only-of-type {\n",
       "        vertical-align: middle;\n",
       "    }\n",
       "\n",
       "    .dataframe tbody tr th {\n",
       "        vertical-align: top;\n",
       "    }\n",
       "\n",
       "    .dataframe thead th {\n",
       "        text-align: right;\n",
       "    }\n",
       "</style>\n",
       "<table border=\"1\" class=\"dataframe\">\n",
       "  <thead>\n",
       "    <tr style=\"text-align: right;\">\n",
       "      <th></th>\n",
       "      <th>mean</th>\n",
       "      <th>sum</th>\n",
       "      <th>count</th>\n",
       "    </tr>\n",
       "    <tr>\n",
       "      <th>Timestamp</th>\n",
       "      <th></th>\n",
       "      <th></th>\n",
       "      <th></th>\n",
       "    </tr>\n",
       "  </thead>\n",
       "  <tbody>\n",
       "    <tr>\n",
       "      <th>2020-01-31 00:00:00+09:00</th>\n",
       "      <td>0.706736</td>\n",
       "      <td>29449</td>\n",
       "      <td>41669</td>\n",
       "    </tr>\n",
       "    <tr>\n",
       "      <th>2020-02-29 00:00:00+09:00</th>\n",
       "      <td>0.686150</td>\n",
       "      <td>60268</td>\n",
       "      <td>87835</td>\n",
       "    </tr>\n",
       "    <tr>\n",
       "      <th>2020-03-31 00:00:00+09:00</th>\n",
       "      <td>0.682923</td>\n",
       "      <td>132371</td>\n",
       "      <td>193830</td>\n",
       "    </tr>\n",
       "    <tr>\n",
       "      <th>2020-04-30 00:00:00+09:00</th>\n",
       "      <td>0.649782</td>\n",
       "      <td>128931</td>\n",
       "      <td>198422</td>\n",
       "    </tr>\n",
       "    <tr>\n",
       "      <th>2020-05-31 00:00:00+09:00</th>\n",
       "      <td>0.643328</td>\n",
       "      <td>131522</td>\n",
       "      <td>204440</td>\n",
       "    </tr>\n",
       "    <tr>\n",
       "      <th>2020-06-30 00:00:00+09:00</th>\n",
       "      <td>0.652473</td>\n",
       "      <td>165259</td>\n",
       "      <td>253281</td>\n",
       "    </tr>\n",
       "    <tr>\n",
       "      <th>2020-07-31 00:00:00+09:00</th>\n",
       "      <td>0.666436</td>\n",
       "      <td>201425</td>\n",
       "      <td>302242</td>\n",
       "    </tr>\n",
       "    <tr>\n",
       "      <th>2020-08-31 00:00:00+09:00</th>\n",
       "      <td>0.657312</td>\n",
       "      <td>231763</td>\n",
       "      <td>352592</td>\n",
       "    </tr>\n",
       "    <tr>\n",
       "      <th>2020-09-30 00:00:00+09:00</th>\n",
       "      <td>0.670203</td>\n",
       "      <td>253542</td>\n",
       "      <td>378306</td>\n",
       "    </tr>\n",
       "    <tr>\n",
       "      <th>2020-10-31 00:00:00+09:00</th>\n",
       "      <td>0.670672</td>\n",
       "      <td>243592</td>\n",
       "      <td>363206</td>\n",
       "    </tr>\n",
       "    <tr>\n",
       "      <th>2020-11-30 00:00:00+09:00</th>\n",
       "      <td>0.507165</td>\n",
       "      <td>40203</td>\n",
       "      <td>79270</td>\n",
       "    </tr>\n",
       "    <tr>\n",
       "      <th>2020-12-31 00:00:00+09:00</th>\n",
       "      <td>0.497622</td>\n",
       "      <td>35263</td>\n",
       "      <td>70863</td>\n",
       "    </tr>\n",
       "  </tbody>\n",
       "</table>\n",
       "</div>"
      ],
      "text/plain": [
       "                               mean     sum   count\n",
       "Timestamp                                          \n",
       "2020-01-31 00:00:00+09:00  0.706736   29449   41669\n",
       "2020-02-29 00:00:00+09:00  0.686150   60268   87835\n",
       "2020-03-31 00:00:00+09:00  0.682923  132371  193830\n",
       "2020-04-30 00:00:00+09:00  0.649782  128931  198422\n",
       "2020-05-31 00:00:00+09:00  0.643328  131522  204440\n",
       "2020-06-30 00:00:00+09:00  0.652473  165259  253281\n",
       "2020-07-31 00:00:00+09:00  0.666436  201425  302242\n",
       "2020-08-31 00:00:00+09:00  0.657312  231763  352592\n",
       "2020-09-30 00:00:00+09:00  0.670203  253542  378306\n",
       "2020-10-31 00:00:00+09:00  0.670672  243592  363206\n",
       "2020-11-30 00:00:00+09:00  0.507165   40203   79270\n",
       "2020-12-31 00:00:00+09:00  0.497622   35263   70863"
      ]
     },
     "execution_count": 49,
     "metadata": {},
     "output_type": "execute_result"
    }
   ],
   "source": [
    "last_1M = df.groupby([pd.Grouper(freq='1M',key='Timestamp')])[\"answerCode\"].agg([\"mean\", \"sum\", \"count\"])\n",
    "last_1M"
   ]
  },
  {
   "cell_type": "markdown",
   "metadata": {},
   "source": [
    "월별로 뽑아낸 데이터의 개수와 정답률"
   ]
  },
  {
   "cell_type": "code",
   "execution_count": 50,
   "metadata": {},
   "outputs": [
    {
     "data": {
      "image/png": "[encoded data removed]",
      "text/plain": [
       "<Figure size 2500x600 with 1 Axes>"
      ]
     },
     "metadata": {},
     "output_type": "display_data"
    }
   ],
   "source": [
    "plt.figure(figsize=(25,6))\n",
    "sns.barplot(x=last_1M[1:].index.month , y=last_1M[1:]['count'])\n",
    "plt.xticks(rotation=90)\n",
    "plt.title('Number of data per month')\n",
    "plt.tight_layout()"
   ]
  },
  {
   "cell_type": "code",
   "execution_count": 51,
   "metadata": {},
   "outputs": [
    {
     "data": {
      "image/png": "[encoded data removed]",
      "text/plain": [
       "<Figure size 2500x600 with 1 Axes>"
      ]
     },
     "metadata": {},
     "output_type": "display_data"
    }
   ],
   "source": [
    "plt.figure(figsize=(25,6))\n",
    "sns.barplot(x=last_1M[1:].index.month, y=last_1M[1:]['mean'])\n",
    "plt.xticks(rotation=90)\n",
    "plt.title('Monthly correctness rate')\n",
    "plt.tight_layout()"
   ]
  },
  {
   "cell_type": "markdown",
   "metadata": {},
   "source": [
    "시간대별로 추출"
   ]
  },
  {
   "cell_type": "code",
   "execution_count": 52,
   "metadata": {},
   "outputs": [
    {
     "data": {
      "image/png": "[encoded data removed]",
      "text/plain": [
       "<Figure size 2500x600 with 1 Axes>"
      ]
     },
     "metadata": {},
     "output_type": "display_data"
    }
   ],
   "source": [
    "df['Hour'] = df['Timestamp'].dt.hour \n",
    "Hour_ans_rate = df.groupby([\"Hour\"])[\"answerCode\"].agg([\"mean\", \"count\"]).reset_index()\n",
    "\n",
    "plt.figure(figsize=(25,6))\n",
    "sns.barplot(x=\"Hour\", y=\"count\", data=Hour_ans_rate, palette='Set2')\n",
    "plt.title('Number of data by time zone')\n",
    "plt.show()"
   ]
  },
  {
   "cell_type": "code",
   "execution_count": 53,
   "metadata": {},
   "outputs": [
    {
     "data": {
      "image/png": "[encoded data removed]",
      "text/plain": [
       "<Figure size 2500x600 with 1 Axes>"
      ]
     },
     "metadata": {},
     "output_type": "display_data"
    }
   ],
   "source": [
    "plt.figure(figsize=(25,6))\n",
    "sns.barplot(x=\"Hour\", y=\"mean\", data=Hour_ans_rate, palette='Set2')\n",
    "plt.title('Rate of correct answers by time zone')\n",
    "plt.show()"
   ]
  },
  {
   "cell_type": "markdown",
   "metadata": {},
   "source": [
    "시간대별 정답률 확인"
   ]
  },
  {
   "cell_type": "code",
   "execution_count": 54,
   "metadata": {},
   "outputs": [],
   "source": [
    "bins = [0, 6, 12, 18, 24]\n",
    "labels = ['0~5', '6~11', '12~17', '18~23']\n",
    "df['hour_range'] = pd.cut(df['Hour'], bins=bins, labels=labels, include_lowest=True)\n",
    "\n",
    "Hour_range_ans_rate = df.groupby([\"hour_range\"])[\"answerCode\"].agg([\"mean\", \"count\"]).reset_index()"
   ]
  },
  {
   "cell_type": "markdown",
   "metadata": {},
   "source": [
    "새벽시간에 더 적은 문제를 풀었음에도 평균이 상대적으로 낮은것을 확인가능"
   ]
  },
  {
   "cell_type": "code",
   "execution_count": 55,
   "metadata": {},
   "outputs": [
    {
     "data": {
      "text/html": [
       "<div>\n",
       "<style scoped>\n",
       "    .dataframe tbody tr th:only-of-type {\n",
       "        vertical-align: middle;\n",
       "    }\n",
       "\n",
       "    .dataframe tbody tr th {\n",
       "        vertical-align: top;\n",
       "    }\n",
       "\n",
       "    .dataframe thead th {\n",
       "        text-align: right;\n",
       "    }\n",
       "</style>\n",
       "<table border=\"1\" class=\"dataframe\">\n",
       "  <thead>\n",
       "    <tr style=\"text-align: right;\">\n",
       "      <th></th>\n",
       "      <th>hour_range</th>\n",
       "      <th>mean</th>\n",
       "      <th>count</th>\n",
       "    </tr>\n",
       "  </thead>\n",
       "  <tbody>\n",
       "    <tr>\n",
       "      <th>0</th>\n",
       "      <td>0~5</td>\n",
       "      <td>0.565643</td>\n",
       "      <td>149423</td>\n",
       "    </tr>\n",
       "    <tr>\n",
       "      <th>1</th>\n",
       "      <td>6~11</td>\n",
       "      <td>0.644490</td>\n",
       "      <td>757332</td>\n",
       "    </tr>\n",
       "    <tr>\n",
       "      <th>2</th>\n",
       "      <td>12~17</td>\n",
       "      <td>0.646343</td>\n",
       "      <td>1053100</td>\n",
       "    </tr>\n",
       "    <tr>\n",
       "      <th>3</th>\n",
       "      <td>18~23</td>\n",
       "      <td>0.707137</td>\n",
       "      <td>566101</td>\n",
       "    </tr>\n",
       "  </tbody>\n",
       "</table>\n",
       "</div>"
      ],
      "text/plain": [
       "  hour_range      mean    count\n",
       "0        0~5  0.565643   149423\n",
       "1       6~11  0.644490   757332\n",
       "2      12~17  0.646343  1053100\n",
       "3      18~23  0.707137   566101"
      ]
     },
     "execution_count": 55,
     "metadata": {},
     "output_type": "execute_result"
    }
   ],
   "source": [
    "Hour_range_ans_rate"
   ]
  },
  {
   "cell_type": "code",
   "execution_count": 56,
   "metadata": {},
   "outputs": [
    {
     "data": {
      "image/png": "[encoded data removed]",
      "text/plain": [
       "<Figure size 2500x600 with 1 Axes>"
      ]
     },
     "metadata": {},
     "output_type": "display_data"
    }
   ],
   "source": [
    "plt.figure(figsize=(25,6))\n",
    "sns.barplot(x=\"hour_range\", y=\"count\", data=Hour_range_ans_rate, palette='Set2')\n",
    "plt.title('Number of data by range zone')\n",
    "plt.show()"
   ]
  },
  {
   "cell_type": "code",
   "execution_count": 57,
   "metadata": {},
   "outputs": [
    {
     "data": {
      "image/png": "[encoded data removed]",
      "text/plain": [
       "<Figure size 2000x600 with 1 Axes>"
      ]
     },
     "metadata": {},
     "output_type": "display_data"
    }
   ],
   "source": [
    "plt.figure(figsize=(20,6))\n",
    "sns.barplot(x=\"hour_range\", y=\"mean\", data=Hour_range_ans_rate, palette='Set2')\n",
    "plt.title('Rate of correct answers by range zone')\n",
    "plt.show()"
   ]
  },
  {
   "cell_type": "markdown",
   "metadata": {},
   "source": [
    "## knowledgetag"
   ]
  },
  {
   "cell_type": "markdown",
   "metadata": {},
   "source": [
    "### baseline에서더 많이 노출된 태그가 정답률이 더 높은가?"
   ]
  },
  {
   "cell_type": "markdown",
   "metadata": {},
   "source": [
    "### knowledgeTag를 1000단위로 나눠서 분류\n",
    "가설 : 숫자가 가까운 knowledgeTag는 비슷한 유형일 것이다."
   ]
  },
  {
   "cell_type": "code",
   "execution_count": 58,
   "metadata": {},
   "outputs": [],
   "source": [
    "def tag_map(x: int) -> int:\n",
    "    x = int(x)\n",
    "    x = x // 1000\n",
    "    return x"
   ]
  },
  {
   "cell_type": "code",
   "execution_count": 59,
   "metadata": {},
   "outputs": [
    {
     "data": {
      "text/html": [
       "<div>\n",
       "<style scoped>\n",
       "    .dataframe tbody tr th:only-of-type {\n",
       "        vertical-align: middle;\n",
       "    }\n",
       "\n",
       "    .dataframe tbody tr th {\n",
       "        vertical-align: top;\n",
       "    }\n",
       "\n",
       "    .dataframe thead th {\n",
       "        text-align: right;\n",
       "    }\n",
       "</style>\n",
       "<table border=\"1\" class=\"dataframe\">\n",
       "  <thead>\n",
       "    <tr style=\"text-align: right;\">\n",
       "      <th></th>\n",
       "      <th>userID</th>\n",
       "      <th>assessmentItemID</th>\n",
       "      <th>testId</th>\n",
       "      <th>answerCode</th>\n",
       "      <th>Timestamp</th>\n",
       "      <th>KnowledgeTag</th>\n",
       "      <th>elapsed</th>\n",
       "      <th>testCode</th>\n",
       "      <th>Hour</th>\n",
       "      <th>hour_range</th>\n",
       "      <th>KnowledgeTag_cat</th>\n",
       "    </tr>\n",
       "  </thead>\n",
       "  <tbody>\n",
       "    <tr>\n",
       "      <th>0</th>\n",
       "      <td>0</td>\n",
       "      <td>A060001001</td>\n",
       "      <td>A060000001</td>\n",
       "      <td>1</td>\n",
       "      <td>2020-03-24 09:17:11+09:00</td>\n",
       "      <td>7224</td>\n",
       "      <td>3.0</td>\n",
       "      <td>6</td>\n",
       "      <td>9</td>\n",
       "      <td>6~11</td>\n",
       "      <td>7</td>\n",
       "    </tr>\n",
       "    <tr>\n",
       "      <th>1</th>\n",
       "      <td>0</td>\n",
       "      <td>A060001002</td>\n",
       "      <td>A060000001</td>\n",
       "      <td>1</td>\n",
       "      <td>2020-03-24 09:17:14+09:00</td>\n",
       "      <td>7225</td>\n",
       "      <td>8.0</td>\n",
       "      <td>6</td>\n",
       "      <td>9</td>\n",
       "      <td>6~11</td>\n",
       "      <td>7</td>\n",
       "    </tr>\n",
       "    <tr>\n",
       "      <th>2</th>\n",
       "      <td>0</td>\n",
       "      <td>A060001003</td>\n",
       "      <td>A060000001</td>\n",
       "      <td>1</td>\n",
       "      <td>2020-03-24 09:17:22+09:00</td>\n",
       "      <td>7225</td>\n",
       "      <td>7.0</td>\n",
       "      <td>6</td>\n",
       "      <td>9</td>\n",
       "      <td>6~11</td>\n",
       "      <td>7</td>\n",
       "    </tr>\n",
       "    <tr>\n",
       "      <th>3</th>\n",
       "      <td>0</td>\n",
       "      <td>A060001004</td>\n",
       "      <td>A060000001</td>\n",
       "      <td>1</td>\n",
       "      <td>2020-03-24 09:17:29+09:00</td>\n",
       "      <td>7225</td>\n",
       "      <td>7.0</td>\n",
       "      <td>6</td>\n",
       "      <td>9</td>\n",
       "      <td>6~11</td>\n",
       "      <td>7</td>\n",
       "    </tr>\n",
       "    <tr>\n",
       "      <th>4</th>\n",
       "      <td>0</td>\n",
       "      <td>A060001005</td>\n",
       "      <td>A060000001</td>\n",
       "      <td>1</td>\n",
       "      <td>2020-03-24 09:17:36+09:00</td>\n",
       "      <td>7225</td>\n",
       "      <td>11.0</td>\n",
       "      <td>6</td>\n",
       "      <td>9</td>\n",
       "      <td>6~11</td>\n",
       "      <td>7</td>\n",
       "    </tr>\n",
       "    <tr>\n",
       "      <th>...</th>\n",
       "      <td>...</td>\n",
       "      <td>...</td>\n",
       "      <td>...</td>\n",
       "      <td>...</td>\n",
       "      <td>...</td>\n",
       "      <td>...</td>\n",
       "      <td>...</td>\n",
       "      <td>...</td>\n",
       "      <td>...</td>\n",
       "      <td>...</td>\n",
       "      <td>...</td>\n",
       "    </tr>\n",
       "    <tr>\n",
       "      <th>259365</th>\n",
       "      <td>7439</td>\n",
       "      <td>A040197006</td>\n",
       "      <td>A040000197</td>\n",
       "      <td>1</td>\n",
       "      <td>2020-08-21 16:39:45+09:00</td>\n",
       "      <td>2132</td>\n",
       "      <td>4721258.0</td>\n",
       "      <td>4</td>\n",
       "      <td>16</td>\n",
       "      <td>12~17</td>\n",
       "      <td>2</td>\n",
       "    </tr>\n",
       "    <tr>\n",
       "      <th>259366</th>\n",
       "      <td>7439</td>\n",
       "      <td>A040130001</td>\n",
       "      <td>A040000130</td>\n",
       "      <td>0</td>\n",
       "      <td>2020-10-15 08:07:23+09:00</td>\n",
       "      <td>8832</td>\n",
       "      <td>18.0</td>\n",
       "      <td>4</td>\n",
       "      <td>8</td>\n",
       "      <td>6~11</td>\n",
       "      <td>8</td>\n",
       "    </tr>\n",
       "    <tr>\n",
       "      <th>259367</th>\n",
       "      <td>7439</td>\n",
       "      <td>A040130002</td>\n",
       "      <td>A040000130</td>\n",
       "      <td>1</td>\n",
       "      <td>2020-10-15 08:07:41+09:00</td>\n",
       "      <td>8832</td>\n",
       "      <td>21.0</td>\n",
       "      <td>4</td>\n",
       "      <td>8</td>\n",
       "      <td>6~11</td>\n",
       "      <td>8</td>\n",
       "    </tr>\n",
       "    <tr>\n",
       "      <th>259368</th>\n",
       "      <td>7439</td>\n",
       "      <td>A040130003</td>\n",
       "      <td>A040000130</td>\n",
       "      <td>1</td>\n",
       "      <td>2020-10-15 08:08:02+09:00</td>\n",
       "      <td>8244</td>\n",
       "      <td>89.0</td>\n",
       "      <td>4</td>\n",
       "      <td>8</td>\n",
       "      <td>6~11</td>\n",
       "      <td>8</td>\n",
       "    </tr>\n",
       "    <tr>\n",
       "      <th>259369</th>\n",
       "      <td>7439</td>\n",
       "      <td>A040130004</td>\n",
       "      <td>A040000130</td>\n",
       "      <td>1</td>\n",
       "      <td>2020-10-15 08:09:31+09:00</td>\n",
       "      <td>8244</td>\n",
       "      <td>32.0</td>\n",
       "      <td>4</td>\n",
       "      <td>8</td>\n",
       "      <td>6~11</td>\n",
       "      <td>8</td>\n",
       "    </tr>\n",
       "  </tbody>\n",
       "</table>\n",
       "<p>2525956 rows × 11 columns</p>\n",
       "</div>"
      ],
      "text/plain": [
       "        userID assessmentItemID      testId  answerCode   \n",
       "0            0       A060001001  A060000001           1  \\\n",
       "1            0       A060001002  A060000001           1   \n",
       "2            0       A060001003  A060000001           1   \n",
       "3            0       A060001004  A060000001           1   \n",
       "4            0       A060001005  A060000001           1   \n",
       "...        ...              ...         ...         ...   \n",
       "259365    7439       A040197006  A040000197           1   \n",
       "259366    7439       A040130001  A040000130           0   \n",
       "259367    7439       A040130002  A040000130           1   \n",
       "259368    7439       A040130003  A040000130           1   \n",
       "259369    7439       A040130004  A040000130           1   \n",
       "\n",
       "                       Timestamp  KnowledgeTag    elapsed  testCode  Hour   \n",
       "0      2020-03-24 09:17:11+09:00          7224        3.0         6     9  \\\n",
       "1      2020-03-24 09:17:14+09:00          7225        8.0         6     9   \n",
       "2      2020-03-24 09:17:22+09:00          7225        7.0         6     9   \n",
       "3      2020-03-24 09:17:29+09:00          7225        7.0         6     9   \n",
       "4      2020-03-24 09:17:36+09:00          7225       11.0         6     9   \n",
       "...                          ...           ...        ...       ...   ...   \n",
       "259365 2020-08-21 16:39:45+09:00          2132  4721258.0         4    16   \n",
       "259366 2020-10-15 08:07:23+09:00          8832       18.0         4     8   \n",
       "259367 2020-10-15 08:07:41+09:00          8832       21.0         4     8   \n",
       "259368 2020-10-15 08:08:02+09:00          8244       89.0         4     8   \n",
       "259369 2020-10-15 08:09:31+09:00          8244       32.0         4     8   \n",
       "\n",
       "       hour_range  KnowledgeTag_cat  \n",
       "0            6~11                 7  \n",
       "1            6~11                 7  \n",
       "2            6~11                 7  \n",
       "3            6~11                 7  \n",
       "4            6~11                 7  \n",
       "...           ...               ...  \n",
       "259365      12~17                 2  \n",
       "259366       6~11                 8  \n",
       "259367       6~11                 8  \n",
       "259368       6~11                 8  \n",
       "259369       6~11                 8  \n",
       "\n",
       "[2525956 rows x 11 columns]"
      ]
     },
     "execution_count": 59,
     "metadata": {},
     "output_type": "execute_result"
    }
   ],
   "source": [
    "df_tag = df.copy()\n",
    "\n",
    "df_tag['KnowledgeTag_cat'] = df_tag['KnowledgeTag'].apply(tag_map)\n",
    "df_tag"
   ]
  },
  {
   "cell_type": "code",
   "execution_count": 60,
   "metadata": {},
   "outputs": [
    {
     "data": {
      "text/plain": [
       "12"
      ]
     },
     "execution_count": 60,
     "metadata": {},
     "output_type": "execute_result"
    }
   ],
   "source": [
    "df_tag['KnowledgeTag_cat'].nunique()"
   ]
  },
  {
   "cell_type": "markdown",
   "metadata": {},
   "source": [
    "tag에 따른 정답률 분포 확인"
   ]
  },
  {
   "cell_type": "code",
   "execution_count": 61,
   "metadata": {},
   "outputs": [
    {
     "data": {
      "text/html": [
       "<div>\n",
       "<style scoped>\n",
       "    .dataframe tbody tr th:only-of-type {\n",
       "        vertical-align: middle;\n",
       "    }\n",
       "\n",
       "    .dataframe tbody tr th {\n",
       "        vertical-align: top;\n",
       "    }\n",
       "\n",
       "    .dataframe thead th {\n",
       "        text-align: right;\n",
       "    }\n",
       "</style>\n",
       "<table border=\"1\" class=\"dataframe\">\n",
       "  <thead>\n",
       "    <tr style=\"text-align: right;\">\n",
       "      <th></th>\n",
       "      <th>userID</th>\n",
       "      <th>answerCode</th>\n",
       "    </tr>\n",
       "    <tr>\n",
       "      <th>KnowledgeTag_cat</th>\n",
       "      <th></th>\n",
       "      <th></th>\n",
       "    </tr>\n",
       "  </thead>\n",
       "  <tbody>\n",
       "    <tr>\n",
       "      <th>0</th>\n",
       "      <td>440885</td>\n",
       "      <td>0.669835</td>\n",
       "    </tr>\n",
       "    <tr>\n",
       "      <th>1</th>\n",
       "      <td>214833</td>\n",
       "      <td>0.650854</td>\n",
       "    </tr>\n",
       "    <tr>\n",
       "      <th>2</th>\n",
       "      <td>360487</td>\n",
       "      <td>0.637366</td>\n",
       "    </tr>\n",
       "    <tr>\n",
       "      <th>3</th>\n",
       "      <td>88700</td>\n",
       "      <td>0.587542</td>\n",
       "    </tr>\n",
       "    <tr>\n",
       "      <th>4</th>\n",
       "      <td>154291</td>\n",
       "      <td>0.466378</td>\n",
       "    </tr>\n",
       "    <tr>\n",
       "      <th>5</th>\n",
       "      <td>169576</td>\n",
       "      <td>0.659858</td>\n",
       "    </tr>\n",
       "    <tr>\n",
       "      <th>6</th>\n",
       "      <td>118233</td>\n",
       "      <td>0.714462</td>\n",
       "    </tr>\n",
       "    <tr>\n",
       "      <th>7</th>\n",
       "      <td>463802</td>\n",
       "      <td>0.747315</td>\n",
       "    </tr>\n",
       "    <tr>\n",
       "      <th>8</th>\n",
       "      <td>250094</td>\n",
       "      <td>0.673227</td>\n",
       "    </tr>\n",
       "    <tr>\n",
       "      <th>9</th>\n",
       "      <td>137946</td>\n",
       "      <td>0.535608</td>\n",
       "    </tr>\n",
       "    <tr>\n",
       "      <th>10</th>\n",
       "      <td>109962</td>\n",
       "      <td>0.626307</td>\n",
       "    </tr>\n",
       "    <tr>\n",
       "      <th>11</th>\n",
       "      <td>17147</td>\n",
       "      <td>0.612819</td>\n",
       "    </tr>\n",
       "  </tbody>\n",
       "</table>\n",
       "</div>"
      ],
      "text/plain": [
       "                  userID  answerCode\n",
       "KnowledgeTag_cat                    \n",
       "0                 440885    0.669835\n",
       "1                 214833    0.650854\n",
       "2                 360487    0.637366\n",
       "3                  88700    0.587542\n",
       "4                 154291    0.466378\n",
       "5                 169576    0.659858\n",
       "6                 118233    0.714462\n",
       "7                 463802    0.747315\n",
       "8                 250094    0.673227\n",
       "9                 137946    0.535608\n",
       "10                109962    0.626307\n",
       "11                 17147    0.612819"
      ]
     },
     "execution_count": 61,
     "metadata": {},
     "output_type": "execute_result"
    }
   ],
   "source": [
    "tag_groupby = df_tag.groupby('KnowledgeTag_cat').agg({\n",
    "    'userID': 'count',\n",
    "    'answerCode': percentile\n",
    "})\n",
    "tag_groupby"
   ]
  },
  {
   "cell_type": "code",
   "execution_count": 62,
   "metadata": {},
   "outputs": [
    {
     "data": {
      "text/plain": [
       "<matplotlib.legend.Legend at 0x7feeb51161f0>"
      ]
     },
     "execution_count": 62,
     "metadata": {},
     "output_type": "execute_result"
    },
    {
     "data": {
      "image/png": "[encoded data removed]",
      "text/plain": [
       "<Figure size 640x480 with 1 Axes>"
      ]
     },
     "metadata": {},
     "output_type": "display_data"
    }
   ],
   "source": [
    "# tag에 대분류에 따른 정답률 그래프\n",
    "g = sns.scatterplot(\n",
    "    data=tag_groupby,\n",
    "    x='KnowledgeTag_cat',\n",
    "    y='answerCode',\n",
    "    s = 200,\n",
    "    hue = 'answerCode',\n",
    "    palette = 'winter'\n",
    ")\n",
    "ax = plt.gca()\n",
    "ax.set_title('Tag # - Answer Rate')\n",
    "ax.legend(loc='upper right', bbox_to_anchor=(1.3, 1))"
   ]
  },
  {
   "cell_type": "markdown",
   "metadata": {},
   "source": [
    "특정 유형 (4)은 비교적 낮은 정답률을, 특정 유형(7)은 비교적 높은 정답률을 보이는 것으로 보여진다."
   ]
  },
  {
   "cell_type": "markdown",
   "metadata": {},
   "source": [
    "## testcode + knowledgetag"
   ]
  },
  {
   "cell_type": "markdown",
   "metadata": {},
   "source": [
    "### KnowledgeTag 별 testCode 개수 확인"
   ]
  },
  {
   "cell_type": "code",
   "execution_count": 63,
   "metadata": {
    "tags": []
   },
   "outputs": [],
   "source": [
    "# KnowledgeTag 고유값 추출\n",
    "know_uni = df.KnowledgeTag.unique()"
   ]
  },
  {
   "cell_type": "code",
   "execution_count": 64,
   "metadata": {
    "tags": []
   },
   "outputs": [],
   "source": [
    "# KnowledgeTag 고유값 중에 testcode 여러개 있는 KnowledgeTag 추출\n",
    "not_know = []\n",
    "for i in know_uni:\n",
    "    if len(df[df['KnowledgeTag'] == i].testCode.unique()) != 1:\n",
    "        not_know.append(i)"
   ]
  },
  {
   "cell_type": "code",
   "execution_count": 65,
   "metadata": {
    "tags": []
   },
   "outputs": [
    {
     "data": {
      "text/plain": [
       "[7863]"
      ]
     },
     "execution_count": 65,
     "metadata": {},
     "output_type": "execute_result"
    }
   ],
   "source": [
    "# 오직 7863만 testcode 2개\n",
    "not_know"
   ]
  },
  {
   "cell_type": "code",
   "execution_count": 66,
   "metadata": {
    "tags": []
   },
   "outputs": [
    {
     "data": {
      "text/plain": [
       "array([8, 7])"
      ]
     },
     "execution_count": 66,
     "metadata": {},
     "output_type": "execute_result"
    }
   ],
   "source": [
    "df[df['KnowledgeTag'] == 7863].testCode.unique()"
   ]
  },
  {
   "cell_type": "markdown",
   "metadata": {},
   "source": [
    "오직 7863 유형만이 testcode의 중복을 가짐 \\\n",
    "testcode는 난이도가 아니다!"
   ]
  },
  {
   "cell_type": "code",
   "execution_count": 67,
   "metadata": {},
   "outputs": [
    {
     "data": {
      "text/plain": [
       "KnowledgeTag_cat  testCode\n",
       "0                 3           0.697570\n",
       "                  5           0.658997\n",
       "                  6           0.679022\n",
       "                  7           0.565760\n",
       "                  8           0.579117\n",
       "                  9           0.475952\n",
       "1                 3           0.718577\n",
       "                  6           0.746007\n",
       "                  7           0.496596\n",
       "                  8           0.551092\n",
       "                  9           0.471705\n",
       "2                 4           0.675058\n",
       "                  5           0.642791\n",
       "                  8           0.491956\n",
       "                  9           0.466955\n",
       "3                 5           0.615919\n",
       "                  7           0.517222\n",
       "                  8           0.596000\n",
       "4                 7           0.509412\n",
       "                  8           0.469809\n",
       "                  9           0.445201\n",
       "5                 1           0.858432\n",
       "                  5           0.671061\n",
       "                  7           0.525278\n",
       "                  9           0.455196\n",
       "6                 1           0.787687\n",
       "                  7           0.481202\n",
       "7                 1           0.797993\n",
       "                  2           0.728840\n",
       "                  3           0.698402\n",
       "                  4           0.832895\n",
       "                  6           0.799423\n",
       "                  7           0.567718\n",
       "                  8           0.518437\n",
       "8                 2           0.747190\n",
       "                  4           0.720807\n",
       "                  7           0.554176\n",
       "                  8           0.526147\n",
       "9                 6           0.801430\n",
       "                  7           0.509533\n",
       "                  8           0.438211\n",
       "                  9           0.454516\n",
       "10                4           0.729262\n",
       "                  5           0.720977\n",
       "                  6           0.692348\n",
       "                  7           0.541796\n",
       "                  8           0.494100\n",
       "                  9           0.434851\n",
       "11                4           0.612819\n",
       "Name: answerCode, dtype: float64"
      ]
     },
     "execution_count": 67,
     "metadata": {},
     "output_type": "execute_result"
    }
   ],
   "source": [
    "tag_lv_groupby = df_tag.groupby(['KnowledgeTag_cat', 'testCode'])['answerCode'].apply(percentile)\n",
    "tag_lv_groupby.sort_index(inplace=True)\n",
    "\n",
    "tag_lv_groupby"
   ]
  },
  {
   "cell_type": "markdown",
   "metadata": {},
   "source": [
    "tag와 testcode 대분류에 따른 정답률 그래프"
   ]
  },
  {
   "cell_type": "code",
   "execution_count": 68,
   "metadata": {},
   "outputs": [
    {
     "data": {
      "text/plain": [
       "<matplotlib.legend.Legend at 0x7feeb3a9b040>"
      ]
     },
     "execution_count": 68,
     "metadata": {},
     "output_type": "execute_result"
    },
    {
     "data": {
      "image/png": "[encoded data removed]",
      "text/plain": [
       "<Figure size 640x480 with 1 Axes>"
      ]
     },
     "metadata": {},
     "output_type": "display_data"
    }
   ],
   "source": [
    "# 점의 크기 범위 설정\n",
    "size_range = (10, 500)\n",
    "\n",
    "# 점의 크기를 정확도 값에 비례하여 계산\n",
    "point_size = size_range[0] + (size_range[1] - size_range[0]) * tag_lv_groupby\n",
    "\n",
    "g = sns.scatterplot(\n",
    "    data=tag_lv_groupby,\n",
    "    x='KnowledgeTag_cat',\n",
    "    y='testCode',\n",
    "    s = point_size,\n",
    "    hue = tag_lv_groupby,\n",
    "    palette = 'winter',\n",
    "    legend = 'brief'\n",
    ")\n",
    "ax = plt.gca()\n",
    "ax.set_title('Tag # - testcode #')\n",
    "ax.legend(loc='upper right', bbox_to_anchor=(1.3, 1))"
   ]
  },
  {
   "cell_type": "markdown",
   "metadata": {
    "tags": []
   },
   "source": [
    "## 유저별 testcode 확인"
   ]
  },
  {
   "cell_type": "code",
   "execution_count": 69,
   "metadata": {
    "tags": []
   },
   "outputs": [],
   "source": [
    "user_uni = df.userID.unique()"
   ]
  },
  {
   "cell_type": "code",
   "execution_count": null,
   "metadata": {
    "tags": []
   },
   "outputs": [],
   "source": [
    "dup_testcode_user = []\n",
    "max_dup_user = 0\n",
    "for i in user_uni:\n",
    "    if len(df[df['userID'] == i].testCode.unique()) > 1:\n",
    "        max_dup_user = max(max_dup_user, len(df[df['userID'] == i].testCode.unique()))\n",
    "        dup_testcode_user.append(i)"
   ]
  },
  {
   "cell_type": "code",
   "execution_count": null,
   "metadata": {
    "tags": []
   },
   "outputs": [],
   "source": [
    "len(dup_testcode_user), max_dup_user"
   ]
  },
  {
   "cell_type": "code",
   "execution_count": null,
   "metadata": {
    "tags": []
   },
   "outputs": [],
   "source": [
    "dup_testcode = []\n",
    "for i in user_uni:\n",
    "    if list(df[df['userID'] == i].testCode.unique()) not in dup_testcode:\n",
    "        dup_testcode.append(list(df[df['userID'] == i].testCode.unique()))"
   ]
  },
  {
   "cell_type": "code",
   "execution_count": null,
   "metadata": {
    "tags": []
   },
   "outputs": [],
   "source": [
    "len(dup_testcode)"
   ]
  },
  {
   "cell_type": "code",
   "execution_count": null,
   "metadata": {
    "tags": []
   },
   "outputs": [],
   "source": [
    "# Counter를 사용하여 중복된 리스트 제거\n",
    "unique_list = [list(k) for k, _ in Counter(map(tuple, map(sorted, dup_testcode))).items()]\n",
    "\n",
    "len(unique_list)"
   ]
  },
  {
   "cell_type": "markdown",
   "metadata": {},
   "source": [
    "유저들은 최대 3번의 모든 경우의 수로 testcode를 경험했다."
   ]
  },
  {
   "cell_type": "markdown",
   "metadata": {},
   "source": [
    "## 기타"
   ]
  },
  {
   "cell_type": "markdown",
   "metadata": {},
   "source": [
    "### testcode를 더 크게 범주화"
   ]
  },
  {
   "cell_type": "code",
   "execution_count": null,
   "metadata": {},
   "outputs": [],
   "source": [
    "def big_testcode_map(x:int) -> int:\n",
    "    x = (x-1) // 3\n",
    "    return x"
   ]
  },
  {
   "cell_type": "code",
   "execution_count": null,
   "metadata": {},
   "outputs": [],
   "source": [
    "df_bigcode = df.copy()\n",
    "\n",
    "df_bigcode['bigtestCode'] = df_bigcode['testCode'].apply(big_testcode_map)\n",
    "df_bigcode"
   ]
  },
  {
   "cell_type": "code",
   "execution_count": null,
   "metadata": {},
   "outputs": [],
   "source": [
    "bigcode_groupby = df_bigcode.groupby('bigtestCode').agg({'answerCode' : percentile, 'assessmentItemID': 'nunique'})\n",
    "bigcode_groupby = bigcode_groupby.reset_index()\n",
    "\n",
    "bigcode_groupby"
   ]
  },
  {
   "cell_type": "code",
   "execution_count": null,
   "metadata": {},
   "outputs": [],
   "source": [
    "sns.barplot(x='bigtestCode', y='answerCode', data=bigcode_groupby, palette='winter').set(title='Answer Rate by Big Test Code')"
   ]
  }
 ],
 "metadata": {
  "kernelspec": {
   "display_name": "Python 3 (ipykernel)",
   "language": "python",
   "name": "python3"
  },
  "language_info": {
   "codemirror_mode": {
    "name": "ipython",
    "version": 3
   },
   "file_extension": ".py",
   "mimetype": "text/x-python",
   "name": "python",
   "nbconvert_exporter": "python",
   "pygments_lexer": "ipython3",
   "version": "3.8.5"
  }
 },
 "nbformat": 4,
 "nbformat_minor": 4
}
