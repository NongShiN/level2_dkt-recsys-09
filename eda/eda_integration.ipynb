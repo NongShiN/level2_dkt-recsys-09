{
 "cells": [
  {
   "cell_type": "code",
   "execution_count": 2,
   "metadata": {},
   "outputs": [],
   "source": [
    "import pandas as pd\n",
    "import numpy as np\n",
    "# import ydata_profiling\n",
    "from datetime import datetime\n",
    "import matplotlib.pyplot as plt\n",
    "import seaborn as sns\n",
    "import os\n",
    "from math import pi\n",
    "from matplotlib.path import Path\n",
    "from matplotlib.spines import Spine\n",
    "from matplotlib.transforms import Affine2D\n",
    "import json\n",
    "\n",
    "import warnings\n",
    "warnings.filterwarnings('ignore')"
   ]
  },
  {
   "attachments": {},
   "cell_type": "markdown",
   "metadata": {},
   "source": [
    "## 공통 전처리"
   ]
  },
  {
   "cell_type": "code",
   "execution_count": 3,
   "metadata": {},
   "outputs": [
    {
     "name": "stdout",
     "output_type": "stream",
     "text": [
      "CPU times: user 9.58 s, sys: 944 ms, total: 10.5 s\n",
      "Wall time: 10.5 s\n"
     ]
    }
   ],
   "source": [
    "%%time\n",
    "dtype = {\n",
    "    'userID': 'int16',\n",
    "    'answerCode': 'int8',\n",
    "    'KnowledgeTag': 'int16'\n",
    "}   \n",
    "\n",
    "# data set load\n",
    "DATA_PATH = '/opt/ml/input/data'\n",
    "train_path = os.path.join(DATA_PATH, 'train_data.csv')\n",
    "test_path = os.path.join(DATA_PATH, 'test_data.csv')\n",
    "\n",
    "train_df = pd.read_csv(train_path, dtype=dtype, parse_dates=['Timestamp'])\n",
    "test_df = pd.read_csv(test_path, dtype=dtype, parse_dates=['Timestamp'])\n",
    "\n",
    "diff_train = train_df.loc[:, ['userID', 'Timestamp']].groupby('userID').diff().shift(-1)\n",
    "\n",
    "# total_seconds(): 모든 속성을 초단위로 모아서 변환\n",
    "diff_train = diff_train['Timestamp'].apply(lambda x: x.total_seconds())\n",
    "\n",
    "train_df['elapsed'] = diff_train\n",
    "\n",
    "\n",
    "\n",
    "test_df = pd.read_csv('/opt/ml/input/data/test_data.csv', dtype=dtype, parse_dates=['Timestamp'])\n",
    "\n",
    "\n",
    "diff_test = test_df.loc[:, ['userID', 'Timestamp']].groupby('userID').diff().shift(-1)\n",
    "\n",
    "# total_seconds(): 모든 속성을 초단위로 모아서 변환\n",
    "diff_test = diff_test['Timestamp'].apply(lambda x: x.total_seconds())\n",
    "\n",
    "test_df['elapsed'] = diff_test\n",
    "test_df = test_df[test_df['answerCode'] != -1]\n",
    "test_df = test_df.sort_values(by=['userID', 'Timestamp']).reset_index(drop=True)\n",
    "\n",
    "\n",
    "df = pd.concat([train_df, test_df])\n",
    "# df = df.drop(df[df['answerCode']== -1].index) # answerCode = -1 는 예측해야하는 값이므로 제외'Affine\n",
    "\n",
    "import pytz\n",
    "kst = pytz.timezone('Asia/Seoul')\n",
    "df['Timestamp'] = df['Timestamp'].dt.tz_localize('UTC').dt.tz_convert(kst)"
   ]
  },
  {
   "attachments": {},
   "cell_type": "markdown",
   "metadata": {},
   "source": [
    "### Feature Engineering\n",
    "testID의 1~3번째 자리를 이용한 대분류인 testCode 생성"
   ]
  },
  {
   "cell_type": "code",
   "execution_count": 12,
   "metadata": {},
   "outputs": [],
   "source": [
    "df['testCode'] = df['testId'].apply(lambda x : x[1:4])\n",
    "\n",
    "#testCode 1~9의 정수형 값으로 변환\n",
    "df['testCode'] = df['testCode'].astype('int') //10"
   ]
  },
  {
   "cell_type": "code",
   "execution_count": 13,
   "metadata": {},
   "outputs": [
    {
     "data": {
      "text/html": [
       "<div>\n",
       "<style scoped>\n",
       "    .dataframe tbody tr th:only-of-type {\n",
       "        vertical-align: middle;\n",
       "    }\n",
       "\n",
       "    .dataframe tbody tr th {\n",
       "        vertical-align: top;\n",
       "    }\n",
       "\n",
       "    .dataframe thead th {\n",
       "        text-align: right;\n",
       "    }\n",
       "</style>\n",
       "<table border=\"1\" class=\"dataframe\">\n",
       "  <thead>\n",
       "    <tr style=\"text-align: right;\">\n",
       "      <th></th>\n",
       "      <th>userID</th>\n",
       "      <th>assessmentItemID</th>\n",
       "      <th>testId</th>\n",
       "      <th>answerCode</th>\n",
       "      <th>Timestamp</th>\n",
       "      <th>KnowledgeTag</th>\n",
       "      <th>elapsed</th>\n",
       "      <th>testCode</th>\n",
       "    </tr>\n",
       "  </thead>\n",
       "  <tbody>\n",
       "    <tr>\n",
       "      <th>0</th>\n",
       "      <td>0</td>\n",
       "      <td>A060001001</td>\n",
       "      <td>A060000001</td>\n",
       "      <td>1</td>\n",
       "      <td>2020-03-24 09:17:11+09:00</td>\n",
       "      <td>7224</td>\n",
       "      <td>3.0</td>\n",
       "      <td>6</td>\n",
       "    </tr>\n",
       "    <tr>\n",
       "      <th>1</th>\n",
       "      <td>0</td>\n",
       "      <td>A060001002</td>\n",
       "      <td>A060000001</td>\n",
       "      <td>1</td>\n",
       "      <td>2020-03-24 09:17:14+09:00</td>\n",
       "      <td>7225</td>\n",
       "      <td>8.0</td>\n",
       "      <td>6</td>\n",
       "    </tr>\n",
       "    <tr>\n",
       "      <th>2</th>\n",
       "      <td>0</td>\n",
       "      <td>A060001003</td>\n",
       "      <td>A060000001</td>\n",
       "      <td>1</td>\n",
       "      <td>2020-03-24 09:17:22+09:00</td>\n",
       "      <td>7225</td>\n",
       "      <td>7.0</td>\n",
       "      <td>6</td>\n",
       "    </tr>\n",
       "    <tr>\n",
       "      <th>3</th>\n",
       "      <td>0</td>\n",
       "      <td>A060001004</td>\n",
       "      <td>A060000001</td>\n",
       "      <td>1</td>\n",
       "      <td>2020-03-24 09:17:29+09:00</td>\n",
       "      <td>7225</td>\n",
       "      <td>7.0</td>\n",
       "      <td>6</td>\n",
       "    </tr>\n",
       "    <tr>\n",
       "      <th>4</th>\n",
       "      <td>0</td>\n",
       "      <td>A060001005</td>\n",
       "      <td>A060000001</td>\n",
       "      <td>1</td>\n",
       "      <td>2020-03-24 09:17:36+09:00</td>\n",
       "      <td>7225</td>\n",
       "      <td>11.0</td>\n",
       "      <td>6</td>\n",
       "    </tr>\n",
       "    <tr>\n",
       "      <th>...</th>\n",
       "      <td>...</td>\n",
       "      <td>...</td>\n",
       "      <td>...</td>\n",
       "      <td>...</td>\n",
       "      <td>...</td>\n",
       "      <td>...</td>\n",
       "      <td>...</td>\n",
       "      <td>...</td>\n",
       "    </tr>\n",
       "    <tr>\n",
       "      <th>259365</th>\n",
       "      <td>7439</td>\n",
       "      <td>A040197006</td>\n",
       "      <td>A040000197</td>\n",
       "      <td>1</td>\n",
       "      <td>2020-08-21 16:39:45+09:00</td>\n",
       "      <td>2132</td>\n",
       "      <td>4721258.0</td>\n",
       "      <td>4</td>\n",
       "    </tr>\n",
       "    <tr>\n",
       "      <th>259366</th>\n",
       "      <td>7439</td>\n",
       "      <td>A040130001</td>\n",
       "      <td>A040000130</td>\n",
       "      <td>0</td>\n",
       "      <td>2020-10-15 08:07:23+09:00</td>\n",
       "      <td>8832</td>\n",
       "      <td>18.0</td>\n",
       "      <td>4</td>\n",
       "    </tr>\n",
       "    <tr>\n",
       "      <th>259367</th>\n",
       "      <td>7439</td>\n",
       "      <td>A040130002</td>\n",
       "      <td>A040000130</td>\n",
       "      <td>1</td>\n",
       "      <td>2020-10-15 08:07:41+09:00</td>\n",
       "      <td>8832</td>\n",
       "      <td>21.0</td>\n",
       "      <td>4</td>\n",
       "    </tr>\n",
       "    <tr>\n",
       "      <th>259368</th>\n",
       "      <td>7439</td>\n",
       "      <td>A040130003</td>\n",
       "      <td>A040000130</td>\n",
       "      <td>1</td>\n",
       "      <td>2020-10-15 08:08:02+09:00</td>\n",
       "      <td>8244</td>\n",
       "      <td>89.0</td>\n",
       "      <td>4</td>\n",
       "    </tr>\n",
       "    <tr>\n",
       "      <th>259369</th>\n",
       "      <td>7439</td>\n",
       "      <td>A040130004</td>\n",
       "      <td>A040000130</td>\n",
       "      <td>1</td>\n",
       "      <td>2020-10-15 08:09:31+09:00</td>\n",
       "      <td>8244</td>\n",
       "      <td>32.0</td>\n",
       "      <td>4</td>\n",
       "    </tr>\n",
       "  </tbody>\n",
       "</table>\n",
       "<p>2525956 rows × 8 columns</p>\n",
       "</div>"
      ],
      "text/plain": [
       "        userID assessmentItemID      testId  answerCode   \n",
       "0            0       A060001001  A060000001           1  \\\n",
       "1            0       A060001002  A060000001           1   \n",
       "2            0       A060001003  A060000001           1   \n",
       "3            0       A060001004  A060000001           1   \n",
       "4            0       A060001005  A060000001           1   \n",
       "...        ...              ...         ...         ...   \n",
       "259365    7439       A040197006  A040000197           1   \n",
       "259366    7439       A040130001  A040000130           0   \n",
       "259367    7439       A040130002  A040000130           1   \n",
       "259368    7439       A040130003  A040000130           1   \n",
       "259369    7439       A040130004  A040000130           1   \n",
       "\n",
       "                       Timestamp  KnowledgeTag    elapsed  testCode  \n",
       "0      2020-03-24 09:17:11+09:00          7224        3.0         6  \n",
       "1      2020-03-24 09:17:14+09:00          7225        8.0         6  \n",
       "2      2020-03-24 09:17:22+09:00          7225        7.0         6  \n",
       "3      2020-03-24 09:17:29+09:00          7225        7.0         6  \n",
       "4      2020-03-24 09:17:36+09:00          7225       11.0         6  \n",
       "...                          ...           ...        ...       ...  \n",
       "259365 2020-08-21 16:39:45+09:00          2132  4721258.0         4  \n",
       "259366 2020-10-15 08:07:23+09:00          8832       18.0         4  \n",
       "259367 2020-10-15 08:07:41+09:00          8832       21.0         4  \n",
       "259368 2020-10-15 08:08:02+09:00          8244       89.0         4  \n",
       "259369 2020-10-15 08:09:31+09:00          8244       32.0         4  \n",
       "\n",
       "[2525956 rows x 8 columns]"
      ]
     },
     "execution_count": 13,
     "metadata": {},
     "output_type": "execute_result"
    }
   ],
   "source": [
    "df"
   ]
  },
  {
   "attachments": {},
   "cell_type": "markdown",
   "metadata": {},
   "source": [
    "## Overview"
   ]
  },
  {
   "attachments": {},
   "cell_type": "markdown",
   "metadata": {},
   "source": [
    "+ `userID` 사용자의 고유 번호입니다. 총 7,442명의 학생이 있습니다. 이 중 train data에는 6698명이, test data에는 744명이 존재합니다.   \n",
    "+ `assessmentItemID` 사용자가 푼 문항의 일련 번호입니다.   \n",
    "+ `testId` 사용자가 푼 문항이 포함된 시험지의 일련 번호입니다.   \n",
    "+ `answerCode` 사용자가 푼 문항의 정답 여부를 담고 있는 이진 (0/1) 데이터입니다.   \n",
    "+ `Timestamp` 사용자가 문항을 푼 시간 정보입니다.   \n",
    "+ `KnowledgeTag` 사용자가 푼 문항의 고유 태그가 담겨져 있습니다."
   ]
  },
  {
   "cell_type": "code",
   "execution_count": 5,
   "metadata": {},
   "outputs": [
    {
     "name": "stdout",
     "output_type": "stream",
     "text": [
      "--- BASIC INFORMATIONS ---\n",
      "userID           : 7442\n",
      "assessmentItemID : 9454\n",
      "testID           : 1537\n",
      "mean answer rate : 65.46%\n",
      "KnowledgeTag     : 912\n",
      "--------------------------\n"
     ]
    }
   ],
   "source": [
    "print(f\"\"\"--- BASIC INFORMATIONS ---\n",
    "userID           : {df.userID.nunique()}\n",
    "assessmentItemID : {df.assessmentItemID.nunique()}\n",
    "testID           : {df.testId.nunique()}\n",
    "mean answer rate : {df.answerCode.sum() / df.shape[0] * 100:.2f}%\n",
    "KnowledgeTag     : {df.KnowledgeTag.nunique()}\n",
    "{'-'*26}\"\"\")"
   ]
  },
  {
   "attachments": {},
   "cell_type": "markdown",
   "metadata": {},
   "source": [
    "0과 1의 데이터 분포 파악"
   ]
  },
  {
   "cell_type": "code",
   "execution_count": 6,
   "metadata": {},
   "outputs": [
    {
     "data": {
      "text/plain": [
       "Text(0.5, 1.0, 'Distribution of answerCode=0')"
      ]
     },
     "execution_count": 6,
     "metadata": {},
     "output_type": "execute_result"
    },
    {
     "data": {
      "image/png": "[encoded data removed]",
      "text/plain": [
       "<Figure size 640x480 with 1 Axes>"
      ]
     },
     "metadata": {},
     "output_type": "display_data"
    }
   ],
   "source": [
    "df.answerCode.value_counts()\n",
    "sns.countplot(data=df, x='answerCode').set_title('Distribution of answerCode=0')"
   ]
  },
  {
   "attachments": {},
   "cell_type": "markdown",
   "metadata": {},
   "source": [
    "assessmentItemID의 맨 앞자리가 A로 시작하는지 확인"
   ]
  },
  {
   "cell_type": "code",
   "execution_count": 7,
   "metadata": {},
   "outputs": [
    {
     "data": {
      "text/plain": [
       "array(['A'], dtype=object)"
      ]
     },
     "execution_count": 7,
     "metadata": {},
     "output_type": "execute_result"
    }
   ],
   "source": [
    "df['assessmentItemID'].apply(lambda x: x[0]).unique()"
   ]
  },
  {
   "attachments": {},
   "cell_type": "markdown",
   "metadata": {},
   "source": [
    "testID의 맨 앞자리가 A로 시작하는지 확인"
   ]
  },
  {
   "cell_type": "code",
   "execution_count": 8,
   "metadata": {},
   "outputs": [
    {
     "data": {
      "text/plain": [
       "array(['A'], dtype=object)"
      ]
     },
     "execution_count": 8,
     "metadata": {},
     "output_type": "execute_result"
    }
   ],
   "source": [
    "df['testId'].apply(lambda x: x[0]).unique()"
   ]
  },
  {
   "attachments": {},
   "cell_type": "markdown",
   "metadata": {},
   "source": [
    "testID의 4~6번째 자리가 '000'인지 확인"
   ]
  },
  {
   "cell_type": "code",
   "execution_count": 9,
   "metadata": {},
   "outputs": [
    {
     "data": {
      "text/plain": [
       "array(['000'], dtype=object)"
      ]
     },
     "execution_count": 9,
     "metadata": {},
     "output_type": "execute_result"
    }
   ],
   "source": [
    "df['testId'].apply(lambda x: x[4:7]).unique()"
   ]
  },
  {
   "attachments": {},
   "cell_type": "markdown",
   "metadata": {},
   "source": [
    "assessmentItemID가 testID에 맞게 잘 이루어져있는지 확인"
   ]
  },
  {
   "cell_type": "code",
   "execution_count": 11,
   "metadata": {},
   "outputs": [
    {
     "data": {
      "text/plain": [
       "0"
      ]
     },
     "execution_count": 11,
     "metadata": {},
     "output_type": "execute_result"
    }
   ],
   "source": [
    "(df['assessmentItemID'].apply(lambda x: x[1:7]) != df['testId'].apply(lambda x: x[1:4] + x[7:])).sum()"
   ]
  },
  {
   "attachments": {},
   "cell_type": "markdown",
   "metadata": {},
   "source": [
    "### 사용되는 함수"
   ]
  },
  {
   "cell_type": "code",
   "execution_count": 18,
   "metadata": {},
   "outputs": [],
   "source": [
    "#정답률을 빠르게 구하기 위해 함수 정의\n",
    "def percentile(s):\n",
    "    return np.sum(s) / len(s)"
   ]
  },
  {
   "attachments": {},
   "cell_type": "markdown",
   "metadata": {},
   "source": [
    "## 이상치 파악"
   ]
  },
  {
   "attachments": {},
   "cell_type": "markdown",
   "metadata": {},
   "source": [
    "## assessmentitem Id / test Id [희원, 찬웅]"
   ]
  },
  {
   "attachments": {},
   "cell_type": "markdown",
   "metadata": {},
   "source": [
    "### 문제번호에 따른 정답"
   ]
  },
  {
   "attachments": {},
   "cell_type": "markdown",
   "metadata": {},
   "source": [
    "### testcode"
   ]
  },
  {
   "cell_type": "code",
   "execution_count": 14,
   "metadata": {},
   "outputs": [
    {
     "data": {
      "text/plain": [
       "testCode\n",
       "7    315177\n",
       "5    306317\n",
       "1    303675\n",
       "3    303365\n",
       "4    300403\n",
       "2    297263\n",
       "6    296284\n",
       "8    271841\n",
       "9    131631\n",
       "Name: count, dtype: int64"
      ]
     },
     "execution_count": 14,
     "metadata": {},
     "output_type": "execute_result"
    }
   ],
   "source": [
    "#각 testCode 별로 풀어진 횟수 count\n",
    "df['testCode'].value_counts()"
   ]
  },
  {
   "attachments": {},
   "cell_type": "markdown",
   "metadata": {},
   "source": [
    "대체적으로 골고루 문제가 풀어졌으며, 9번에 해당하는 코드만 적게 풀어진 것으로 확인"
   ]
  },
  {
   "cell_type": "code",
   "execution_count": 17,
   "metadata": {},
   "outputs": [
    {
     "data": {
      "text/plain": [
       "-0.2009546600276782"
      ]
     },
     "execution_count": 17,
     "metadata": {},
     "output_type": "execute_result"
    }
   ],
   "source": [
    "df_cor = df.copy()\n",
    "df_cor = df_cor.loc[ : , ['testCode', 'answerCode']]\n",
    "df_cor.corr()['testCode']['answerCode']"
   ]
  },
  {
   "attachments": {},
   "cell_type": "markdown",
   "metadata": {},
   "source": [
    "testCode를 기준으로 groupby 진행"
   ]
  },
  {
   "cell_type": "code",
   "execution_count": 20,
   "metadata": {},
   "outputs": [
    {
     "data": {
      "text/html": [
       "<div>\n",
       "<style scoped>\n",
       "    .dataframe tbody tr th:only-of-type {\n",
       "        vertical-align: middle;\n",
       "    }\n",
       "\n",
       "    .dataframe tbody tr th {\n",
       "        vertical-align: top;\n",
       "    }\n",
       "\n",
       "    .dataframe thead th {\n",
       "        text-align: right;\n",
       "    }\n",
       "</style>\n",
       "<table border=\"1\" class=\"dataframe\">\n",
       "  <thead>\n",
       "    <tr style=\"text-align: right;\">\n",
       "      <th></th>\n",
       "      <th>testCode</th>\n",
       "      <th>answerCode</th>\n",
       "      <th>assessmentItemID</th>\n",
       "      <th>testId</th>\n",
       "      <th>userID</th>\n",
       "      <th>KnowledgeTag</th>\n",
       "    </tr>\n",
       "  </thead>\n",
       "  <tbody>\n",
       "    <tr>\n",
       "      <th>0</th>\n",
       "      <td>1</td>\n",
       "      <td>0.801686</td>\n",
       "      <td>975</td>\n",
       "      <td>192</td>\n",
       "      <td>2301</td>\n",
       "      <td>64</td>\n",
       "    </tr>\n",
       "    <tr>\n",
       "      <th>1</th>\n",
       "      <td>2</td>\n",
       "      <td>0.738023</td>\n",
       "      <td>1022</td>\n",
       "      <td>194</td>\n",
       "      <td>2481</td>\n",
       "      <td>70</td>\n",
       "    </tr>\n",
       "    <tr>\n",
       "      <th>2</th>\n",
       "      <td>3</td>\n",
       "      <td>0.702210</td>\n",
       "      <td>1060</td>\n",
       "      <td>198</td>\n",
       "      <td>2724</td>\n",
       "      <td>85</td>\n",
       "    </tr>\n",
       "    <tr>\n",
       "      <th>3</th>\n",
       "      <td>4</td>\n",
       "      <td>0.680256</td>\n",
       "      <td>1031</td>\n",
       "      <td>198</td>\n",
       "      <td>2974</td>\n",
       "      <td>81</td>\n",
       "    </tr>\n",
       "    <tr>\n",
       "      <th>4</th>\n",
       "      <td>5</td>\n",
       "      <td>0.659098</td>\n",
       "      <td>1266</td>\n",
       "      <td>193</td>\n",
       "      <td>2577</td>\n",
       "      <td>98</td>\n",
       "    </tr>\n",
       "    <tr>\n",
       "      <th>5</th>\n",
       "      <td>6</td>\n",
       "      <td>0.712279</td>\n",
       "      <td>1213</td>\n",
       "      <td>186</td>\n",
       "      <td>2364</td>\n",
       "      <td>93</td>\n",
       "    </tr>\n",
       "    <tr>\n",
       "      <th>6</th>\n",
       "      <td>7</td>\n",
       "      <td>0.521761</td>\n",
       "      <td>1322</td>\n",
       "      <td>164</td>\n",
       "      <td>1882</td>\n",
       "      <td>176</td>\n",
       "    </tr>\n",
       "    <tr>\n",
       "      <th>7</th>\n",
       "      <td>8</td>\n",
       "      <td>0.500826</td>\n",
       "      <td>1050</td>\n",
       "      <td>138</td>\n",
       "      <td>1693</td>\n",
       "      <td>150</td>\n",
       "    </tr>\n",
       "    <tr>\n",
       "      <th>8</th>\n",
       "      <td>9</td>\n",
       "      <td>0.454680</td>\n",
       "      <td>515</td>\n",
       "      <td>74</td>\n",
       "      <td>743</td>\n",
       "      <td>96</td>\n",
       "    </tr>\n",
       "  </tbody>\n",
       "</table>\n",
       "</div>"
      ],
      "text/plain": [
       "   testCode  answerCode  assessmentItemID  testId  userID  KnowledgeTag\n",
       "0         1    0.801686               975     192    2301            64\n",
       "1         2    0.738023              1022     194    2481            70\n",
       "2         3    0.702210              1060     198    2724            85\n",
       "3         4    0.680256              1031     198    2974            81\n",
       "4         5    0.659098              1266     193    2577            98\n",
       "5         6    0.712279              1213     186    2364            93\n",
       "6         7    0.521761              1322     164    1882           176\n",
       "7         8    0.500826              1050     138    1693           150\n",
       "8         9    0.454680               515      74     743            96"
      ]
     },
     "execution_count": 20,
     "metadata": {},
     "output_type": "execute_result"
    }
   ],
   "source": [
    "code_groupby = df.groupby('testCode').agg({'answerCode' : percentile, 'assessmentItemID': 'nunique',\n",
    "                                      'testId' : 'nunique', 'userID': 'nunique', 'KnowledgeTag' : 'nunique'})\n",
    "code_groupby = code_groupby.reset_index()\n",
    "code_groupby"
   ]
  },
  {
   "cell_type": "code",
   "execution_count": 21,
   "metadata": {},
   "outputs": [
    {
     "data": {
      "text/plain": [
       "[Text(0.5, 1.0, 'Answer Rate by Test Code')]"
      ]
     },
     "execution_count": 21,
     "metadata": {},
     "output_type": "execute_result"
    },
    {
     "data": {
      "image/png": "[encoded data removed]",
      "text/plain": [
       "<Figure size 640x480 with 1 Axes>"
      ]
     },
     "metadata": {},
     "output_type": "display_data"
    }
   ],
   "source": [
    "sns.barplot(x='testCode', y='answerCode', data=code_groupby, palette='winter').set(title='Answer Rate by Test Code')"
   ]
  },
  {
   "attachments": {},
   "cell_type": "markdown",
   "metadata": {},
   "source": [
    "비교적으로 testCode에 따라 선형적으로 정답률이 나옴  \n",
    "가설 : testCode가 난이도를 의미할 수 있겠다.  \n",
    "다만, 6의 정답률이 높은 이유에 대한 설명이 필요"
   ]
  },
  {
   "cell_type": "code",
   "execution_count": 28,
   "metadata": {},
   "outputs": [
    {
     "data": {
      "image/png": "[encoded data removed]",
      "text/plain": [
       "<Figure size 1000x1000 with 4 Axes>"
      ]
     },
     "metadata": {},
     "output_type": "display_data"
    }
   ],
   "source": [
    "fig = plt.figure(figsize=(10,10))\n",
    "ax1 = fig.add_subplot(2,2,1)\n",
    "ax2 = fig.add_subplot(2,2,2)\n",
    "ax3 = fig.add_subplot(2,2,3)\n",
    "ax4 = fig.add_subplot(2,2,4)\n",
    "\n",
    "sns.barplot(x='testCode', y='assessmentItemID', data=code_groupby, palette='winter', ax=ax1).set(title='# of Solved Problems by Test Code')\n",
    "sns.barplot(x='testCode', y='testId', data=code_groupby, palette='winter', ax=ax2).set(title='# of Solved Tests by Test Code')\n",
    "sns.barplot(x='testCode', y='userID', data=code_groupby, palette='winter', ax=ax3).set(title='# of Users by Test Code')\n",
    "sns.barplot(x='testCode', y='KnowledgeTag', data=code_groupby, palette='winter', ax=ax4).set(title='# of KnowledgeTag by Test Code')\n",
    "\n",
    "plt.subplots_adjust(left=0.1, right=0.95, bottom=0.1, top=0.95, wspace=0.7, hspace=0.5)\n",
    "plt.show()"
   ]
  },
  {
   "attachments": {},
   "cell_type": "markdown",
   "metadata": {},
   "source": [
    "일부 학생을 선별하여 푼 문제의 testcode를 체크  \n",
    "선별 기준:  \n",
    "1. 푼 문제의 수가 많은 학생, 중간인 학생\n",
    "2. 정답률이 높은 학생"
   ]
  },
  {
   "cell_type": "code",
   "execution_count": 42,
   "metadata": {},
   "outputs": [
    {
     "data": {
      "text/html": [
       "<div>\n",
       "<style scoped>\n",
       "    .dataframe tbody tr th:only-of-type {\n",
       "        vertical-align: middle;\n",
       "    }\n",
       "\n",
       "    .dataframe tbody tr th {\n",
       "        vertical-align: top;\n",
       "    }\n",
       "\n",
       "    .dataframe thead th {\n",
       "        text-align: right;\n",
       "    }\n",
       "</style>\n",
       "<table border=\"1\" class=\"dataframe\">\n",
       "  <thead>\n",
       "    <tr style=\"text-align: right;\">\n",
       "      <th></th>\n",
       "      <th>assessmentItemID</th>\n",
       "      <th>answerCode</th>\n",
       "    </tr>\n",
       "    <tr>\n",
       "      <th>userID</th>\n",
       "      <th></th>\n",
       "      <th></th>\n",
       "    </tr>\n",
       "  </thead>\n",
       "  <tbody>\n",
       "    <tr>\n",
       "      <th>0</th>\n",
       "      <td>745</td>\n",
       "      <td>0.630872</td>\n",
       "    </tr>\n",
       "    <tr>\n",
       "      <th>1</th>\n",
       "      <td>933</td>\n",
       "      <td>0.853162</td>\n",
       "    </tr>\n",
       "    <tr>\n",
       "      <th>2</th>\n",
       "      <td>276</td>\n",
       "      <td>0.612319</td>\n",
       "    </tr>\n",
       "    <tr>\n",
       "      <th>3</th>\n",
       "      <td>1035</td>\n",
       "      <td>0.692754</td>\n",
       "    </tr>\n",
       "    <tr>\n",
       "      <th>4</th>\n",
       "      <td>670</td>\n",
       "      <td>0.694030</td>\n",
       "    </tr>\n",
       "    <tr>\n",
       "      <th>...</th>\n",
       "      <td>...</td>\n",
       "      <td>...</td>\n",
       "    </tr>\n",
       "    <tr>\n",
       "      <th>7437</th>\n",
       "      <td>16</td>\n",
       "      <td>0.375000</td>\n",
       "    </tr>\n",
       "    <tr>\n",
       "      <th>7438</th>\n",
       "      <td>16</td>\n",
       "      <td>0.750000</td>\n",
       "    </tr>\n",
       "    <tr>\n",
       "      <th>7439</th>\n",
       "      <td>15</td>\n",
       "      <td>0.733333</td>\n",
       "    </tr>\n",
       "    <tr>\n",
       "      <th>7440</th>\n",
       "      <td>15</td>\n",
       "      <td>0.400000</td>\n",
       "    </tr>\n",
       "    <tr>\n",
       "      <th>7441</th>\n",
       "      <td>9</td>\n",
       "      <td>0.555556</td>\n",
       "    </tr>\n",
       "  </tbody>\n",
       "</table>\n",
       "<p>7442 rows × 2 columns</p>\n",
       "</div>"
      ],
      "text/plain": [
       "        assessmentItemID  answerCode\n",
       "userID                              \n",
       "0                    745    0.630872\n",
       "1                    933    0.853162\n",
       "2                    276    0.612319\n",
       "3                   1035    0.692754\n",
       "4                    670    0.694030\n",
       "...                  ...         ...\n",
       "7437                  16    0.375000\n",
       "7438                  16    0.750000\n",
       "7439                  15    0.733333\n",
       "7440                  15    0.400000\n",
       "7441                   9    0.555556\n",
       "\n",
       "[7442 rows x 2 columns]"
      ]
     },
     "execution_count": 42,
     "metadata": {},
     "output_type": "execute_result"
    }
   ],
   "source": [
    "stu_groupby = df.groupby('userID').agg({\n",
    "    'assessmentItemID': 'count',\n",
    "    'answerCode': percentile\n",
    "})\n",
    "stu_groupby"
   ]
  },
  {
   "cell_type": "code",
   "execution_count": 43,
   "metadata": {},
   "outputs": [
    {
     "data": {
      "text/plain": [
       "Index([730, 4663], dtype='int16', name='userID')"
      ]
     },
     "execution_count": 43,
     "metadata": {},
     "output_type": "execute_result"
    }
   ],
   "source": [
    "samples = stu_groupby.sort_values(by='assessmentItemID', ascending=False).index[[0, 3300]]\n",
    "samples"
   ]
  },
  {
   "cell_type": "code",
   "execution_count": 44,
   "metadata": {},
   "outputs": [
    {
     "data": {
      "text/html": [
       "<div>\n",
       "<style scoped>\n",
       "    .dataframe tbody tr th:only-of-type {\n",
       "        vertical-align: middle;\n",
       "    }\n",
       "\n",
       "    .dataframe tbody tr th {\n",
       "        vertical-align: top;\n",
       "    }\n",
       "\n",
       "    .dataframe thead th {\n",
       "        text-align: right;\n",
       "    }\n",
       "</style>\n",
       "<table border=\"1\" class=\"dataframe\">\n",
       "  <thead>\n",
       "    <tr style=\"text-align: right;\">\n",
       "      <th></th>\n",
       "      <th>assessmentItemID</th>\n",
       "      <th>answerCode</th>\n",
       "    </tr>\n",
       "    <tr>\n",
       "      <th>testCode</th>\n",
       "      <th></th>\n",
       "      <th></th>\n",
       "    </tr>\n",
       "  </thead>\n",
       "  <tbody>\n",
       "    <tr>\n",
       "      <th>4</th>\n",
       "      <td>325</td>\n",
       "      <td>0.483077</td>\n",
       "    </tr>\n",
       "    <tr>\n",
       "      <th>5</th>\n",
       "      <td>294</td>\n",
       "      <td>0.829932</td>\n",
       "    </tr>\n",
       "    <tr>\n",
       "      <th>7</th>\n",
       "      <td>1241</td>\n",
       "      <td>0.573731</td>\n",
       "    </tr>\n",
       "  </tbody>\n",
       "</table>\n",
       "</div>"
      ],
      "text/plain": [
       "          assessmentItemID  answerCode\n",
       "testCode                              \n",
       "4                      325    0.483077\n",
       "5                      294    0.829932\n",
       "7                     1241    0.573731"
      ]
     },
     "execution_count": 44,
     "metadata": {},
     "output_type": "execute_result"
    }
   ],
   "source": [
    "sample_df = df[df['userID'] == 730]\n",
    "\n",
    "lv_sample = sample_df.groupby('testCode').agg({'assessmentItemID' : 'count', 'answerCode' : percentile})\n",
    "lv_sample"
   ]
  },
  {
   "cell_type": "code",
   "execution_count": 47,
   "metadata": {},
   "outputs": [
    {
     "data": {
      "text/html": [
       "<div>\n",
       "<style scoped>\n",
       "    .dataframe tbody tr th:only-of-type {\n",
       "        vertical-align: middle;\n",
       "    }\n",
       "\n",
       "    .dataframe tbody tr th {\n",
       "        vertical-align: top;\n",
       "    }\n",
       "\n",
       "    .dataframe thead th {\n",
       "        text-align: right;\n",
       "    }\n",
       "</style>\n",
       "<table border=\"1\" class=\"dataframe\">\n",
       "  <thead>\n",
       "    <tr style=\"text-align: right;\">\n",
       "      <th></th>\n",
       "      <th>assessmentItemID</th>\n",
       "      <th>answerCode</th>\n",
       "    </tr>\n",
       "    <tr>\n",
       "      <th>testCode</th>\n",
       "      <th></th>\n",
       "      <th></th>\n",
       "    </tr>\n",
       "  </thead>\n",
       "  <tbody>\n",
       "    <tr>\n",
       "      <th>5</th>\n",
       "      <td>140</td>\n",
       "      <td>0.578571</td>\n",
       "    </tr>\n",
       "    <tr>\n",
       "      <th>6</th>\n",
       "      <td>7</td>\n",
       "      <td>0.571429</td>\n",
       "    </tr>\n",
       "    <tr>\n",
       "      <th>7</th>\n",
       "      <td>140</td>\n",
       "      <td>0.842857</td>\n",
       "    </tr>\n",
       "  </tbody>\n",
       "</table>\n",
       "</div>"
      ],
      "text/plain": [
       "          assessmentItemID  answerCode\n",
       "testCode                              \n",
       "5                      140    0.578571\n",
       "6                        7    0.571429\n",
       "7                      140    0.842857"
      ]
     },
     "execution_count": 47,
     "metadata": {},
     "output_type": "execute_result"
    }
   ],
   "source": [
    "sample_d2 = df[df['userID'] == 4663]\n",
    "lv_sample2 = sample_d2.groupby('testCode').agg({'assessmentItemID' : 'count', 'answerCode' : percentile})\n",
    "\n",
    "lv_sample2"
   ]
  },
  {
   "cell_type": "code",
   "execution_count": 46,
   "metadata": {},
   "outputs": [
    {
     "data": {
      "text/plain": [
       "Index([7171], dtype='int16', name='userID')"
      ]
     },
     "execution_count": 46,
     "metadata": {},
     "output_type": "execute_result"
    }
   ],
   "source": [
    "samples2 = stu_groupby.sort_values(by='answerCode', ascending=False).index[[0]]\n",
    "samples2"
   ]
  },
  {
   "cell_type": "code",
   "execution_count": 48,
   "metadata": {},
   "outputs": [
    {
     "data": {
      "text/html": [
       "<div>\n",
       "<style scoped>\n",
       "    .dataframe tbody tr th:only-of-type {\n",
       "        vertical-align: middle;\n",
       "    }\n",
       "\n",
       "    .dataframe tbody tr th {\n",
       "        vertical-align: top;\n",
       "    }\n",
       "\n",
       "    .dataframe thead th {\n",
       "        text-align: right;\n",
       "    }\n",
       "</style>\n",
       "<table border=\"1\" class=\"dataframe\">\n",
       "  <thead>\n",
       "    <tr style=\"text-align: right;\">\n",
       "      <th></th>\n",
       "      <th>assessmentItemID</th>\n",
       "      <th>answerCode</th>\n",
       "    </tr>\n",
       "    <tr>\n",
       "      <th>testCode</th>\n",
       "      <th></th>\n",
       "      <th></th>\n",
       "    </tr>\n",
       "  </thead>\n",
       "  <tbody>\n",
       "    <tr>\n",
       "      <th>1</th>\n",
       "      <td>10</td>\n",
       "      <td>1.0</td>\n",
       "    </tr>\n",
       "    <tr>\n",
       "      <th>6</th>\n",
       "      <td>10</td>\n",
       "      <td>1.0</td>\n",
       "    </tr>\n",
       "  </tbody>\n",
       "</table>\n",
       "</div>"
      ],
      "text/plain": [
       "          assessmentItemID  answerCode\n",
       "testCode                              \n",
       "1                       10         1.0\n",
       "6                       10         1.0"
      ]
     },
     "execution_count": 48,
     "metadata": {},
     "output_type": "execute_result"
    }
   ],
   "source": [
    "sample2_df = df[df['userID'] == 7171]\n",
    "lv_sample3 = sample2_df.groupby('testCode').agg({'assessmentItemID' : 'count', 'answerCode' : percentile})\n",
    "\n",
    "lv_sample3"
   ]
  },
  {
   "attachments": {},
   "cell_type": "markdown",
   "metadata": {},
   "source": [
    "세 학생 모두 3개 이하의 testCode만 푼 것을 확인  \n",
    "\n",
    "제기했던 가설 : testCode가 학년에 따른 분류를 나타낼까?  \n",
    "다양한 코드를 순서 상관없이 푸는 것으로 보아 학년에 의한 분류는 아닌 것으로 보여진다.\n",
    "\n",
    "(여기 희원 오빠가 한 거 추가해주면 될 듯!)"
   ]
  },
  {
   "attachments": {},
   "cell_type": "markdown",
   "metadata": {},
   "source": [
    "## timestamp [현정, 희만, … ]"
   ]
  },
  {
   "attachments": {},
   "cell_type": "markdown",
   "metadata": {},
   "source": [
    "월별 평균, 총합, 개수"
   ]
  },
  {
   "cell_type": "code",
   "execution_count": 8,
   "metadata": {},
   "outputs": [
    {
     "data": {
      "text/html": [
       "<div>\n",
       "<style scoped>\n",
       "    .dataframe tbody tr th:only-of-type {\n",
       "        vertical-align: middle;\n",
       "    }\n",
       "\n",
       "    .dataframe tbody tr th {\n",
       "        vertical-align: top;\n",
       "    }\n",
       "\n",
       "    .dataframe thead th {\n",
       "        text-align: right;\n",
       "    }\n",
       "</style>\n",
       "<table border=\"1\" class=\"dataframe\">\n",
       "  <thead>\n",
       "    <tr style=\"text-align: right;\">\n",
       "      <th></th>\n",
       "      <th>mean</th>\n",
       "      <th>sum</th>\n",
       "      <th>count</th>\n",
       "    </tr>\n",
       "    <tr>\n",
       "      <th>Timestamp</th>\n",
       "      <th></th>\n",
       "      <th></th>\n",
       "      <th></th>\n",
       "    </tr>\n",
       "  </thead>\n",
       "  <tbody>\n",
       "    <tr>\n",
       "      <th>2020-01-31 00:00:00+09:00</th>\n",
       "      <td>0.706736</td>\n",
       "      <td>29449</td>\n",
       "      <td>41669</td>\n",
       "    </tr>\n",
       "    <tr>\n",
       "      <th>2020-02-29 00:00:00+09:00</th>\n",
       "      <td>0.686150</td>\n",
       "      <td>60268</td>\n",
       "      <td>87835</td>\n",
       "    </tr>\n",
       "    <tr>\n",
       "      <th>2020-03-31 00:00:00+09:00</th>\n",
       "      <td>0.682923</td>\n",
       "      <td>132371</td>\n",
       "      <td>193830</td>\n",
       "    </tr>\n",
       "    <tr>\n",
       "      <th>2020-04-30 00:00:00+09:00</th>\n",
       "      <td>0.649782</td>\n",
       "      <td>128931</td>\n",
       "      <td>198422</td>\n",
       "    </tr>\n",
       "    <tr>\n",
       "      <th>2020-05-31 00:00:00+09:00</th>\n",
       "      <td>0.643328</td>\n",
       "      <td>131522</td>\n",
       "      <td>204440</td>\n",
       "    </tr>\n",
       "    <tr>\n",
       "      <th>2020-06-30 00:00:00+09:00</th>\n",
       "      <td>0.652473</td>\n",
       "      <td>165259</td>\n",
       "      <td>253281</td>\n",
       "    </tr>\n",
       "    <tr>\n",
       "      <th>2020-07-31 00:00:00+09:00</th>\n",
       "      <td>0.666436</td>\n",
       "      <td>201425</td>\n",
       "      <td>302242</td>\n",
       "    </tr>\n",
       "    <tr>\n",
       "      <th>2020-08-31 00:00:00+09:00</th>\n",
       "      <td>0.657312</td>\n",
       "      <td>231763</td>\n",
       "      <td>352592</td>\n",
       "    </tr>\n",
       "    <tr>\n",
       "      <th>2020-09-30 00:00:00+09:00</th>\n",
       "      <td>0.670203</td>\n",
       "      <td>253542</td>\n",
       "      <td>378306</td>\n",
       "    </tr>\n",
       "    <tr>\n",
       "      <th>2020-10-31 00:00:00+09:00</th>\n",
       "      <td>0.670672</td>\n",
       "      <td>243592</td>\n",
       "      <td>363206</td>\n",
       "    </tr>\n",
       "    <tr>\n",
       "      <th>2020-11-30 00:00:00+09:00</th>\n",
       "      <td>0.507165</td>\n",
       "      <td>40203</td>\n",
       "      <td>79270</td>\n",
       "    </tr>\n",
       "    <tr>\n",
       "      <th>2020-12-31 00:00:00+09:00</th>\n",
       "      <td>0.497622</td>\n",
       "      <td>35263</td>\n",
       "      <td>70863</td>\n",
       "    </tr>\n",
       "  </tbody>\n",
       "</table>\n",
       "</div>"
      ],
      "text/plain": [
       "                               mean     sum   count\n",
       "Timestamp                                          \n",
       "2020-01-31 00:00:00+09:00  0.706736   29449   41669\n",
       "2020-02-29 00:00:00+09:00  0.686150   60268   87835\n",
       "2020-03-31 00:00:00+09:00  0.682923  132371  193830\n",
       "2020-04-30 00:00:00+09:00  0.649782  128931  198422\n",
       "2020-05-31 00:00:00+09:00  0.643328  131522  204440\n",
       "2020-06-30 00:00:00+09:00  0.652473  165259  253281\n",
       "2020-07-31 00:00:00+09:00  0.666436  201425  302242\n",
       "2020-08-31 00:00:00+09:00  0.657312  231763  352592\n",
       "2020-09-30 00:00:00+09:00  0.670203  253542  378306\n",
       "2020-10-31 00:00:00+09:00  0.670672  243592  363206\n",
       "2020-11-30 00:00:00+09:00  0.507165   40203   79270\n",
       "2020-12-31 00:00:00+09:00  0.497622   35263   70863"
      ]
     },
     "execution_count": 8,
     "metadata": {},
     "output_type": "execute_result"
    }
   ],
   "source": [
    "last_1M = df.groupby([pd.Grouper(freq='1M',key='Timestamp')])[\"answerCode\"].agg([\"mean\", \"sum\", \"count\"])\n",
    "last_1M"
   ]
  },
  {
   "attachments": {},
   "cell_type": "markdown",
   "metadata": {},
   "source": [
    "월별로 뽑아낸 데이터의 개수와 정답률"
   ]
  },
  {
   "cell_type": "code",
   "execution_count": 9,
   "metadata": {},
   "outputs": [
    {
     "data": {
      "image/png": "[encoded data removed]",
      "text/plain": [
       "<Figure size 2500x600 with 1 Axes>"
      ]
     },
     "metadata": {},
     "output_type": "display_data"
    }
   ],
   "source": [
    "plt.figure(figsize=(25,6))\n",
    "sns.barplot(x=last_1M[1:].index.month , y=last_1M[1:]['count'])\n",
    "plt.xticks(rotation=90)\n",
    "plt.title('Number of data per month')\n",
    "plt.tight_layout()"
   ]
  },
  {
   "cell_type": "code",
   "execution_count": 10,
   "metadata": {},
   "outputs": [
    {
     "data": {
      "image/png": "[encoded data removed]",
      "text/plain": [
       "<Figure size 2500x600 with 1 Axes>"
      ]
     },
     "metadata": {},
     "output_type": "display_data"
    }
   ],
   "source": [
    "plt.figure(figsize=(25,6))\n",
    "sns.barplot(x=last_1M[1:].index.month, y=last_1M[1:]['mean'])\n",
    "plt.xticks(rotation=90)\n",
    "plt.title('Monthly correctness rate')\n",
    "plt.tight_layout()"
   ]
  },
  {
   "attachments": {},
   "cell_type": "markdown",
   "metadata": {},
   "source": [
    "시간대별로 추출"
   ]
  },
  {
   "cell_type": "code",
   "execution_count": 11,
   "metadata": {},
   "outputs": [
    {
     "data": {
      "image/png": "[encoded data removed]",
      "text/plain": [
       "<Figure size 2500x600 with 1 Axes>"
      ]
     },
     "metadata": {},
     "output_type": "display_data"
    }
   ],
   "source": [
    "df['Hour'] = df['Timestamp'].dt.hour \n",
    "Hour_ans_rate = df.groupby([\"Hour\"])[\"answerCode\"].agg([\"mean\", \"count\"]).reset_index()\n",
    "\n",
    "plt.figure(figsize=(25,6))\n",
    "sns.barplot(x=\"Hour\", y=\"count\", data=Hour_ans_rate, palette='Set2')\n",
    "plt.title('Number of data by time zone')\n",
    "plt.show()"
   ]
  },
  {
   "cell_type": "code",
   "execution_count": 12,
   "metadata": {},
   "outputs": [
    {
     "data": {
      "image/png": "[encoded data removed]",
      "text/plain": [
       "<Figure size 2500x600 with 1 Axes>"
      ]
     },
     "metadata": {},
     "output_type": "display_data"
    }
   ],
   "source": [
    "plt.figure(figsize=(25,6))\n",
    "sns.barplot(x=\"Hour\", y=\"mean\", data=Hour_ans_rate, palette='Set2')\n",
    "plt.title('Rate of correct answers by time zone')\n",
    "plt.show()"
   ]
  },
  {
   "attachments": {},
   "cell_type": "markdown",
   "metadata": {},
   "source": [
    "시간대별 정답률 확인"
   ]
  },
  {
   "cell_type": "code",
   "execution_count": 13,
   "metadata": {},
   "outputs": [],
   "source": [
    "bins = [0, 6, 12, 18, 24]\n",
    "labels = ['0~5', '6~11', '12~17', '18~23']\n",
    "df['hour_range'] = pd.cut(df['Hour'], bins=bins, labels=labels, include_lowest=True)\n",
    "\n",
    "Hour_range_ans_rate = df.groupby([\"hour_range\"])[\"answerCode\"].agg([\"mean\", \"count\"]).reset_index()"
   ]
  },
  {
   "attachments": {},
   "cell_type": "markdown",
   "metadata": {},
   "source": [
    "새벽시간에 더 적은 문제를 풀었음에도 평균이 상대적으로 낮은것을 확인가능"
   ]
  },
  {
   "cell_type": "code",
   "execution_count": 14,
   "metadata": {},
   "outputs": [
    {
     "data": {
      "text/html": [
       "<div>\n",
       "<style scoped>\n",
       "    .dataframe tbody tr th:only-of-type {\n",
       "        vertical-align: middle;\n",
       "    }\n",
       "\n",
       "    .dataframe tbody tr th {\n",
       "        vertical-align: top;\n",
       "    }\n",
       "\n",
       "    .dataframe thead th {\n",
       "        text-align: right;\n",
       "    }\n",
       "</style>\n",
       "<table border=\"1\" class=\"dataframe\">\n",
       "  <thead>\n",
       "    <tr style=\"text-align: right;\">\n",
       "      <th></th>\n",
       "      <th>hour_range</th>\n",
       "      <th>mean</th>\n",
       "      <th>count</th>\n",
       "    </tr>\n",
       "  </thead>\n",
       "  <tbody>\n",
       "    <tr>\n",
       "      <th>0</th>\n",
       "      <td>0~5</td>\n",
       "      <td>0.565643</td>\n",
       "      <td>149423</td>\n",
       "    </tr>\n",
       "    <tr>\n",
       "      <th>1</th>\n",
       "      <td>6~11</td>\n",
       "      <td>0.644490</td>\n",
       "      <td>757332</td>\n",
       "    </tr>\n",
       "    <tr>\n",
       "      <th>2</th>\n",
       "      <td>12~17</td>\n",
       "      <td>0.646343</td>\n",
       "      <td>1053100</td>\n",
       "    </tr>\n",
       "    <tr>\n",
       "      <th>3</th>\n",
       "      <td>18~23</td>\n",
       "      <td>0.707137</td>\n",
       "      <td>566101</td>\n",
       "    </tr>\n",
       "  </tbody>\n",
       "</table>\n",
       "</div>"
      ],
      "text/plain": [
       "  hour_range      mean    count\n",
       "0        0~5  0.565643   149423\n",
       "1       6~11  0.644490   757332\n",
       "2      12~17  0.646343  1053100\n",
       "3      18~23  0.707137   566101"
      ]
     },
     "execution_count": 14,
     "metadata": {},
     "output_type": "execute_result"
    }
   ],
   "source": [
    "Hour_range_ans_rate"
   ]
  },
  {
   "cell_type": "code",
   "execution_count": 15,
   "metadata": {},
   "outputs": [
    {
     "data": {
      "image/png": "[encoded data removed]",
      "text/plain": [
       "<Figure size 2500x600 with 1 Axes>"
      ]
     },
     "metadata": {},
     "output_type": "display_data"
    }
   ],
   "source": [
    "plt.figure(figsize=(25,6))\n",
    "sns.barplot(x=\"hour_range\", y=\"count\", data=Hour_range_ans_rate, palette='Set2')\n",
    "plt.title('Number of data by range zone')\n",
    "plt.show()"
   ]
  },
  {
   "cell_type": "code",
   "execution_count": 16,
   "metadata": {},
   "outputs": [
    {
     "data": {
      "image/png": "[encoded data removed]",
      "text/plain": [
       "<Figure size 2000x600 with 1 Axes>"
      ]
     },
     "metadata": {},
     "output_type": "display_data"
    }
   ],
   "source": [
    "plt.figure(figsize=(20,6))\n",
    "sns.barplot(x=\"hour_range\", y=\"mean\", data=Hour_range_ans_rate, palette='Set2')\n",
    "plt.title('Rate of correct answers by range zone')\n",
    "plt.show()"
   ]
  },
  {
   "attachments": {},
   "cell_type": "markdown",
   "metadata": {},
   "source": [
    "## knowledgetag"
   ]
  },
  {
   "attachments": {},
   "cell_type": "markdown",
   "metadata": {},
   "source": [
    "### baseline에서더 많이 노출된 태그가 정답률이 더 높은가?"
   ]
  },
  {
   "attachments": {},
   "cell_type": "markdown",
   "metadata": {},
   "source": [
    "### knowledgeTag를 1000단위로 나눠서 분류\n",
    "가설 : 숫자가 가까운 knowledgeTag는 비슷한 유형일 것이다."
   ]
  },
  {
   "cell_type": "code",
   "execution_count": 33,
   "metadata": {},
   "outputs": [],
   "source": [
    "def tag_map(x: int) -> int:\n",
    "    x = int(x)\n",
    "    x = x // 1000\n",
    "    return x"
   ]
  },
  {
   "cell_type": "code",
   "execution_count": 34,
   "metadata": {},
   "outputs": [
    {
     "data": {
      "text/html": [
       "<div>\n",
       "<style scoped>\n",
       "    .dataframe tbody tr th:only-of-type {\n",
       "        vertical-align: middle;\n",
       "    }\n",
       "\n",
       "    .dataframe tbody tr th {\n",
       "        vertical-align: top;\n",
       "    }\n",
       "\n",
       "    .dataframe thead th {\n",
       "        text-align: right;\n",
       "    }\n",
       "</style>\n",
       "<table border=\"1\" class=\"dataframe\">\n",
       "  <thead>\n",
       "    <tr style=\"text-align: right;\">\n",
       "      <th></th>\n",
       "      <th>userID</th>\n",
       "      <th>assessmentItemID</th>\n",
       "      <th>testId</th>\n",
       "      <th>answerCode</th>\n",
       "      <th>Timestamp</th>\n",
       "      <th>KnowledgeTag</th>\n",
       "      <th>elapsed</th>\n",
       "      <th>testCode</th>\n",
       "      <th>KnowledgeTag_cat</th>\n",
       "    </tr>\n",
       "  </thead>\n",
       "  <tbody>\n",
       "    <tr>\n",
       "      <th>0</th>\n",
       "      <td>0</td>\n",
       "      <td>A060001001</td>\n",
       "      <td>A060000001</td>\n",
       "      <td>1</td>\n",
       "      <td>2020-03-24 09:17:11+09:00</td>\n",
       "      <td>7224</td>\n",
       "      <td>3.0</td>\n",
       "      <td>6</td>\n",
       "      <td>7</td>\n",
       "    </tr>\n",
       "    <tr>\n",
       "      <th>1</th>\n",
       "      <td>0</td>\n",
       "      <td>A060001002</td>\n",
       "      <td>A060000001</td>\n",
       "      <td>1</td>\n",
       "      <td>2020-03-24 09:17:14+09:00</td>\n",
       "      <td>7225</td>\n",
       "      <td>8.0</td>\n",
       "      <td>6</td>\n",
       "      <td>7</td>\n",
       "    </tr>\n",
       "    <tr>\n",
       "      <th>2</th>\n",
       "      <td>0</td>\n",
       "      <td>A060001003</td>\n",
       "      <td>A060000001</td>\n",
       "      <td>1</td>\n",
       "      <td>2020-03-24 09:17:22+09:00</td>\n",
       "      <td>7225</td>\n",
       "      <td>7.0</td>\n",
       "      <td>6</td>\n",
       "      <td>7</td>\n",
       "    </tr>\n",
       "    <tr>\n",
       "      <th>3</th>\n",
       "      <td>0</td>\n",
       "      <td>A060001004</td>\n",
       "      <td>A060000001</td>\n",
       "      <td>1</td>\n",
       "      <td>2020-03-24 09:17:29+09:00</td>\n",
       "      <td>7225</td>\n",
       "      <td>7.0</td>\n",
       "      <td>6</td>\n",
       "      <td>7</td>\n",
       "    </tr>\n",
       "    <tr>\n",
       "      <th>4</th>\n",
       "      <td>0</td>\n",
       "      <td>A060001005</td>\n",
       "      <td>A060000001</td>\n",
       "      <td>1</td>\n",
       "      <td>2020-03-24 09:17:36+09:00</td>\n",
       "      <td>7225</td>\n",
       "      <td>11.0</td>\n",
       "      <td>6</td>\n",
       "      <td>7</td>\n",
       "    </tr>\n",
       "    <tr>\n",
       "      <th>...</th>\n",
       "      <td>...</td>\n",
       "      <td>...</td>\n",
       "      <td>...</td>\n",
       "      <td>...</td>\n",
       "      <td>...</td>\n",
       "      <td>...</td>\n",
       "      <td>...</td>\n",
       "      <td>...</td>\n",
       "      <td>...</td>\n",
       "    </tr>\n",
       "    <tr>\n",
       "      <th>259365</th>\n",
       "      <td>7439</td>\n",
       "      <td>A040197006</td>\n",
       "      <td>A040000197</td>\n",
       "      <td>1</td>\n",
       "      <td>2020-08-21 16:39:45+09:00</td>\n",
       "      <td>2132</td>\n",
       "      <td>4721258.0</td>\n",
       "      <td>4</td>\n",
       "      <td>2</td>\n",
       "    </tr>\n",
       "    <tr>\n",
       "      <th>259366</th>\n",
       "      <td>7439</td>\n",
       "      <td>A040130001</td>\n",
       "      <td>A040000130</td>\n",
       "      <td>0</td>\n",
       "      <td>2020-10-15 08:07:23+09:00</td>\n",
       "      <td>8832</td>\n",
       "      <td>18.0</td>\n",
       "      <td>4</td>\n",
       "      <td>8</td>\n",
       "    </tr>\n",
       "    <tr>\n",
       "      <th>259367</th>\n",
       "      <td>7439</td>\n",
       "      <td>A040130002</td>\n",
       "      <td>A040000130</td>\n",
       "      <td>1</td>\n",
       "      <td>2020-10-15 08:07:41+09:00</td>\n",
       "      <td>8832</td>\n",
       "      <td>21.0</td>\n",
       "      <td>4</td>\n",
       "      <td>8</td>\n",
       "    </tr>\n",
       "    <tr>\n",
       "      <th>259368</th>\n",
       "      <td>7439</td>\n",
       "      <td>A040130003</td>\n",
       "      <td>A040000130</td>\n",
       "      <td>1</td>\n",
       "      <td>2020-10-15 08:08:02+09:00</td>\n",
       "      <td>8244</td>\n",
       "      <td>89.0</td>\n",
       "      <td>4</td>\n",
       "      <td>8</td>\n",
       "    </tr>\n",
       "    <tr>\n",
       "      <th>259369</th>\n",
       "      <td>7439</td>\n",
       "      <td>A040130004</td>\n",
       "      <td>A040000130</td>\n",
       "      <td>1</td>\n",
       "      <td>2020-10-15 08:09:31+09:00</td>\n",
       "      <td>8244</td>\n",
       "      <td>32.0</td>\n",
       "      <td>4</td>\n",
       "      <td>8</td>\n",
       "    </tr>\n",
       "  </tbody>\n",
       "</table>\n",
       "<p>2525956 rows × 9 columns</p>\n",
       "</div>"
      ],
      "text/plain": [
       "        userID assessmentItemID      testId  answerCode   \n",
       "0            0       A060001001  A060000001           1  \\\n",
       "1            0       A060001002  A060000001           1   \n",
       "2            0       A060001003  A060000001           1   \n",
       "3            0       A060001004  A060000001           1   \n",
       "4            0       A060001005  A060000001           1   \n",
       "...        ...              ...         ...         ...   \n",
       "259365    7439       A040197006  A040000197           1   \n",
       "259366    7439       A040130001  A040000130           0   \n",
       "259367    7439       A040130002  A040000130           1   \n",
       "259368    7439       A040130003  A040000130           1   \n",
       "259369    7439       A040130004  A040000130           1   \n",
       "\n",
       "                       Timestamp  KnowledgeTag    elapsed  testCode   \n",
       "0      2020-03-24 09:17:11+09:00          7224        3.0         6  \\\n",
       "1      2020-03-24 09:17:14+09:00          7225        8.0         6   \n",
       "2      2020-03-24 09:17:22+09:00          7225        7.0         6   \n",
       "3      2020-03-24 09:17:29+09:00          7225        7.0         6   \n",
       "4      2020-03-24 09:17:36+09:00          7225       11.0         6   \n",
       "...                          ...           ...        ...       ...   \n",
       "259365 2020-08-21 16:39:45+09:00          2132  4721258.0         4   \n",
       "259366 2020-10-15 08:07:23+09:00          8832       18.0         4   \n",
       "259367 2020-10-15 08:07:41+09:00          8832       21.0         4   \n",
       "259368 2020-10-15 08:08:02+09:00          8244       89.0         4   \n",
       "259369 2020-10-15 08:09:31+09:00          8244       32.0         4   \n",
       "\n",
       "        KnowledgeTag_cat  \n",
       "0                      7  \n",
       "1                      7  \n",
       "2                      7  \n",
       "3                      7  \n",
       "4                      7  \n",
       "...                  ...  \n",
       "259365                 2  \n",
       "259366                 8  \n",
       "259367                 8  \n",
       "259368                 8  \n",
       "259369                 8  \n",
       "\n",
       "[2525956 rows x 9 columns]"
      ]
     },
     "execution_count": 34,
     "metadata": {},
     "output_type": "execute_result"
    }
   ],
   "source": [
    "df_tag = df.copy()\n",
    "\n",
    "df_tag['KnowledgeTag_cat'] = df_tag['KnowledgeTag'].apply(tag_map)\n",
    "df_tag"
   ]
  },
  {
   "cell_type": "code",
   "execution_count": 36,
   "metadata": {},
   "outputs": [
    {
     "data": {
      "text/plain": [
       "12"
      ]
     },
     "execution_count": 36,
     "metadata": {},
     "output_type": "execute_result"
    }
   ],
   "source": [
    "df_tag['KnowledgeTag_cat'].nunique()"
   ]
  },
  {
   "attachments": {},
   "cell_type": "markdown",
   "metadata": {},
   "source": [
    "tag에 따른 정답률 분포 확인"
   ]
  },
  {
   "cell_type": "code",
   "execution_count": 38,
   "metadata": {},
   "outputs": [
    {
     "data": {
      "text/html": [
       "<div>\n",
       "<style scoped>\n",
       "    .dataframe tbody tr th:only-of-type {\n",
       "        vertical-align: middle;\n",
       "    }\n",
       "\n",
       "    .dataframe tbody tr th {\n",
       "        vertical-align: top;\n",
       "    }\n",
       "\n",
       "    .dataframe thead th {\n",
       "        text-align: right;\n",
       "    }\n",
       "</style>\n",
       "<table border=\"1\" class=\"dataframe\">\n",
       "  <thead>\n",
       "    <tr style=\"text-align: right;\">\n",
       "      <th></th>\n",
       "      <th>userID</th>\n",
       "      <th>answerCode</th>\n",
       "    </tr>\n",
       "    <tr>\n",
       "      <th>KnowledgeTag_cat</th>\n",
       "      <th></th>\n",
       "      <th></th>\n",
       "    </tr>\n",
       "  </thead>\n",
       "  <tbody>\n",
       "    <tr>\n",
       "      <th>0</th>\n",
       "      <td>440885</td>\n",
       "      <td>0.669835</td>\n",
       "    </tr>\n",
       "    <tr>\n",
       "      <th>1</th>\n",
       "      <td>214833</td>\n",
       "      <td>0.650854</td>\n",
       "    </tr>\n",
       "    <tr>\n",
       "      <th>2</th>\n",
       "      <td>360487</td>\n",
       "      <td>0.637366</td>\n",
       "    </tr>\n",
       "    <tr>\n",
       "      <th>3</th>\n",
       "      <td>88700</td>\n",
       "      <td>0.587542</td>\n",
       "    </tr>\n",
       "    <tr>\n",
       "      <th>4</th>\n",
       "      <td>154291</td>\n",
       "      <td>0.466378</td>\n",
       "    </tr>\n",
       "    <tr>\n",
       "      <th>5</th>\n",
       "      <td>169576</td>\n",
       "      <td>0.659858</td>\n",
       "    </tr>\n",
       "    <tr>\n",
       "      <th>6</th>\n",
       "      <td>118233</td>\n",
       "      <td>0.714462</td>\n",
       "    </tr>\n",
       "    <tr>\n",
       "      <th>7</th>\n",
       "      <td>463802</td>\n",
       "      <td>0.747315</td>\n",
       "    </tr>\n",
       "    <tr>\n",
       "      <th>8</th>\n",
       "      <td>250094</td>\n",
       "      <td>0.673227</td>\n",
       "    </tr>\n",
       "    <tr>\n",
       "      <th>9</th>\n",
       "      <td>137946</td>\n",
       "      <td>0.535608</td>\n",
       "    </tr>\n",
       "    <tr>\n",
       "      <th>10</th>\n",
       "      <td>109962</td>\n",
       "      <td>0.626307</td>\n",
       "    </tr>\n",
       "    <tr>\n",
       "      <th>11</th>\n",
       "      <td>17147</td>\n",
       "      <td>0.612819</td>\n",
       "    </tr>\n",
       "  </tbody>\n",
       "</table>\n",
       "</div>"
      ],
      "text/plain": [
       "                  userID  answerCode\n",
       "KnowledgeTag_cat                    \n",
       "0                 440885    0.669835\n",
       "1                 214833    0.650854\n",
       "2                 360487    0.637366\n",
       "3                  88700    0.587542\n",
       "4                 154291    0.466378\n",
       "5                 169576    0.659858\n",
       "6                 118233    0.714462\n",
       "7                 463802    0.747315\n",
       "8                 250094    0.673227\n",
       "9                 137946    0.535608\n",
       "10                109962    0.626307\n",
       "11                 17147    0.612819"
      ]
     },
     "execution_count": 38,
     "metadata": {},
     "output_type": "execute_result"
    }
   ],
   "source": [
    "tag_groupby = df_tag.groupby('KnowledgeTag_cat').agg({\n",
    "    'userID': 'count',\n",
    "    'answerCode': percentile\n",
    "})\n",
    "tag_groupby"
   ]
  },
  {
   "cell_type": "code",
   "execution_count": 39,
   "metadata": {},
   "outputs": [
    {
     "data": {
      "text/plain": [
       "<matplotlib.legend.Legend at 0x7f1be8eefa50>"
      ]
     },
     "execution_count": 39,
     "metadata": {},
     "output_type": "execute_result"
    },
    {
     "data": {
      "image/png": "[encoded data removed]",
      "text/plain": [
       "<Figure size 640x480 with 1 Axes>"
      ]
     },
     "metadata": {},
     "output_type": "display_data"
    }
   ],
   "source": [
    "# tag에 대분류에 따른 정답률 그래프\n",
    "g = sns.scatterplot(\n",
    "    data=tag_groupby,\n",
    "    x='KnowledgeTag_cat',\n",
    "    y='answerCode',\n",
    "    s = 200,\n",
    "    hue = 'answerCode',\n",
    "    palette = 'winter'\n",
    ")\n",
    "ax = plt.gca()\n",
    "ax.set_title('Tag # - Answer Rate')\n",
    "ax.legend(loc='upper right', bbox_to_anchor=(1.3, 1))"
   ]
  },
  {
   "attachments": {},
   "cell_type": "markdown",
   "metadata": {},
   "source": [
    "특정 유형 (4)은 비교적 낮은 정답률을, 특정 유형(7)은 비교적 높은 정답률을 보이는 것으로 보여진다."
   ]
  },
  {
   "attachments": {},
   "cell_type": "markdown",
   "metadata": {},
   "source": [
    "## testcode + knowledgetag"
   ]
  },
  {
   "cell_type": "code",
   "execution_count": 40,
   "metadata": {},
   "outputs": [
    {
     "data": {
      "text/plain": [
       "KnowledgeTag_cat  testCode\n",
       "0                 3           0.697570\n",
       "                  5           0.658997\n",
       "                  6           0.679022\n",
       "                  7           0.565760\n",
       "                  8           0.579117\n",
       "                  9           0.475952\n",
       "1                 3           0.718577\n",
       "                  6           0.746007\n",
       "                  7           0.496596\n",
       "                  8           0.551092\n",
       "                  9           0.471705\n",
       "2                 4           0.675058\n",
       "                  5           0.642791\n",
       "                  8           0.491956\n",
       "                  9           0.466955\n",
       "3                 5           0.615919\n",
       "                  7           0.517222\n",
       "                  8           0.596000\n",
       "4                 7           0.509412\n",
       "                  8           0.469809\n",
       "                  9           0.445201\n",
       "5                 1           0.858432\n",
       "                  5           0.671061\n",
       "                  7           0.525278\n",
       "                  9           0.455196\n",
       "6                 1           0.787687\n",
       "                  7           0.481202\n",
       "7                 1           0.797993\n",
       "                  2           0.728840\n",
       "                  3           0.698402\n",
       "                  4           0.832895\n",
       "                  6           0.799423\n",
       "                  7           0.567718\n",
       "                  8           0.518437\n",
       "8                 2           0.747190\n",
       "                  4           0.720807\n",
       "                  7           0.554176\n",
       "                  8           0.526147\n",
       "9                 6           0.801430\n",
       "                  7           0.509533\n",
       "                  8           0.438211\n",
       "                  9           0.454516\n",
       "10                4           0.729262\n",
       "                  5           0.720977\n",
       "                  6           0.692348\n",
       "                  7           0.541796\n",
       "                  8           0.494100\n",
       "                  9           0.434851\n",
       "11                4           0.612819\n",
       "Name: answerCode, dtype: float64"
      ]
     },
     "execution_count": 40,
     "metadata": {},
     "output_type": "execute_result"
    }
   ],
   "source": [
    "tag_lv_groupby = df_tag.groupby(['KnowledgeTag_cat', 'testCode'])['answerCode'].apply(percentile)\n",
    "tag_lv_groupby.sort_index(inplace=True)\n",
    "\n",
    "tag_lv_groupby"
   ]
  },
  {
   "attachments": {},
   "cell_type": "markdown",
   "metadata": {},
   "source": [
    "tag와 testcode 대분류에 따른 정답률 그래프"
   ]
  },
  {
   "cell_type": "code",
   "execution_count": 41,
   "metadata": {},
   "outputs": [
    {
     "data": {
      "text/plain": [
       "<matplotlib.legend.Legend at 0x7f1beeaac590>"
      ]
     },
     "execution_count": 41,
     "metadata": {},
     "output_type": "execute_result"
    },
    {
     "data": {
      "image/png": "[encoded data removed]",
      "text/plain": [
       "<Figure size 640x480 with 1 Axes>"
      ]
     },
     "metadata": {},
     "output_type": "display_data"
    }
   ],
   "source": [
    "# 점의 크기 범위 설정\n",
    "size_range = (10, 500)\n",
    "\n",
    "# 점의 크기를 정확도 값에 비례하여 계산\n",
    "point_size = size_range[0] + (size_range[1] - size_range[0]) * tag_lv_groupby\n",
    "\n",
    "g = sns.scatterplot(\n",
    "    data=tag_lv_groupby,\n",
    "    x='KnowledgeTag_cat',\n",
    "    y='testCode',\n",
    "    s = point_size,\n",
    "    hue = tag_lv_groupby,\n",
    "    palette = 'winter',\n",
    "    legend = 'brief'\n",
    ")\n",
    "ax = plt.gca()\n",
    "ax.set_title('Tag # - testcode #')\n",
    "ax.legend(loc='upper right', bbox_to_anchor=(1.3, 1))"
   ]
  },
  {
   "attachments": {},
   "cell_type": "markdown",
   "metadata": {},
   "source": [
    "## 기타"
   ]
  },
  {
   "attachments": {},
   "cell_type": "markdown",
   "metadata": {},
   "source": [
    "### testcode를 더 크게 범주화"
   ]
  },
  {
   "cell_type": "code",
   "execution_count": 29,
   "metadata": {},
   "outputs": [],
   "source": [
    "def big_testcode_map(x:int) -> int:\n",
    "    x = (x-1) // 3\n",
    "    return x"
   ]
  },
  {
   "cell_type": "code",
   "execution_count": 30,
   "metadata": {},
   "outputs": [
    {
     "data": {
      "text/html": [
       "<div>\n",
       "<style scoped>\n",
       "    .dataframe tbody tr th:only-of-type {\n",
       "        vertical-align: middle;\n",
       "    }\n",
       "\n",
       "    .dataframe tbody tr th {\n",
       "        vertical-align: top;\n",
       "    }\n",
       "\n",
       "    .dataframe thead th {\n",
       "        text-align: right;\n",
       "    }\n",
       "</style>\n",
       "<table border=\"1\" class=\"dataframe\">\n",
       "  <thead>\n",
       "    <tr style=\"text-align: right;\">\n",
       "      <th></th>\n",
       "      <th>userID</th>\n",
       "      <th>assessmentItemID</th>\n",
       "      <th>testId</th>\n",
       "      <th>answerCode</th>\n",
       "      <th>Timestamp</th>\n",
       "      <th>KnowledgeTag</th>\n",
       "      <th>elapsed</th>\n",
       "      <th>testCode</th>\n",
       "      <th>bigtestCode</th>\n",
       "    </tr>\n",
       "  </thead>\n",
       "  <tbody>\n",
       "    <tr>\n",
       "      <th>0</th>\n",
       "      <td>0</td>\n",
       "      <td>A060001001</td>\n",
       "      <td>A060000001</td>\n",
       "      <td>1</td>\n",
       "      <td>2020-03-24 09:17:11+09:00</td>\n",
       "      <td>7224</td>\n",
       "      <td>3.0</td>\n",
       "      <td>6</td>\n",
       "      <td>1</td>\n",
       "    </tr>\n",
       "    <tr>\n",
       "      <th>1</th>\n",
       "      <td>0</td>\n",
       "      <td>A060001002</td>\n",
       "      <td>A060000001</td>\n",
       "      <td>1</td>\n",
       "      <td>2020-03-24 09:17:14+09:00</td>\n",
       "      <td>7225</td>\n",
       "      <td>8.0</td>\n",
       "      <td>6</td>\n",
       "      <td>1</td>\n",
       "    </tr>\n",
       "    <tr>\n",
       "      <th>2</th>\n",
       "      <td>0</td>\n",
       "      <td>A060001003</td>\n",
       "      <td>A060000001</td>\n",
       "      <td>1</td>\n",
       "      <td>2020-03-24 09:17:22+09:00</td>\n",
       "      <td>7225</td>\n",
       "      <td>7.0</td>\n",
       "      <td>6</td>\n",
       "      <td>1</td>\n",
       "    </tr>\n",
       "    <tr>\n",
       "      <th>3</th>\n",
       "      <td>0</td>\n",
       "      <td>A060001004</td>\n",
       "      <td>A060000001</td>\n",
       "      <td>1</td>\n",
       "      <td>2020-03-24 09:17:29+09:00</td>\n",
       "      <td>7225</td>\n",
       "      <td>7.0</td>\n",
       "      <td>6</td>\n",
       "      <td>1</td>\n",
       "    </tr>\n",
       "    <tr>\n",
       "      <th>4</th>\n",
       "      <td>0</td>\n",
       "      <td>A060001005</td>\n",
       "      <td>A060000001</td>\n",
       "      <td>1</td>\n",
       "      <td>2020-03-24 09:17:36+09:00</td>\n",
       "      <td>7225</td>\n",
       "      <td>11.0</td>\n",
       "      <td>6</td>\n",
       "      <td>1</td>\n",
       "    </tr>\n",
       "    <tr>\n",
       "      <th>...</th>\n",
       "      <td>...</td>\n",
       "      <td>...</td>\n",
       "      <td>...</td>\n",
       "      <td>...</td>\n",
       "      <td>...</td>\n",
       "      <td>...</td>\n",
       "      <td>...</td>\n",
       "      <td>...</td>\n",
       "      <td>...</td>\n",
       "    </tr>\n",
       "    <tr>\n",
       "      <th>259365</th>\n",
       "      <td>7439</td>\n",
       "      <td>A040197006</td>\n",
       "      <td>A040000197</td>\n",
       "      <td>1</td>\n",
       "      <td>2020-08-21 16:39:45+09:00</td>\n",
       "      <td>2132</td>\n",
       "      <td>4721258.0</td>\n",
       "      <td>4</td>\n",
       "      <td>1</td>\n",
       "    </tr>\n",
       "    <tr>\n",
       "      <th>259366</th>\n",
       "      <td>7439</td>\n",
       "      <td>A040130001</td>\n",
       "      <td>A040000130</td>\n",
       "      <td>0</td>\n",
       "      <td>2020-10-15 08:07:23+09:00</td>\n",
       "      <td>8832</td>\n",
       "      <td>18.0</td>\n",
       "      <td>4</td>\n",
       "      <td>1</td>\n",
       "    </tr>\n",
       "    <tr>\n",
       "      <th>259367</th>\n",
       "      <td>7439</td>\n",
       "      <td>A040130002</td>\n",
       "      <td>A040000130</td>\n",
       "      <td>1</td>\n",
       "      <td>2020-10-15 08:07:41+09:00</td>\n",
       "      <td>8832</td>\n",
       "      <td>21.0</td>\n",
       "      <td>4</td>\n",
       "      <td>1</td>\n",
       "    </tr>\n",
       "    <tr>\n",
       "      <th>259368</th>\n",
       "      <td>7439</td>\n",
       "      <td>A040130003</td>\n",
       "      <td>A040000130</td>\n",
       "      <td>1</td>\n",
       "      <td>2020-10-15 08:08:02+09:00</td>\n",
       "      <td>8244</td>\n",
       "      <td>89.0</td>\n",
       "      <td>4</td>\n",
       "      <td>1</td>\n",
       "    </tr>\n",
       "    <tr>\n",
       "      <th>259369</th>\n",
       "      <td>7439</td>\n",
       "      <td>A040130004</td>\n",
       "      <td>A040000130</td>\n",
       "      <td>1</td>\n",
       "      <td>2020-10-15 08:09:31+09:00</td>\n",
       "      <td>8244</td>\n",
       "      <td>32.0</td>\n",
       "      <td>4</td>\n",
       "      <td>1</td>\n",
       "    </tr>\n",
       "  </tbody>\n",
       "</table>\n",
       "<p>2525956 rows × 9 columns</p>\n",
       "</div>"
      ],
      "text/plain": [
       "        userID assessmentItemID      testId  answerCode   \n",
       "0            0       A060001001  A060000001           1  \\\n",
       "1            0       A060001002  A060000001           1   \n",
       "2            0       A060001003  A060000001           1   \n",
       "3            0       A060001004  A060000001           1   \n",
       "4            0       A060001005  A060000001           1   \n",
       "...        ...              ...         ...         ...   \n",
       "259365    7439       A040197006  A040000197           1   \n",
       "259366    7439       A040130001  A040000130           0   \n",
       "259367    7439       A040130002  A040000130           1   \n",
       "259368    7439       A040130003  A040000130           1   \n",
       "259369    7439       A040130004  A040000130           1   \n",
       "\n",
       "                       Timestamp  KnowledgeTag    elapsed  testCode   \n",
       "0      2020-03-24 09:17:11+09:00          7224        3.0         6  \\\n",
       "1      2020-03-24 09:17:14+09:00          7225        8.0         6   \n",
       "2      2020-03-24 09:17:22+09:00          7225        7.0         6   \n",
       "3      2020-03-24 09:17:29+09:00          7225        7.0         6   \n",
       "4      2020-03-24 09:17:36+09:00          7225       11.0         6   \n",
       "...                          ...           ...        ...       ...   \n",
       "259365 2020-08-21 16:39:45+09:00          2132  4721258.0         4   \n",
       "259366 2020-10-15 08:07:23+09:00          8832       18.0         4   \n",
       "259367 2020-10-15 08:07:41+09:00          8832       21.0         4   \n",
       "259368 2020-10-15 08:08:02+09:00          8244       89.0         4   \n",
       "259369 2020-10-15 08:09:31+09:00          8244       32.0         4   \n",
       "\n",
       "        bigtestCode  \n",
       "0                 1  \n",
       "1                 1  \n",
       "2                 1  \n",
       "3                 1  \n",
       "4                 1  \n",
       "...             ...  \n",
       "259365            1  \n",
       "259366            1  \n",
       "259367            1  \n",
       "259368            1  \n",
       "259369            1  \n",
       "\n",
       "[2525956 rows x 9 columns]"
      ]
     },
     "execution_count": 30,
     "metadata": {},
     "output_type": "execute_result"
    }
   ],
   "source": [
    "df_bigcode = df.copy()\n",
    "\n",
    "df_bigcode['bigtestCode'] = df_bigcode['testCode'].apply(big_testcode_map)\n",
    "df_bigcode"
   ]
  },
  {
   "cell_type": "code",
   "execution_count": 31,
   "metadata": {},
   "outputs": [
    {
     "data": {
      "text/html": [
       "<div>\n",
       "<style scoped>\n",
       "    .dataframe tbody tr th:only-of-type {\n",
       "        vertical-align: middle;\n",
       "    }\n",
       "\n",
       "    .dataframe tbody tr th {\n",
       "        vertical-align: top;\n",
       "    }\n",
       "\n",
       "    .dataframe thead th {\n",
       "        text-align: right;\n",
       "    }\n",
       "</style>\n",
       "<table border=\"1\" class=\"dataframe\">\n",
       "  <thead>\n",
       "    <tr style=\"text-align: right;\">\n",
       "      <th></th>\n",
       "      <th>bigtestCode</th>\n",
       "      <th>answerCode</th>\n",
       "      <th>assessmentItemID</th>\n",
       "    </tr>\n",
       "  </thead>\n",
       "  <tbody>\n",
       "    <tr>\n",
       "      <th>0</th>\n",
       "      <td>0</td>\n",
       "      <td>0.747388</td>\n",
       "      <td>3057</td>\n",
       "    </tr>\n",
       "    <tr>\n",
       "      <th>1</th>\n",
       "      <td>1</td>\n",
       "      <td>0.683586</td>\n",
       "      <td>3510</td>\n",
       "    </tr>\n",
       "    <tr>\n",
       "      <th>2</th>\n",
       "      <td>2</td>\n",
       "      <td>0.501555</td>\n",
       "      <td>2887</td>\n",
       "    </tr>\n",
       "  </tbody>\n",
       "</table>\n",
       "</div>"
      ],
      "text/plain": [
       "   bigtestCode  answerCode  assessmentItemID\n",
       "0            0    0.747388              3057\n",
       "1            1    0.683586              3510\n",
       "2            2    0.501555              2887"
      ]
     },
     "execution_count": 31,
     "metadata": {},
     "output_type": "execute_result"
    }
   ],
   "source": [
    "bigcode_groupby = df_bigcode.groupby('bigtestCode').agg({'answerCode' : percentile, 'assessmentItemID': 'nunique'})\n",
    "bigcode_groupby = bigcode_groupby.reset_index()\n",
    "\n",
    "bigcode_groupby"
   ]
  },
  {
   "cell_type": "code",
   "execution_count": 32,
   "metadata": {},
   "outputs": [
    {
     "data": {
      "text/plain": [
       "[Text(0.5, 1.0, 'Answer Rate by Big Test Code')]"
      ]
     },
     "execution_count": 32,
     "metadata": {},
     "output_type": "execute_result"
    },
    {
     "data": {
      "image/png": "[encoded data removed]",
      "text/plain": [
       "<Figure size 640x480 with 1 Axes>"
      ]
     },
     "metadata": {},
     "output_type": "display_data"
    }
   ],
   "source": [
    "sns.barplot(x='bigtestCode', y='answerCode', data=bigcode_groupby, palette='winter').set(title='Answer Rate by Big Test Code')"
   ]
  },
  {
   "attachments": {},
   "cell_type": "markdown",
   "metadata": {},
   "source": []
  }
 ],
 "metadata": {
  "kernelspec": {
   "display_name": "base",
   "language": "python",
   "name": "python3"
  },
  "language_info": {
   "codemirror_mode": {
    "name": "ipython",
    "version": 3
   },
   "file_extension": ".py",
   "mimetype": "text/x-python",
   "name": "python",
   "nbconvert_exporter": "python",
   "pygments_lexer": "ipython3",
   "version": "3.11.3"
  },
  "orig_nbformat": 4
 },
 "nbformat": 4,
 "nbformat_minor": 2
}
