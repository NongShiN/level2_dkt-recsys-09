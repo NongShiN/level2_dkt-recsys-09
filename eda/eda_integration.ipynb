{
 "cells": [
  {
   "cell_type": "code",
   "execution_count": 3,
   "metadata": {},
   "outputs": [],
   "source": [
    "import pandas as pd\n",
    "import numpy as np\n",
    "# import ydata_profiling\n",
    "from datetime import datetime\n",
    "import matplotlib.pyplot as plt\n",
    "import seaborn as sns\n",
    "import os\n",
    "from math import pi\n",
    "from matplotlib.path import Path\n",
    "from matplotlib.spines import Spine\n",
    "from matplotlib.transforms import Affine2D\n",
    "import json\n",
    "\n",
    "import warnings\n",
    "warnings.filterwarnings('ignore')"
   ]
  },
  {
   "attachments": {},
   "cell_type": "markdown",
   "metadata": {},
   "source": [
    "## 공통 전처리"
   ]
  },
  {
   "cell_type": "code",
   "execution_count": null,
   "metadata": {},
   "outputs": [],
   "source": []
  },
  {
   "cell_type": "code",
   "execution_count": 4,
   "metadata": {},
   "outputs": [
    {
     "name": "stdout",
     "output_type": "stream",
     "text": [
      "CPU times: user 9.8 s, sys: 716 ms, total: 10.5 s\n",
      "Wall time: 10.5 s\n"
     ]
    }
   ],
   "source": [
    "%%time\n",
    "dtype = {\n",
    "    'userID': 'int16',\n",
    "    'answerCode': 'int8',\n",
    "    'KnowledgeTag': 'int16'\n",
    "}   \n",
    "\n",
    "# data set load\n",
    "DATA_PATH = '/opt/ml/input/data'\n",
    "train_path = os.path.join(DATA_PATH, 'train_data.csv')\n",
    "test_path = os.path.join(DATA_PATH, 'test_data.csv')\n",
    "\n",
    "train_df = pd.read_csv(train_path, dtype=dtype, parse_dates=['Timestamp'])\n",
    "test_df = pd.read_csv(test_path, dtype=dtype, parse_dates=['Timestamp'])\n",
    "\n",
    "diff_train = train_df.loc[:, ['userID', 'Timestamp']].groupby('userID').diff().shift(-1)\n",
    "\n",
    "# total_seconds(): 모든 속성을 초단위로 모아서 변환\n",
    "diff_train = diff_train['Timestamp'].apply(lambda x: x.total_seconds())\n",
    "\n",
    "train_df['elapsed'] = diff_train\n",
    "\n",
    "\n",
    "\n",
    "test_df = pd.read_csv('/opt/ml/input/data/test_data.csv', dtype=dtype, parse_dates=['Timestamp'])\n",
    "\n",
    "\n",
    "diff_test = test_df.loc[:, ['userID', 'Timestamp']].groupby('userID').diff().shift(-1)\n",
    "\n",
    "# total_seconds(): 모든 속성을 초단위로 모아서 변환\n",
    "diff_test = diff_test['Timestamp'].apply(lambda x: x.total_seconds())\n",
    "\n",
    "test_df['elapsed'] = diff_test\n",
    "test_df = test_df[test_df['answerCode'] != -1]\n",
    "test_df = test_df.sort_values(by=['userID', 'Timestamp']).reset_index(drop=True)\n",
    "\n",
    "\n",
    "df = pd.concat([train_df, test_df])\n",
    "# df = df.drop(df[df['answerCode']== -1].index) # answerCode = -1 는 예측해야하는 값이므로 제외'Affine\n",
    "\n",
    "import pytz\n",
    "kst = pytz.timezone('Asia/Seoul')\n",
    "df['Timestamp'] = df['Timestamp'].dt.tz_localize('UTC').dt.tz_convert(kst)"
   ]
  },
  {
   "cell_type": "code",
   "execution_count": 5,
   "metadata": {},
   "outputs": [
    {
     "data": {
      "text/html": [
       "<div>\n",
       "<style scoped>\n",
       "    .dataframe tbody tr th:only-of-type {\n",
       "        vertical-align: middle;\n",
       "    }\n",
       "\n",
       "    .dataframe tbody tr th {\n",
       "        vertical-align: top;\n",
       "    }\n",
       "\n",
       "    .dataframe thead th {\n",
       "        text-align: right;\n",
       "    }\n",
       "</style>\n",
       "<table border=\"1\" class=\"dataframe\">\n",
       "  <thead>\n",
       "    <tr style=\"text-align: right;\">\n",
       "      <th></th>\n",
       "      <th>userID</th>\n",
       "      <th>assessmentItemID</th>\n",
       "      <th>testId</th>\n",
       "      <th>answerCode</th>\n",
       "      <th>Timestamp</th>\n",
       "      <th>KnowledgeTag</th>\n",
       "      <th>elapsed</th>\n",
       "    </tr>\n",
       "  </thead>\n",
       "  <tbody>\n",
       "    <tr>\n",
       "      <th>0</th>\n",
       "      <td>0</td>\n",
       "      <td>A060001001</td>\n",
       "      <td>A060000001</td>\n",
       "      <td>1</td>\n",
       "      <td>2020-03-24 09:17:11+09:00</td>\n",
       "      <td>7224</td>\n",
       "      <td>3.0</td>\n",
       "    </tr>\n",
       "    <tr>\n",
       "      <th>1</th>\n",
       "      <td>0</td>\n",
       "      <td>A060001002</td>\n",
       "      <td>A060000001</td>\n",
       "      <td>1</td>\n",
       "      <td>2020-03-24 09:17:14+09:00</td>\n",
       "      <td>7225</td>\n",
       "      <td>8.0</td>\n",
       "    </tr>\n",
       "    <tr>\n",
       "      <th>2</th>\n",
       "      <td>0</td>\n",
       "      <td>A060001003</td>\n",
       "      <td>A060000001</td>\n",
       "      <td>1</td>\n",
       "      <td>2020-03-24 09:17:22+09:00</td>\n",
       "      <td>7225</td>\n",
       "      <td>7.0</td>\n",
       "    </tr>\n",
       "    <tr>\n",
       "      <th>3</th>\n",
       "      <td>0</td>\n",
       "      <td>A060001004</td>\n",
       "      <td>A060000001</td>\n",
       "      <td>1</td>\n",
       "      <td>2020-03-24 09:17:29+09:00</td>\n",
       "      <td>7225</td>\n",
       "      <td>7.0</td>\n",
       "    </tr>\n",
       "    <tr>\n",
       "      <th>4</th>\n",
       "      <td>0</td>\n",
       "      <td>A060001005</td>\n",
       "      <td>A060000001</td>\n",
       "      <td>1</td>\n",
       "      <td>2020-03-24 09:17:36+09:00</td>\n",
       "      <td>7225</td>\n",
       "      <td>11.0</td>\n",
       "    </tr>\n",
       "    <tr>\n",
       "      <th>...</th>\n",
       "      <td>...</td>\n",
       "      <td>...</td>\n",
       "      <td>...</td>\n",
       "      <td>...</td>\n",
       "      <td>...</td>\n",
       "      <td>...</td>\n",
       "      <td>...</td>\n",
       "    </tr>\n",
       "    <tr>\n",
       "      <th>259365</th>\n",
       "      <td>7439</td>\n",
       "      <td>A040197006</td>\n",
       "      <td>A040000197</td>\n",
       "      <td>1</td>\n",
       "      <td>2020-08-21 16:39:45+09:00</td>\n",
       "      <td>2132</td>\n",
       "      <td>4721258.0</td>\n",
       "    </tr>\n",
       "    <tr>\n",
       "      <th>259366</th>\n",
       "      <td>7439</td>\n",
       "      <td>A040130001</td>\n",
       "      <td>A040000130</td>\n",
       "      <td>0</td>\n",
       "      <td>2020-10-15 08:07:23+09:00</td>\n",
       "      <td>8832</td>\n",
       "      <td>18.0</td>\n",
       "    </tr>\n",
       "    <tr>\n",
       "      <th>259367</th>\n",
       "      <td>7439</td>\n",
       "      <td>A040130002</td>\n",
       "      <td>A040000130</td>\n",
       "      <td>1</td>\n",
       "      <td>2020-10-15 08:07:41+09:00</td>\n",
       "      <td>8832</td>\n",
       "      <td>21.0</td>\n",
       "    </tr>\n",
       "    <tr>\n",
       "      <th>259368</th>\n",
       "      <td>7439</td>\n",
       "      <td>A040130003</td>\n",
       "      <td>A040000130</td>\n",
       "      <td>1</td>\n",
       "      <td>2020-10-15 08:08:02+09:00</td>\n",
       "      <td>8244</td>\n",
       "      <td>89.0</td>\n",
       "    </tr>\n",
       "    <tr>\n",
       "      <th>259369</th>\n",
       "      <td>7439</td>\n",
       "      <td>A040130004</td>\n",
       "      <td>A040000130</td>\n",
       "      <td>1</td>\n",
       "      <td>2020-10-15 08:09:31+09:00</td>\n",
       "      <td>8244</td>\n",
       "      <td>32.0</td>\n",
       "    </tr>\n",
       "  </tbody>\n",
       "</table>\n",
       "<p>2525956 rows × 7 columns</p>\n",
       "</div>"
      ],
      "text/plain": [
       "        userID assessmentItemID      testId  answerCode   \n",
       "0            0       A060001001  A060000001           1  \\\n",
       "1            0       A060001002  A060000001           1   \n",
       "2            0       A060001003  A060000001           1   \n",
       "3            0       A060001004  A060000001           1   \n",
       "4            0       A060001005  A060000001           1   \n",
       "...        ...              ...         ...         ...   \n",
       "259365    7439       A040197006  A040000197           1   \n",
       "259366    7439       A040130001  A040000130           0   \n",
       "259367    7439       A040130002  A040000130           1   \n",
       "259368    7439       A040130003  A040000130           1   \n",
       "259369    7439       A040130004  A040000130           1   \n",
       "\n",
       "                       Timestamp  KnowledgeTag    elapsed  \n",
       "0      2020-03-24 09:17:11+09:00          7224        3.0  \n",
       "1      2020-03-24 09:17:14+09:00          7225        8.0  \n",
       "2      2020-03-24 09:17:22+09:00          7225        7.0  \n",
       "3      2020-03-24 09:17:29+09:00          7225        7.0  \n",
       "4      2020-03-24 09:17:36+09:00          7225       11.0  \n",
       "...                          ...           ...        ...  \n",
       "259365 2020-08-21 16:39:45+09:00          2132  4721258.0  \n",
       "259366 2020-10-15 08:07:23+09:00          8832       18.0  \n",
       "259367 2020-10-15 08:07:41+09:00          8832       21.0  \n",
       "259368 2020-10-15 08:08:02+09:00          8244       89.0  \n",
       "259369 2020-10-15 08:09:31+09:00          8244       32.0  \n",
       "\n",
       "[2525956 rows x 7 columns]"
      ]
     },
     "execution_count": 5,
     "metadata": {},
     "output_type": "execute_result"
    }
   ],
   "source": [
    "df"
   ]
  },
  {
   "attachments": {},
   "cell_type": "markdown",
   "metadata": {},
   "source": [
    "## Overview"
   ]
  },
  {
   "attachments": {},
   "cell_type": "markdown",
   "metadata": {},
   "source": [
    "+ `userID` 사용자의 고유 번호입니다. 총 7,442명의 학생이 있습니다.   \n",
    "+ `assessmentItemID` 사용자가 푼 문항의 일련 번호입니다.   \n",
    "+ `testId` 사용자가 푼 문항이 포함된 시험지의 일련 번호입니다.   \n",
    "+ `answerCode` 사용자가 푼 문항의 정답 여부를 담고 있는 이진 (0/1) 데이터입니다.   \n",
    "+ `Timestamp` 사용자가 문항을 푼 시간 정보입니다.   \n",
    "+ `KnowledgeTag` 사용자가 푼 문항의 고유 태그가 담겨져 있습니다."
   ]
  },
  {
   "attachments": {},
   "cell_type": "markdown",
   "metadata": {},
   "source": [
    "## 이상치 파악"
   ]
  },
  {
   "attachments": {},
   "cell_type": "markdown",
   "metadata": {},
   "source": [
    "## assessmentitem Id / test Id [희원, 찬웅]"
   ]
  },
  {
   "attachments": {},
   "cell_type": "markdown",
   "metadata": {},
   "source": [
    "### 문제번호에 따른 정답"
   ]
  },
  {
   "attachments": {},
   "cell_type": "markdown",
   "metadata": {},
   "source": [
    "### testcode"
   ]
  },
  {
   "attachments": {},
   "cell_type": "markdown",
   "metadata": {},
   "source": [
    "## timestamp [현정, 희만, … ]"
   ]
  },
  {
   "attachments": {},
   "cell_type": "markdown",
   "metadata": {},
   "source": [
    "## knowledgetag"
   ]
  },
  {
   "attachments": {},
   "cell_type": "markdown",
   "metadata": {},
   "source": [
    "### baseline에서더 많이 노출된 태그가 정답률이 더 높은가?"
   ]
  },
  {
   "attachments": {},
   "cell_type": "markdown",
   "metadata": {},
   "source": [
    "## testcode + knowledgetag"
   ]
  },
  {
   "attachments": {},
   "cell_type": "markdown",
   "metadata": {},
   "source": [
    "## 기타"
   ]
  },
  {
   "attachments": {},
   "cell_type": "markdown",
   "metadata": {},
   "source": []
  }
 ],
 "metadata": {
  "kernelspec": {
   "display_name": "base",
   "language": "python",
   "name": "python3"
  },
  "language_info": {
   "codemirror_mode": {
    "name": "ipython",
    "version": 3
   },
   "file_extension": ".py",
   "mimetype": "text/x-python",
   "name": "python",
   "nbconvert_exporter": "python",
   "pygments_lexer": "ipython3",
   "version": "3.8.5"
  },
  "orig_nbformat": 4
 },
 "nbformat": 4,
 "nbformat_minor": 2
}
